{
 "cells": [
  {
   "cell_type": "code",
   "execution_count": null,
   "metadata": {},
   "outputs": [],
   "source": [
    "import typing\n",
    "import pandas as pd\n"
   ]
  },
  {
   "cell_type": "code",
   "execution_count": null,
   "metadata": {},
   "outputs": [],
   "source": [
    "number = typing.Union[int, float]\n",
    "\n",
    "\n",
    "def add(first: int, second: int) -> int:\n",
    "    return first + second\n",
    "\n",
    "\n",
    "def add_numbers(first: number, second: number) -> number:\n",
    "    print(type(first), type(second))\n",
    "    return first + second\n",
    "\n",
    "\n",
    "def sum_up(vals: list[int]):\n",
    "    total: int = 0\n",
    "    for val in vals:\n",
    "        total += val\n",
    "    return total\n"
   ]
  },
  {
   "cell_type": "code",
   "execution_count": null,
   "metadata": {},
   "outputs": [],
   "source": [
    "add(1, 2)\n",
    "add(1, 3.1)\n",
    "add(1, \"two\")\n"
   ]
  },
  {
   "cell_type": "code",
   "execution_count": null,
   "metadata": {},
   "outputs": [],
   "source": [
    "val = \"1\"\n",
    "\n",
    "result = add_numbers(1, 2)\n",
    "val = add_numbers(1, 3.1)\n",
    "add_numbers(1, \"two\")\n"
   ]
  },
  {
   "cell_type": "code",
   "execution_count": null,
   "metadata": {},
   "outputs": [],
   "source": [
    "class Dog:\n",
    "    def __init__(self, name: str, color: str, age: int):\n",
    "        self.name = name\n",
    "        self.color = color\n",
    "        self.age = age\n",
    "\n",
    "\n",
    "def print_dog(dog: Dog):\n",
    "    print(dog.name + \" is a \" + dog.age + \" year old \" + dog.color + \" dog\")\n"
   ]
  },
  {
   "cell_type": "code",
   "execution_count": null,
   "metadata": {},
   "outputs": [],
   "source": [
    "print_dog(Dog(\"fido\", 2, \"brown\"))\n"
   ]
  },
  {
   "cell_type": "code",
   "execution_count": null,
   "metadata": {},
   "outputs": [],
   "source": [
    "d = Dog(\"fido\", \"brown\", 2)\n",
    "print_dog(d)\n"
   ]
  },
  {
   "cell_type": "code",
   "execution_count": null,
   "metadata": {},
   "outputs": [],
   "source": [
    "def clean_dataframe(df: pd.DataFrame, fill_val: str) -> pd.DataFrame:\n",
    "    return df.fillna(value=fill_val)\n",
    "\n",
    "\n",
    "def count_children(df: pd.DataFrame, max_age: int = 18) -> int:\n",
    "    return sum(df.age <= max_age)\n"
   ]
  },
  {
   "cell_type": "code",
   "execution_count": null,
   "metadata": {},
   "outputs": [],
   "source": [
    "roster = pd.DataFrame({\"name\": [\"alice\", \"bob\", None], \"age\": [28, 12, 23]})\n",
    "roster"
   ]
  },
  {
   "cell_type": "code",
   "execution_count": null,
   "metadata": {},
   "outputs": [],
   "source": [
    "just_children = count_children(roster)\n",
    "just_children"
   ]
  },
  {
   "cell_type": "code",
   "execution_count": null,
   "metadata": {},
   "outputs": [],
   "source": [
    "just_children = clean_dataframe(just_children, \"Unk\")\n",
    "just_children"
   ]
  },
  {
   "cell_type": "code",
   "execution_count": null,
   "metadata": {},
   "outputs": [],
   "source": []
  },
  {
   "cell_type": "code",
   "execution_count": null,
   "metadata": {},
   "outputs": [],
   "source": []
  },
  {
   "cell_type": "code",
   "execution_count": null,
   "metadata": {},
   "outputs": [],
   "source": []
  },
  {
   "cell_type": "code",
   "execution_count": null,
   "metadata": {},
   "outputs": [],
   "source": []
  },
  {
   "cell_type": "code",
   "execution_count": null,
   "metadata": {},
   "outputs": [],
   "source": []
  }
 ],
 "metadata": {
  "language_info": {
   "name": "python"
  },
  "orig_nbformat": 4
 },
 "nbformat": 4,
 "nbformat_minor": 2
}
