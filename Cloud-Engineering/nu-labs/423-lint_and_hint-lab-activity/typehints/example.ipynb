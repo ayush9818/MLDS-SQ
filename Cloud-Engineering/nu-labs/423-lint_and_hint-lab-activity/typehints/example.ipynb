{
 "cells": [
  {
   "cell_type": "code",
   "execution_count": null,
   "metadata": {},
   "outputs": [],
   "source": [
    "from itertools import count\n",
    "import pandas as pd"
   ]
  },
  {
   "cell_type": "code",
   "execution_count": null,
   "metadata": {},
   "outputs": [],
   "source": [
    "def add(first, second):\n",
    "    return first + second\n",
    "\n",
    "\n",
    "def add_numbers(first, second):\n",
    "    print(type(first), type(second))\n",
    "    return first + second\n",
    "\n",
    "\n",
    "def sum_up(vals):\n",
    "    total = 0\n",
    "    for val in vals:\n",
    "        total += val\n",
    "    return total\n"
   ]
  },
  {
   "cell_type": "code",
   "execution_count": null,
   "metadata": {},
   "outputs": [],
   "source": [
    "add(1, 2)\n",
    "add(1, 3.1)\n",
    "add(1, \"two\")\n"
   ]
  },
  {
   "cell_type": "code",
   "execution_count": null,
   "metadata": {},
   "outputs": [],
   "source": [
    "add_numbers(1, 2)\n",
    "add_numbers(1, 3.1)\n",
    "add_numbers(1, \"two\")\n"
   ]
  },
  {
   "cell_type": "code",
   "execution_count": null,
   "metadata": {},
   "outputs": [],
   "source": [
    "class Dog:\n",
    "    def __init__(self, name, color, age):\n",
    "        self.name = name\n",
    "        self.color = color\n",
    "        self.age = age\n",
    "\n",
    "\n",
    "def print_dog(dog):\n",
    "    print(dog.name + \" is a \" + dog.age + \" year old \" + dog.color + \" dog\")\n"
   ]
  },
  {
   "cell_type": "code",
   "execution_count": null,
   "metadata": {},
   "outputs": [],
   "source": [
    "d = Dog(\"fido\", 2, \"brown\")\n",
    "\n",
    "d = Dog(\"fido\", \"brown\", 2)\n",
    "print_dog(d)\n"
   ]
  },
  {
   "cell_type": "code",
   "execution_count": null,
   "metadata": {},
   "outputs": [],
   "source": [
    "def clean_dataframe(df: pd.DataFrame, fill_val):\n",
    "    return df.fillna(value=fill_val)\n",
    "\n",
    "\n",
    "def count_children(df: pd.DataFrame, max_age=18):\n",
    "    return sum(df.age <= max_age)\n"
   ]
  },
  {
   "cell_type": "code",
   "execution_count": null,
   "metadata": {},
   "outputs": [],
   "source": [
    "df = pd.DataFrame({\"name\": [\"alice\", \"bob\", None], \"age\": [28, 12, 23]})\n",
    "print(df)\n",
    "just_children = count_children(df)\n",
    "just_children = clean_dataframe(just_children, \"Unk\")\n"
   ]
  },
  {
   "cell_type": "code",
   "execution_count": null,
   "metadata": {},
   "outputs": [],
   "source": []
  }
 ],
 "metadata": {
  "language_info": {
   "name": "python"
  },
  "orig_nbformat": 4
 },
 "nbformat": 4,
 "nbformat_minor": 2
}
