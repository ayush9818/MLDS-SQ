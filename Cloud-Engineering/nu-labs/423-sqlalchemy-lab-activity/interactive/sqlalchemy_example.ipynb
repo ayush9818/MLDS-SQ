{
 "cells": [
  {
   "cell_type": "code",
   "execution_count": 1,
   "id": "7a07d6e5",
   "metadata": {},
   "outputs": [],
   "source": [
    "import logging\n",
    "\n",
    "import pandas as pd\n",
    "from sqlalchemy import select\n",
    "\n",
    "from sql.models import Album, Artist, Session, Track, engine"
   ]
  },
  {
   "cell_type": "code",
   "execution_count": 2,
   "id": "2fac6011",
   "metadata": {},
   "outputs": [],
   "source": [
    "session = Session()"
   ]
  },
  {
   "cell_type": "code",
   "execution_count": 3,
   "id": "f8a68b0e",
   "metadata": {},
   "outputs": [],
   "source": [
    "britney = Artist(name=\"Britney Spears\")\n",
    "radar = Track(title=\"Radar\", duration=229, artist=britney)\n",
    "circus = Track(title=\"Circus\", duration=192, artist=britney)\n",
    "Circus = Album(name=\"Circus\", year=2008, tracks=[radar, circus])"
   ]
  },
  {
   "cell_type": "code",
   "execution_count": 4,
   "id": "755e6012",
   "metadata": {},
   "outputs": [],
   "source": [
    "session.add_all([radar, circus, Circus, britney])\n",
    "session.commit()"
   ]
  },
  {
   "cell_type": "code",
   "execution_count": 5,
   "id": "e208893b",
   "metadata": {},
   "outputs": [],
   "source": [
    "taylor = Artist(name=\"Taylor Swift\")\n",
    "taylor.albums = [\n",
    "    Album(name=\"Red\", year=2012, tracks=[\n",
    "        Track(title=\"Red\", duration=223, artist=taylor),\n",
    "        Track(title=\"Starlight\", duration=220, artist=taylor),\n",
    "    ])\n",
    "]"
   ]
  },
  {
   "cell_type": "code",
   "execution_count": 6,
   "id": "6519dee2",
   "metadata": {},
   "outputs": [],
   "source": [
    "session.add(taylor)\n",
    "session.commit()"
   ]
  },
  {
   "cell_type": "code",
   "execution_count": 7,
   "id": "2c50751a",
   "metadata": {},
   "outputs": [
    {
     "data": {
      "text/plain": [
       "[<Track: \"Radar\">, <Track: \"Circus\">]"
      ]
     },
     "execution_count": 7,
     "metadata": {},
     "output_type": "execute_result"
    }
   ],
   "source": [
    "statement = select(Track).join(Artist).filter(Artist.name == \"Britney Spears\")\n",
    "britney_tracks = (\n",
    "    session.scalars(statement).all()\n",
    ")\n",
    "britney_tracks"
   ]
  },
  {
   "cell_type": "code",
   "execution_count": 8,
   "id": "e6db5533",
   "metadata": {},
   "outputs": [
    {
     "data": {
      "text/plain": [
       "<Artist: Taylor Swift>"
      ]
     },
     "execution_count": 8,
     "metadata": {},
     "output_type": "execute_result"
    }
   ],
   "source": [
    "statement = select(Artist).filter_by(name=\"Taylor Swift\")\n",
    "taylor = session.scalar(statement)\n",
    "taylor"
   ]
  },
  {
   "cell_type": "code",
   "execution_count": 9,
   "id": "c9a98c5c",
   "metadata": {},
   "outputs": [
    {
     "data": {
      "text/plain": [
       "[<Track: \"Red\">, <Track: \"Starlight\">]"
      ]
     },
     "execution_count": 9,
     "metadata": {},
     "output_type": "execute_result"
    }
   ],
   "source": [
    "taylor.tracks"
   ]
  },
  {
   "cell_type": "code",
   "execution_count": 10,
   "id": "adaf0911",
   "metadata": {},
   "outputs": [],
   "source": [
    "query = \"\"\"\n",
    "SELECT * FROM tracks\n",
    "JOIN artists ON tracks.artist_id == artists.id\n",
    "WHERE artists.name LIKE '%%Britney%%'\n",
    "\"\"\""
   ]
  },
  {
   "cell_type": "code",
   "execution_count": 11,
   "id": "c5d1547e",
   "metadata": {},
   "outputs": [
    {
     "data": {
      "text/html": [
       "<div>\n",
       "<style scoped>\n",
       "    .dataframe tbody tr th:only-of-type {\n",
       "        vertical-align: middle;\n",
       "    }\n",
       "\n",
       "    .dataframe tbody tr th {\n",
       "        vertical-align: top;\n",
       "    }\n",
       "\n",
       "    .dataframe thead th {\n",
       "        text-align: right;\n",
       "    }\n",
       "</style>\n",
       "<table border=\"1\" class=\"dataframe\">\n",
       "  <thead>\n",
       "    <tr style=\"text-align: right;\">\n",
       "      <th></th>\n",
       "      <th>id</th>\n",
       "      <th>title</th>\n",
       "      <th>duration</th>\n",
       "      <th>artist_id</th>\n",
       "      <th>album_id</th>\n",
       "      <th>name</th>\n",
       "    </tr>\n",
       "  </thead>\n",
       "  <tbody>\n",
       "    <tr>\n",
       "      <th>0</th>\n",
       "      <td>1</td>\n",
       "      <td>Radar</td>\n",
       "      <td>229</td>\n",
       "      <td>1</td>\n",
       "      <td>1</td>\n",
       "      <td>Britney Spears</td>\n",
       "    </tr>\n",
       "    <tr>\n",
       "      <th>1</th>\n",
       "      <td>1</td>\n",
       "      <td>Circus</td>\n",
       "      <td>192</td>\n",
       "      <td>1</td>\n",
       "      <td>1</td>\n",
       "      <td>Britney Spears</td>\n",
       "    </tr>\n",
       "  </tbody>\n",
       "</table>\n",
       "</div>"
      ],
      "text/plain": [
       "   id   title  duration  artist_id  album_id            name\n",
       "0   1   Radar       229          1         1  Britney Spears\n",
       "1   1  Circus       192          1         1  Britney Spears"
      ]
     },
     "execution_count": 11,
     "metadata": {},
     "output_type": "execute_result"
    }
   ],
   "source": [
    "df = pd.read_sql(query, con=engine)\n",
    "df"
   ]
  },
  {
   "cell_type": "code",
   "execution_count": 12,
   "id": "a3f9897a",
   "metadata": {},
   "outputs": [],
   "source": [
    "session.close()"
   ]
  }
 ],
 "metadata": {
  "kernelspec": {
   "display_name": "Python 3 (ipykernel)",
   "language": "python",
   "name": "python3"
  },
  "language_info": {
   "codemirror_mode": {
    "name": "ipython",
    "version": 3
   },
   "file_extension": ".py",
   "mimetype": "text/x-python",
   "name": "python",
   "nbconvert_exporter": "python",
   "pygments_lexer": "ipython3",
   "version": "3.9.1"
  }
 },
 "nbformat": 4,
 "nbformat_minor": 5
}
