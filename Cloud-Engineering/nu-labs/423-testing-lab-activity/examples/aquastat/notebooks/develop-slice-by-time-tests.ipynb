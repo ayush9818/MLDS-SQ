{
 "cells": [
  {
   "cell_type": "markdown",
   "metadata": {
    "toc": "true"
   },
   "source": [
    "<h1>Table of Contents<span class=\"tocSkip\"></span></h1>\n",
    "<div class=\"toc\"><ul class=\"toc-item\"><li><span><a href=\"#The-dataset\" data-toc-modified-id=\"The-dataset-1\"><span class=\"toc-item-num\">1&nbsp;&nbsp;</span>The dataset</a></span><ul class=\"toc-item\"><li><span><a href=\"#Research-the-variables\" data-toc-modified-id=\"Research-the-variables-1.1\"><span class=\"toc-item-num\">1.1&nbsp;&nbsp;</span>Research the variables</a></span></li><li><span><a href=\"#Describe-the-panel\" data-toc-modified-id=\"Describe-the-panel-1.2\"><span class=\"toc-item-num\">1.2&nbsp;&nbsp;</span>Describe the panel</a></span></li><li><span><a href=\"#Making-the-data-easy-to-work-with\" data-toc-modified-id=\"Making-the-data-easy-to-work-with-1.3\"><span class=\"toc-item-num\">1.3&nbsp;&nbsp;</span>Making the data easy to work with</a></span></li></ul></li><li><span><a href=\"#Develop-function-for-slicing-the-data-by-time-period\" data-toc-modified-id=\"Develop-function-for-slicing-the-data-by-time-period-2\"><span class=\"toc-item-num\">2&nbsp;&nbsp;</span>Develop function for slicing the data by time period</a></span></li><li><span><a href=\"#Create-unit-test-for-expected-behavior\" data-toc-modified-id=\"Create-unit-test-for-expected-behavior-3\"><span class=\"toc-item-num\">3&nbsp;&nbsp;</span>Create unit test for expected behavior</a></span><ul class=\"toc-item\"><li><span><a href=\"#Create-input-data-for-testing,-df_in\" data-toc-modified-id=\"Create-input-data-for-testing,-df_in-3.1\"><span class=\"toc-item-num\">3.1&nbsp;&nbsp;</span>Create input data for testing, <code>df_in</code></a></span><ul class=\"toc-item\"><li><span><a href=\"#Generate-the-subset-to-be-used-as-df_in\" data-toc-modified-id=\"Generate-the-subset-to-be-used-as-df_in-3.1.1\"><span class=\"toc-item-num\">3.1.1&nbsp;&nbsp;</span>Generate the subset to be used as <code>df_in</code></a></span></li><li><span><a href=\"#Print-the-values\" data-toc-modified-id=\"Print-the-values-3.1.2\"><span class=\"toc-item-num\">3.1.2&nbsp;&nbsp;</span>Print the values</a></span></li><li><span><a href=\"#Print-the-index\" data-toc-modified-id=\"Print-the-index-3.1.3\"><span class=\"toc-item-num\">3.1.3&nbsp;&nbsp;</span>Print the index</a></span></li><li><span><a href=\"#Print-the-column-names\" data-toc-modified-id=\"Print-the-column-names-3.1.4\"><span class=\"toc-item-num\">3.1.4&nbsp;&nbsp;</span>Print the column names</a></span></li><li><span><a href=\"#Print-the-column-and-index-names\" data-toc-modified-id=\"Print-the-column-and-index-names-3.1.5\"><span class=\"toc-item-num\">3.1.5&nbsp;&nbsp;</span>Print the column and index names</a></span></li><li><span><a href=\"#Copy-and-paste-the-data-and-create-your-input-dataframe\" data-toc-modified-id=\"Copy-and-paste-the-data-and-create-your-input-dataframe-3.1.6\"><span class=\"toc-item-num\">3.1.6&nbsp;&nbsp;</span>Copy and paste the data and create your input dataframe</a></span></li><li><span><a href=\"#Check-that-you-replicated-the-data-correctly\" data-toc-modified-id=\"Check-that-you-replicated-the-data-correctly-3.1.7\"><span class=\"toc-item-num\">3.1.7&nbsp;&nbsp;</span>Check that you replicated the data correctly</a></span></li></ul></li><li><span><a href=\"#Create-expected-output,-df_true\" data-toc-modified-id=\"Create-expected-output,-df_true-3.2\"><span class=\"toc-item-num\">3.2&nbsp;&nbsp;</span>Create expected output, <code>df_true</code></a></span><ul class=\"toc-item\"><li><span><a href=\"#Print-values\" data-toc-modified-id=\"Print-values-3.2.1\"><span class=\"toc-item-num\">3.2.1&nbsp;&nbsp;</span>Print values</a></span></li><li><span><a href=\"#Print-index\" data-toc-modified-id=\"Print-index-3.2.2\"><span class=\"toc-item-num\">3.2.2&nbsp;&nbsp;</span>Print index</a></span></li><li><span><a href=\"#Print-columns\" data-toc-modified-id=\"Print-columns-3.2.3\"><span class=\"toc-item-num\">3.2.3&nbsp;&nbsp;</span>Print columns</a></span></li><li><span><a href=\"#Print-columns-and-index-name\" data-toc-modified-id=\"Print-columns-and-index-name-3.2.4\"><span class=\"toc-item-num\">3.2.4&nbsp;&nbsp;</span>Print columns and index name</a></span></li><li><span><a href=\"#Copy-and-paste-to-create-df_true\" data-toc-modified-id=\"Copy-and-paste-to-create-df_true-3.2.5\"><span class=\"toc-item-num\">3.2.5&nbsp;&nbsp;</span>Copy and paste to create <code>df_true</code></a></span></li><li><span><a href=\"#Check-that-you-replicated-the-data-correctly\" data-toc-modified-id=\"Check-that-you-replicated-the-data-correctly-3.2.6\"><span class=\"toc-item-num\">3.2.6&nbsp;&nbsp;</span>Check that you replicated the data correctly</a></span></li></ul></li><li><span><a href=\"#Create-test\" data-toc-modified-id=\"Create-test-3.3\"><span class=\"toc-item-num\">3.3&nbsp;&nbsp;</span>Create test</a></span></li><li><span><a href=\"#Check-test\" data-toc-modified-id=\"Check-test-3.4\"><span class=\"toc-item-num\">3.4&nbsp;&nbsp;</span>Check test</a></span></li></ul></li><li><span><a href=\"#Create-test-where-time-slice-does-not-exist\" data-toc-modified-id=\"Create-test-where-time-slice-does-not-exist-4\"><span class=\"toc-item-num\">4&nbsp;&nbsp;</span>Create test where time slice does not exist</a></span><ul class=\"toc-item\"><li><span><a href=\"#Create-expected-output,-df_true\" data-toc-modified-id=\"Create-expected-output,-df_true-4.1\"><span class=\"toc-item-num\">4.1&nbsp;&nbsp;</span>Create expected output, df_true</a></span><ul class=\"toc-item\"><li><span><a href=\"#Print-values\" data-toc-modified-id=\"Print-values-4.1.1\"><span class=\"toc-item-num\">4.1.1&nbsp;&nbsp;</span>Print values</a></span></li><li><span><a href=\"#Print-index\" data-toc-modified-id=\"Print-index-4.1.2\"><span class=\"toc-item-num\">4.1.2&nbsp;&nbsp;</span>Print index</a></span></li><li><span><a href=\"#Print-column-names\" data-toc-modified-id=\"Print-column-names-4.1.3\"><span class=\"toc-item-num\">4.1.3&nbsp;&nbsp;</span>Print column names</a></span></li><li><span><a href=\"#Print-column-and-index-names\" data-toc-modified-id=\"Print-column-and-index-names-4.1.4\"><span class=\"toc-item-num\">4.1.4&nbsp;&nbsp;</span>Print column and index names</a></span></li><li><span><a href=\"#Copy-and-paste-to-create-df_true\" data-toc-modified-id=\"Copy-and-paste-to-create-df_true-4.1.5\"><span class=\"toc-item-num\">4.1.5&nbsp;&nbsp;</span>Copy and paste to create <code>df_true</code></a></span></li><li><span><a href=\"#Check-that-you-replicated-the-data-correctly\" data-toc-modified-id=\"Check-that-you-replicated-the-data-correctly-4.1.6\"><span class=\"toc-item-num\">4.1.6&nbsp;&nbsp;</span>Check that you replicated the data correctly</a></span></li></ul></li><li><span><a href=\"#Create-test\" data-toc-modified-id=\"Create-test-4.2\"><span class=\"toc-item-num\">4.2&nbsp;&nbsp;</span>Create test</a></span></li><li><span><a href=\"#Check-test\" data-toc-modified-id=\"Check-test-4.3\"><span class=\"toc-item-num\">4.3&nbsp;&nbsp;</span>Check test</a></span></li></ul></li><li><span><a href=\"#Create-unit-test-for-when-dataframe-is-not-provided\" data-toc-modified-id=\"Create-unit-test-for-when-dataframe-is-not-provided-5\"><span class=\"toc-item-num\">5&nbsp;&nbsp;</span>Create unit test for when dataframe is not provided</a></span><ul class=\"toc-item\"><li><span><a href=\"#Check-test\" data-toc-modified-id=\"Check-test-5.1\"><span class=\"toc-item-num\">5.1&nbsp;&nbsp;</span>Check test</a></span></li></ul></li><li><span><a href=\"#Now-move-your-function-and-your-tests-to-appropriate-Python-modules\" data-toc-modified-id=\"Now-move-your-function-and-your-tests-to-appropriate-Python-modules-6\"><span class=\"toc-item-num\">6&nbsp;&nbsp;</span>Now move your function and your tests to appropriate Python modules</a></span></li></ul></div>"
   ]
  },
  {
   "cell_type": "code",
   "execution_count": 1,
   "metadata": {
    "ExecuteTime": {
     "end_time": "2022-04-15T17:34:54.861359Z",
     "start_time": "2022-04-15T17:34:53.745058Z"
    },
    "run_control": {
     "frozen": false,
     "read_only": false
    }
   },
   "outputs": [],
   "source": [
    "import os \n",
    "import sys\n",
    "import datetime\n",
    "\n",
    "\n",
    "import matplotlib.pyplot as plt\n",
    "import numpy as np\n",
    "import pandas as pd\n",
    "import seaborn as sns\n",
    "import pytest"
   ]
  },
  {
   "cell_type": "code",
   "execution_count": 2,
   "metadata": {
    "ExecuteTime": {
     "end_time": "2022-04-15T17:34:54.867302Z",
     "start_time": "2022-04-15T17:34:54.862503Z"
    }
   },
   "outputs": [],
   "source": [
    "# Create helper functions for specifying paths and appending\n",
    "# directories with relevant python source code - for use within \n",
    "# Jupyter Notebooks in notebooks/ directory only.\n",
    "\n",
    "# This is a lot at the top of your notebook but if you get the jupyter\n",
    "# extension for collapsing headings, you can always have this and the\n",
    "# imports collapsed\n",
    "\n",
    "root_dir = os.curdir\n",
    "max_nest = 10  # arbitrary, 3 would probably suffice\n",
    "nest = 0\n",
    "while \"src\" not in os.listdir(root_dir) and nest < max_nest:\n",
    "    # Look up the directory structure for a src directory\n",
    "    root_dir = os.path.join(os.pardir, root_dir)\n",
    "    nest += 1\n",
    "\n",
    "# If you don't find the src directory, the root directory is this directory\n",
    "root_dir = os.path.abspath(root_dir) if nest < max_nest else os.path.abspath(\n",
    "    os.curdir)\n",
    "\n",
    "# Get the source directory and append path to access\n",
    "# python packages/scripts within directory\n",
    "if \"src\" in os.listdir(root_dir):\n",
    "    src_dir = os.path.join(root_dir, \"src\")\n",
    "    sys.path.append(src_dir)\n",
    "\n",
    "# If data or figures directory don't exist in project directory,\n",
    "# they will be saved to this directory\n",
    "data_dir = os.path.join(\n",
    "    root_dir, \"data\") if \"data\" in os.listdir(root_dir) else os.curdir\n",
    "figure_dir = os.path.join(\n",
    "    root_dir,\n",
    "    \"figures\") if \"figures\" in os.listdir(root_dir) else os.curdir\n",
    "models_dir = os.path.join(\n",
    "    root_dir,\n",
    "    \"models\") if \"models\" in os.listdir(root_dir) else os.curdir\n",
    "\n",
    "# Prepends the directory path for specifying paths to data or figures\n",
    "# dataplus(\"data.csv\") -> \"/Users/cmawer/project/data/data.csv\"\n",
    "# figplus(\"cool.png\") -> \"/Users/cmawer/project/figures/cool.png\"\n",
    "dataplus = lambda x: os.path.join(data_dir, x)\n",
    "figplus = lambda x: os.path.join(figure_dir, x)\n",
    "modelsplus = lambda x: os.path.join(models_dir, x)\n",
    "\n",
    "# Prepends the date to a string (e.g. to save dated files)\n",
    "# dateplus(\"cool-figure.png\") -> \"2018-12-05-cool-figure.png\"\n",
    "now = datetime.datetime.now().strftime(\"%Y-%m-%d\")\n",
    "dateplus = lambda x: \"%s-%s\" % (now, x)"
   ]
  },
  {
   "cell_type": "markdown",
   "metadata": {},
   "source": [
    "# The dataset"
   ]
  },
  {
   "cell_type": "markdown",
   "metadata": {},
   "source": [
    "<img src=\"data:image/png;base64,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\" alt=\"FAO\" width=\"290\" align=\"right\">\n",
    "\n",
    "We will be using the [Food and Agriculture Organization](http://www.fao.org) (FAO) of the United Nation's AQUASTAT dataset. \n",
    "\n",
    "From FAO: \n",
    "\n",
    "FAO's three main goals are:\n",
    "1. The eradication of hunger, food insecurity and malnutrition\n",
    "2. The elimination of poverty and the driving forward of economic and social progress for all\n",
    "3. The sustainable management and utilization of natural resources, including land, water, air, climate and genetic resources for the benefit of present and future generations. \n",
    "\n",
    "To support these goals, Article 1 of its constitution requires FAO to \"collect, analyse, interpret and disseminate information related to nutrition, food and agriculture\". Thus AQUASTAT started, with the aim to contribute to FAO's goals through the collection, analysis and dissemination of information related to water resources, water uses and agricultural water management, with an emphasis on countries in Africa, Asia, Latin America, and the Caribbean.\n",
    "\n",
    "FAO offers data, metadata, reports, country profiles, river basin profiles, regional analyses, maps, tables, spatial data, guidelines, and other tools on:\n",
    "* Water resources: internal, transboundary, total\n",
    "* Water uses: by sector, by source, wastewater\n",
    "* Irrigation: location, area, typology, technology, crops\n",
    "* Dams: location, height, capacity, surface area\n",
    "* Water-related institutions, policies and legistation"
   ]
  },
  {
   "cell_type": "markdown",
   "metadata": {},
   "source": [
    "http://www.fao.org/nr/water/aquastat/data/query/index.html"
   ]
  },
  {
   "cell_type": "code",
   "execution_count": 3,
   "metadata": {
    "ExecuteTime": {
     "end_time": "2022-04-15T17:34:54.994899Z",
     "start_time": "2022-04-15T17:34:54.868038Z"
    },
    "run_control": {
     "frozen": false,
     "read_only": false
    }
   },
   "outputs": [],
   "source": [
    "data = pd.read_csv(dataplus('aquastat.csv.gzip'), compression='gzip')"
   ]
  },
  {
   "cell_type": "code",
   "execution_count": 4,
   "metadata": {
    "ExecuteTime": {
     "end_time": "2022-04-15T17:34:55.004236Z",
     "start_time": "2022-04-15T17:34:54.996412Z"
    },
    "run_control": {
     "frozen": false,
     "read_only": false
    }
   },
   "outputs": [
    {
     "data": {
      "text/html": [
       "<div>\n",
       "<style scoped>\n",
       "    .dataframe tbody tr th:only-of-type {\n",
       "        vertical-align: middle;\n",
       "    }\n",
       "\n",
       "    .dataframe tbody tr th {\n",
       "        vertical-align: top;\n",
       "    }\n",
       "\n",
       "    .dataframe thead th {\n",
       "        text-align: right;\n",
       "    }\n",
       "</style>\n",
       "<table border=\"1\" class=\"dataframe\">\n",
       "  <thead>\n",
       "    <tr style=\"text-align: right;\">\n",
       "      <th></th>\n",
       "      <th>country</th>\n",
       "      <th>region</th>\n",
       "      <th>variable</th>\n",
       "      <th>variable_full</th>\n",
       "      <th>time_period</th>\n",
       "      <th>year_measured</th>\n",
       "      <th>value</th>\n",
       "    </tr>\n",
       "  </thead>\n",
       "  <tbody>\n",
       "    <tr>\n",
       "      <th>0</th>\n",
       "      <td>Afghanistan</td>\n",
       "      <td>World | Asia</td>\n",
       "      <td>total_area</td>\n",
       "      <td>Total area of the country (1000 ha)</td>\n",
       "      <td>1958-1962</td>\n",
       "      <td>1962.0</td>\n",
       "      <td>65286.0</td>\n",
       "    </tr>\n",
       "    <tr>\n",
       "      <th>1</th>\n",
       "      <td>Afghanistan</td>\n",
       "      <td>World | Asia</td>\n",
       "      <td>total_area</td>\n",
       "      <td>Total area of the country (1000 ha)</td>\n",
       "      <td>1963-1967</td>\n",
       "      <td>1967.0</td>\n",
       "      <td>65286.0</td>\n",
       "    </tr>\n",
       "    <tr>\n",
       "      <th>2</th>\n",
       "      <td>Afghanistan</td>\n",
       "      <td>World | Asia</td>\n",
       "      <td>total_area</td>\n",
       "      <td>Total area of the country (1000 ha)</td>\n",
       "      <td>1968-1972</td>\n",
       "      <td>1972.0</td>\n",
       "      <td>65286.0</td>\n",
       "    </tr>\n",
       "    <tr>\n",
       "      <th>3</th>\n",
       "      <td>Afghanistan</td>\n",
       "      <td>World | Asia</td>\n",
       "      <td>total_area</td>\n",
       "      <td>Total area of the country (1000 ha)</td>\n",
       "      <td>1973-1977</td>\n",
       "      <td>1977.0</td>\n",
       "      <td>65286.0</td>\n",
       "    </tr>\n",
       "    <tr>\n",
       "      <th>4</th>\n",
       "      <td>Afghanistan</td>\n",
       "      <td>World | Asia</td>\n",
       "      <td>total_area</td>\n",
       "      <td>Total area of the country (1000 ha)</td>\n",
       "      <td>1978-1982</td>\n",
       "      <td>1982.0</td>\n",
       "      <td>65286.0</td>\n",
       "    </tr>\n",
       "  </tbody>\n",
       "</table>\n",
       "</div>"
      ],
      "text/plain": [
       "       country        region    variable                        variable_full  \\\n",
       "0  Afghanistan  World | Asia  total_area  Total area of the country (1000 ha)   \n",
       "1  Afghanistan  World | Asia  total_area  Total area of the country (1000 ha)   \n",
       "2  Afghanistan  World | Asia  total_area  Total area of the country (1000 ha)   \n",
       "3  Afghanistan  World | Asia  total_area  Total area of the country (1000 ha)   \n",
       "4  Afghanistan  World | Asia  total_area  Total area of the country (1000 ha)   \n",
       "\n",
       "  time_period  year_measured    value  \n",
       "0   1958-1962         1962.0  65286.0  \n",
       "1   1963-1967         1967.0  65286.0  \n",
       "2   1968-1972         1972.0  65286.0  \n",
       "3   1973-1977         1977.0  65286.0  \n",
       "4   1978-1982         1982.0  65286.0  "
      ]
     },
     "execution_count": 4,
     "metadata": {},
     "output_type": "execute_result"
    }
   ],
   "source": [
    "data.head()"
   ]
  },
  {
   "cell_type": "code",
   "execution_count": 5,
   "metadata": {
    "ExecuteTime": {
     "end_time": "2022-04-15T17:34:55.027864Z",
     "start_time": "2022-04-15T17:34:55.005195Z"
    },
    "run_control": {
     "frozen": false,
     "read_only": false
    }
   },
   "outputs": [
    {
     "name": "stdout",
     "output_type": "stream",
     "text": [
      "<class 'pandas.core.frame.DataFrame'>\n",
      "RangeIndex: 143280 entries, 0 to 143279\n",
      "Data columns (total 7 columns):\n",
      " #   Column         Non-Null Count   Dtype  \n",
      "---  ------         --------------   -----  \n",
      " 0   country        143280 non-null  object \n",
      " 1   region         143280 non-null  object \n",
      " 2   variable       143280 non-null  object \n",
      " 3   variable_full  143280 non-null  object \n",
      " 4   time_period    143280 non-null  object \n",
      " 5   year_measured  96411 non-null   float64\n",
      " 6   value          96411 non-null   float64\n",
      "dtypes: float64(2), object(5)\n",
      "memory usage: 7.7+ MB\n"
     ]
    }
   ],
   "source": [
    "data.info()"
   ]
  },
  {
   "cell_type": "markdown",
   "metadata": {},
   "source": [
    "## Research the variables"
   ]
  },
  {
   "cell_type": "code",
   "execution_count": 6,
   "metadata": {
    "ExecuteTime": {
     "end_time": "2022-04-15T17:34:55.054004Z",
     "start_time": "2022-04-15T17:34:55.028813Z"
    },
    "run_control": {
     "frozen": false,
     "read_only": false
    },
    "scrolled": true
   },
   "outputs": [
    {
     "data": {
      "text/html": [
       "<div>\n",
       "<style scoped>\n",
       "    .dataframe tbody tr th:only-of-type {\n",
       "        vertical-align: middle;\n",
       "    }\n",
       "\n",
       "    .dataframe tbody tr th {\n",
       "        vertical-align: top;\n",
       "    }\n",
       "\n",
       "    .dataframe thead th {\n",
       "        text-align: right;\n",
       "    }\n",
       "</style>\n",
       "<table border=\"1\" class=\"dataframe\">\n",
       "  <thead>\n",
       "    <tr style=\"text-align: right;\">\n",
       "      <th></th>\n",
       "      <th>variable</th>\n",
       "      <th>variable_full</th>\n",
       "    </tr>\n",
       "  </thead>\n",
       "  <tbody>\n",
       "    <tr>\n",
       "      <th>0</th>\n",
       "      <td>total_area</td>\n",
       "      <td>Total area of the country (1000 ha)</td>\n",
       "    </tr>\n",
       "    <tr>\n",
       "      <th>576</th>\n",
       "      <td>arable_land</td>\n",
       "      <td>Arable land area (1000 ha)</td>\n",
       "    </tr>\n",
       "    <tr>\n",
       "      <th>1152</th>\n",
       "      <td>permanent_crop_area</td>\n",
       "      <td>Permanent crops area (1000 ha)</td>\n",
       "    </tr>\n",
       "    <tr>\n",
       "      <th>1728</th>\n",
       "      <td>cultivated_area</td>\n",
       "      <td>Cultivated area (arable land + permanent crops...</td>\n",
       "    </tr>\n",
       "    <tr>\n",
       "      <th>2304</th>\n",
       "      <td>percent_cultivated</td>\n",
       "      <td>% of total country area cultivated (%)</td>\n",
       "    </tr>\n",
       "    <tr>\n",
       "      <th>2880</th>\n",
       "      <td>total_pop</td>\n",
       "      <td>Total population (1000 inhab)</td>\n",
       "    </tr>\n",
       "    <tr>\n",
       "      <th>3456</th>\n",
       "      <td>rural_pop</td>\n",
       "      <td>Rural population (1000 inhab)</td>\n",
       "    </tr>\n",
       "    <tr>\n",
       "      <th>4032</th>\n",
       "      <td>urban_pop</td>\n",
       "      <td>Urban population (1000 inhab)</td>\n",
       "    </tr>\n",
       "    <tr>\n",
       "      <th>4608</th>\n",
       "      <td>gdp</td>\n",
       "      <td>Gross Domestic Product (GDP) (current US$)</td>\n",
       "    </tr>\n",
       "    <tr>\n",
       "      <th>5184</th>\n",
       "      <td>gdp_per_capita</td>\n",
       "      <td>GDP per capita (current US$/inhab)</td>\n",
       "    </tr>\n",
       "    <tr>\n",
       "      <th>5760</th>\n",
       "      <td>agg_to_gdp</td>\n",
       "      <td>Agriculture, value added to GDP (%)</td>\n",
       "    </tr>\n",
       "    <tr>\n",
       "      <th>6336</th>\n",
       "      <td>human_dev_index</td>\n",
       "      <td>Human Development Index (HDI) [highest = 1] (-)</td>\n",
       "    </tr>\n",
       "    <tr>\n",
       "      <th>6912</th>\n",
       "      <td>gender_inequal_index</td>\n",
       "      <td>Gender Inequality Index (GII) [equality = 0; i...</td>\n",
       "    </tr>\n",
       "    <tr>\n",
       "      <th>7488</th>\n",
       "      <td>percent_undernourished</td>\n",
       "      <td>Prevalence of undernourishment (3-year average...</td>\n",
       "    </tr>\n",
       "    <tr>\n",
       "      <th>8064</th>\n",
       "      <td>number_undernourished</td>\n",
       "      <td>Number of people undernourished (3-year averag...</td>\n",
       "    </tr>\n",
       "    <tr>\n",
       "      <th>8640</th>\n",
       "      <td>avg_annual_rain_depth</td>\n",
       "      <td>Long-term average annual precipitation in dept...</td>\n",
       "    </tr>\n",
       "    <tr>\n",
       "      <th>9216</th>\n",
       "      <td>avg_annual_rain_vol</td>\n",
       "      <td>Long-term average annual precipitation in volu...</td>\n",
       "    </tr>\n",
       "    <tr>\n",
       "      <th>9792</th>\n",
       "      <td>national_rainfall_index</td>\n",
       "      <td>National Rainfall Index (NRI) (mm/year)</td>\n",
       "    </tr>\n",
       "    <tr>\n",
       "      <th>10368</th>\n",
       "      <td>surface_water_produced</td>\n",
       "      <td>Surface water produced internally (10^9 m3/year)</td>\n",
       "    </tr>\n",
       "    <tr>\n",
       "      <th>10944</th>\n",
       "      <td>groundwater_produced</td>\n",
       "      <td>Groundwater produced internally (10^9 m3/year)</td>\n",
       "    </tr>\n",
       "    <tr>\n",
       "      <th>11520</th>\n",
       "      <td>surface_groundwater_overlap</td>\n",
       "      <td>Overlap between surface water and groundwater ...</td>\n",
       "    </tr>\n",
       "    <tr>\n",
       "      <th>12096</th>\n",
       "      <td>irwr</td>\n",
       "      <td>Total internal renewable water resources (IRWR...</td>\n",
       "    </tr>\n",
       "    <tr>\n",
       "      <th>12672</th>\n",
       "      <td>irwr_per_capita</td>\n",
       "      <td>Total internal renewable water resources per c...</td>\n",
       "    </tr>\n",
       "    <tr>\n",
       "      <th>13248</th>\n",
       "      <td>surface_entering</td>\n",
       "      <td>Surface water: entering the country (total) (1...</td>\n",
       "    </tr>\n",
       "    <tr>\n",
       "      <th>13824</th>\n",
       "      <td>surface_inflow_submit_no_treaty</td>\n",
       "      <td>Surface water: inflow not submitted to treatie...</td>\n",
       "    </tr>\n",
       "    <tr>\n",
       "      <th>14400</th>\n",
       "      <td>surface_inflow_submit_treaty</td>\n",
       "      <td>Surface water: inflow submitted to treaties (1...</td>\n",
       "    </tr>\n",
       "    <tr>\n",
       "      <th>14976</th>\n",
       "      <td>surface_inflow_secure_treaty</td>\n",
       "      <td>Surface water: inflow secured through treaties...</td>\n",
       "    </tr>\n",
       "    <tr>\n",
       "      <th>15552</th>\n",
       "      <td>total_flow_border_rivers</td>\n",
       "      <td>Surface water: total flow of border rivers (10...</td>\n",
       "    </tr>\n",
       "    <tr>\n",
       "      <th>16128</th>\n",
       "      <td>accounted_flow_border_rivers</td>\n",
       "      <td>Surface water: accounted flow of border rivers...</td>\n",
       "    </tr>\n",
       "    <tr>\n",
       "      <th>16704</th>\n",
       "      <td>accounted_flow</td>\n",
       "      <td>Surface water: accounted inflow (10^9 m3/year)</td>\n",
       "    </tr>\n",
       "    <tr>\n",
       "      <th>17280</th>\n",
       "      <td>surface_to_other_countries</td>\n",
       "      <td>Surface water: leaving the country to other co...</td>\n",
       "    </tr>\n",
       "    <tr>\n",
       "      <th>17856</th>\n",
       "      <td>surface_outflow_submit_no_treaty</td>\n",
       "      <td>Surface water: outflow to other countries not ...</td>\n",
       "    </tr>\n",
       "    <tr>\n",
       "      <th>18432</th>\n",
       "      <td>surface_outflow_submit_treaty</td>\n",
       "      <td>Surface water: outflow to other countries subm...</td>\n",
       "    </tr>\n",
       "    <tr>\n",
       "      <th>19008</th>\n",
       "      <td>surface_outflow_secure_treaty</td>\n",
       "      <td>Surface water: outflow to other countries secu...</td>\n",
       "    </tr>\n",
       "    <tr>\n",
       "      <th>19584</th>\n",
       "      <td>surface_total_external_renewable</td>\n",
       "      <td>Surface water: total external renewable (10^9 ...</td>\n",
       "    </tr>\n",
       "    <tr>\n",
       "      <th>20160</th>\n",
       "      <td>groundwater_entering</td>\n",
       "      <td>Groundwater: entering the country (total) (10^...</td>\n",
       "    </tr>\n",
       "    <tr>\n",
       "      <th>20736</th>\n",
       "      <td>groundwater_accounted_inflow</td>\n",
       "      <td>Groundwater: accounted inflow (10^9 m3/year)</td>\n",
       "    </tr>\n",
       "    <tr>\n",
       "      <th>21312</th>\n",
       "      <td>groundwater_to_other_countries</td>\n",
       "      <td>Groundwater: leaving the country to other coun...</td>\n",
       "    </tr>\n",
       "    <tr>\n",
       "      <th>21888</th>\n",
       "      <td>groundwater_accounted_outflow</td>\n",
       "      <td>Groundwater: accounted outflow to other countr...</td>\n",
       "    </tr>\n",
       "    <tr>\n",
       "      <th>22464</th>\n",
       "      <td>water_total_external_renewable</td>\n",
       "      <td>Water resources: total external renewable (10^...</td>\n",
       "    </tr>\n",
       "    <tr>\n",
       "      <th>23040</th>\n",
       "      <td>total_renewable_surface</td>\n",
       "      <td>Total renewable surface water (10^9 m3/year)</td>\n",
       "    </tr>\n",
       "    <tr>\n",
       "      <th>23616</th>\n",
       "      <td>total_renewable_groundwater</td>\n",
       "      <td>Total renewable groundwater (10^9 m3/year)</td>\n",
       "    </tr>\n",
       "    <tr>\n",
       "      <th>24192</th>\n",
       "      <td>overlap_surface_groundwater</td>\n",
       "      <td>Overlap: between surface water and groundwater...</td>\n",
       "    </tr>\n",
       "    <tr>\n",
       "      <th>24768</th>\n",
       "      <td>total_renewable</td>\n",
       "      <td>Total renewable water resources (10^9 m3/year)</td>\n",
       "    </tr>\n",
       "    <tr>\n",
       "      <th>25344</th>\n",
       "      <td>dependency_ratio</td>\n",
       "      <td>Dependency ratio (%)</td>\n",
       "    </tr>\n",
       "    <tr>\n",
       "      <th>25920</th>\n",
       "      <td>total_renewable_per_capita</td>\n",
       "      <td>Total renewable water resources per capita (m3...</td>\n",
       "    </tr>\n",
       "    <tr>\n",
       "      <th>26496</th>\n",
       "      <td>exploitable_regular_renewable_surface</td>\n",
       "      <td>Exploitable: regular renewable surface water (...</td>\n",
       "    </tr>\n",
       "    <tr>\n",
       "      <th>27072</th>\n",
       "      <td>exploitable_irregular_renewable_surface</td>\n",
       "      <td>Exploitable: irregular renewable surface water...</td>\n",
       "    </tr>\n",
       "    <tr>\n",
       "      <th>27648</th>\n",
       "      <td>exploitable_total_renewable_surface</td>\n",
       "      <td>Exploitable: total renewable surface water (10...</td>\n",
       "    </tr>\n",
       "    <tr>\n",
       "      <th>28224</th>\n",
       "      <td>exploitable_regular_renewable_groundwater</td>\n",
       "      <td>Exploitable: regular renewable groundwater (10...</td>\n",
       "    </tr>\n",
       "    <tr>\n",
       "      <th>28800</th>\n",
       "      <td>exploitable_total</td>\n",
       "      <td>Total exploitable water resources (10^9 m3/year)</td>\n",
       "    </tr>\n",
       "    <tr>\n",
       "      <th>29376</th>\n",
       "      <td>interannual_variability</td>\n",
       "      <td>Interannual variability (WRI) (-)</td>\n",
       "    </tr>\n",
       "    <tr>\n",
       "      <th>29952</th>\n",
       "      <td>seasonal_variability</td>\n",
       "      <td>Seasonal variability (WRI) (-)</td>\n",
       "    </tr>\n",
       "    <tr>\n",
       "      <th>30528</th>\n",
       "      <td>total_dam_capacity</td>\n",
       "      <td>Total dam capacity (km3)</td>\n",
       "    </tr>\n",
       "    <tr>\n",
       "      <th>31104</th>\n",
       "      <td>dam_capacity_per_capita</td>\n",
       "      <td>Dam capacity per capita (m3/inhab)</td>\n",
       "    </tr>\n",
       "    <tr>\n",
       "      <th>31680</th>\n",
       "      <td>irrigation_potential</td>\n",
       "      <td>Irrigation potential (1000 ha)</td>\n",
       "    </tr>\n",
       "    <tr>\n",
       "      <th>32256</th>\n",
       "      <td>flood_occurence</td>\n",
       "      <td>Flood occurrence (WRI) (-)</td>\n",
       "    </tr>\n",
       "    <tr>\n",
       "      <th>32832</th>\n",
       "      <td>total_pop_access_drinking</td>\n",
       "      <td>Total population with access to safe drinking-...</td>\n",
       "    </tr>\n",
       "    <tr>\n",
       "      <th>33408</th>\n",
       "      <td>rural_pop_access_drinking</td>\n",
       "      <td>Rural population with access to safe drinking-...</td>\n",
       "    </tr>\n",
       "    <tr>\n",
       "      <th>33984</th>\n",
       "      <td>urban_pop_access_drinking</td>\n",
       "      <td>Urban population with access to safe drinking-...</td>\n",
       "    </tr>\n",
       "  </tbody>\n",
       "</table>\n",
       "</div>"
      ],
      "text/plain": [
       "                                        variable  \\\n",
       "0                                     total_area   \n",
       "576                                  arable_land   \n",
       "1152                         permanent_crop_area   \n",
       "1728                             cultivated_area   \n",
       "2304                          percent_cultivated   \n",
       "2880                                   total_pop   \n",
       "3456                                   rural_pop   \n",
       "4032                                   urban_pop   \n",
       "4608                                         gdp   \n",
       "5184                              gdp_per_capita   \n",
       "5760                                  agg_to_gdp   \n",
       "6336                             human_dev_index   \n",
       "6912                        gender_inequal_index   \n",
       "7488                      percent_undernourished   \n",
       "8064                       number_undernourished   \n",
       "8640                       avg_annual_rain_depth   \n",
       "9216                         avg_annual_rain_vol   \n",
       "9792                     national_rainfall_index   \n",
       "10368                     surface_water_produced   \n",
       "10944                       groundwater_produced   \n",
       "11520                surface_groundwater_overlap   \n",
       "12096                                       irwr   \n",
       "12672                            irwr_per_capita   \n",
       "13248                           surface_entering   \n",
       "13824            surface_inflow_submit_no_treaty   \n",
       "14400               surface_inflow_submit_treaty   \n",
       "14976               surface_inflow_secure_treaty   \n",
       "15552                   total_flow_border_rivers   \n",
       "16128               accounted_flow_border_rivers   \n",
       "16704                             accounted_flow   \n",
       "17280                 surface_to_other_countries   \n",
       "17856           surface_outflow_submit_no_treaty   \n",
       "18432              surface_outflow_submit_treaty   \n",
       "19008              surface_outflow_secure_treaty   \n",
       "19584           surface_total_external_renewable   \n",
       "20160                       groundwater_entering   \n",
       "20736               groundwater_accounted_inflow   \n",
       "21312             groundwater_to_other_countries   \n",
       "21888              groundwater_accounted_outflow   \n",
       "22464             water_total_external_renewable   \n",
       "23040                    total_renewable_surface   \n",
       "23616                total_renewable_groundwater   \n",
       "24192                overlap_surface_groundwater   \n",
       "24768                            total_renewable   \n",
       "25344                           dependency_ratio   \n",
       "25920                 total_renewable_per_capita   \n",
       "26496      exploitable_regular_renewable_surface   \n",
       "27072    exploitable_irregular_renewable_surface   \n",
       "27648        exploitable_total_renewable_surface   \n",
       "28224  exploitable_regular_renewable_groundwater   \n",
       "28800                          exploitable_total   \n",
       "29376                    interannual_variability   \n",
       "29952                       seasonal_variability   \n",
       "30528                         total_dam_capacity   \n",
       "31104                    dam_capacity_per_capita   \n",
       "31680                       irrigation_potential   \n",
       "32256                            flood_occurence   \n",
       "32832                  total_pop_access_drinking   \n",
       "33408                  rural_pop_access_drinking   \n",
       "33984                  urban_pop_access_drinking   \n",
       "\n",
       "                                           variable_full  \n",
       "0                    Total area of the country (1000 ha)  \n",
       "576                           Arable land area (1000 ha)  \n",
       "1152                      Permanent crops area (1000 ha)  \n",
       "1728   Cultivated area (arable land + permanent crops...  \n",
       "2304              % of total country area cultivated (%)  \n",
       "2880                       Total population (1000 inhab)  \n",
       "3456                       Rural population (1000 inhab)  \n",
       "4032                       Urban population (1000 inhab)  \n",
       "4608          Gross Domestic Product (GDP) (current US$)  \n",
       "5184                  GDP per capita (current US$/inhab)  \n",
       "5760                 Agriculture, value added to GDP (%)  \n",
       "6336     Human Development Index (HDI) [highest = 1] (-)  \n",
       "6912   Gender Inequality Index (GII) [equality = 0; i...  \n",
       "7488   Prevalence of undernourishment (3-year average...  \n",
       "8064   Number of people undernourished (3-year averag...  \n",
       "8640   Long-term average annual precipitation in dept...  \n",
       "9216   Long-term average annual precipitation in volu...  \n",
       "9792             National Rainfall Index (NRI) (mm/year)  \n",
       "10368   Surface water produced internally (10^9 m3/year)  \n",
       "10944     Groundwater produced internally (10^9 m3/year)  \n",
       "11520  Overlap between surface water and groundwater ...  \n",
       "12096  Total internal renewable water resources (IRWR...  \n",
       "12672  Total internal renewable water resources per c...  \n",
       "13248  Surface water: entering the country (total) (1...  \n",
       "13824  Surface water: inflow not submitted to treatie...  \n",
       "14400  Surface water: inflow submitted to treaties (1...  \n",
       "14976  Surface water: inflow secured through treaties...  \n",
       "15552  Surface water: total flow of border rivers (10...  \n",
       "16128  Surface water: accounted flow of border rivers...  \n",
       "16704     Surface water: accounted inflow (10^9 m3/year)  \n",
       "17280  Surface water: leaving the country to other co...  \n",
       "17856  Surface water: outflow to other countries not ...  \n",
       "18432  Surface water: outflow to other countries subm...  \n",
       "19008  Surface water: outflow to other countries secu...  \n",
       "19584  Surface water: total external renewable (10^9 ...  \n",
       "20160  Groundwater: entering the country (total) (10^...  \n",
       "20736       Groundwater: accounted inflow (10^9 m3/year)  \n",
       "21312  Groundwater: leaving the country to other coun...  \n",
       "21888  Groundwater: accounted outflow to other countr...  \n",
       "22464  Water resources: total external renewable (10^...  \n",
       "23040       Total renewable surface water (10^9 m3/year)  \n",
       "23616         Total renewable groundwater (10^9 m3/year)  \n",
       "24192  Overlap: between surface water and groundwater...  \n",
       "24768     Total renewable water resources (10^9 m3/year)  \n",
       "25344                               Dependency ratio (%)  \n",
       "25920  Total renewable water resources per capita (m3...  \n",
       "26496  Exploitable: regular renewable surface water (...  \n",
       "27072  Exploitable: irregular renewable surface water...  \n",
       "27648  Exploitable: total renewable surface water (10...  \n",
       "28224  Exploitable: regular renewable groundwater (10...  \n",
       "28800   Total exploitable water resources (10^9 m3/year)  \n",
       "29376                  Interannual variability (WRI) (-)  \n",
       "29952                     Seasonal variability (WRI) (-)  \n",
       "30528                           Total dam capacity (km3)  \n",
       "31104                 Dam capacity per capita (m3/inhab)  \n",
       "31680                     Irrigation potential (1000 ha)  \n",
       "32256                         Flood occurrence (WRI) (-)  \n",
       "32832  Total population with access to safe drinking-...  \n",
       "33408  Rural population with access to safe drinking-...  \n",
       "33984  Urban population with access to safe drinking-...  "
      ]
     },
     "execution_count": 6,
     "metadata": {},
     "output_type": "execute_result"
    }
   ],
   "source": [
    "data[['variable','variable_full']].drop_duplicates()"
   ]
  },
  {
   "cell_type": "markdown",
   "metadata": {},
   "source": [
    "## Describe the panel"
   ]
  },
  {
   "cell_type": "code",
   "execution_count": 7,
   "metadata": {
    "ExecuteTime": {
     "end_time": "2022-04-15T17:34:55.060950Z",
     "start_time": "2022-04-15T17:34:55.054825Z"
    },
    "run_control": {
     "frozen": false,
     "read_only": false
    }
   },
   "outputs": [
    {
     "data": {
      "text/plain": [
       "199"
      ]
     },
     "execution_count": 7,
     "metadata": {},
     "output_type": "execute_result"
    }
   ],
   "source": [
    "data.country.nunique()"
   ]
  },
  {
   "cell_type": "markdown",
   "metadata": {},
   "source": [
    "199 unique countries involved"
   ]
  },
  {
   "cell_type": "code",
   "execution_count": 8,
   "metadata": {
    "ExecuteTime": {
     "end_time": "2022-04-15T17:34:55.066971Z",
     "start_time": "2022-04-15T17:34:55.061688Z"
    },
    "run_control": {
     "frozen": false,
     "read_only": false
    }
   },
   "outputs": [],
   "source": [
    "countries = data.country.unique()"
   ]
  },
  {
   "cell_type": "code",
   "execution_count": 9,
   "metadata": {
    "ExecuteTime": {
     "end_time": "2022-04-15T17:34:55.073293Z",
     "start_time": "2022-04-15T17:34:55.067651Z"
    },
    "run_control": {
     "frozen": false,
     "read_only": false
    }
   },
   "outputs": [
    {
     "data": {
      "text/plain": [
       "12"
      ]
     },
     "execution_count": 9,
     "metadata": {},
     "output_type": "execute_result"
    }
   ],
   "source": [
    "data.time_period.nunique()"
   ]
  },
  {
   "cell_type": "markdown",
   "metadata": {},
   "source": [
    "For 12 time periods"
   ]
  },
  {
   "cell_type": "code",
   "execution_count": 10,
   "metadata": {
    "ExecuteTime": {
     "end_time": "2022-04-15T17:34:55.080409Z",
     "start_time": "2022-04-15T17:34:55.074986Z"
    },
    "run_control": {
     "frozen": false,
     "read_only": false
    }
   },
   "outputs": [
    {
     "name": "stdout",
     "output_type": "stream",
     "text": [
      "['1958-1962' '1963-1967' '1968-1972' '1973-1977' '1978-1982' '1983-1987'\n",
      " '1988-1992' '1993-1997' '1998-2002' '2003-2007' '2008-2012' '2013-2017']\n"
     ]
    }
   ],
   "source": [
    "time_periods = data.time_period.unique()\n",
    "print(time_periods)"
   ]
  },
  {
   "cell_type": "markdown",
   "metadata": {},
   "source": [
    "## Making the data easy to work with\n",
    "\n",
    "**Make your data [tidy](https://tomaugspurger.github.io/modern-5-tidy.html)**\n",
    "1. Each variable forms a column\n",
    "2. Each observation forms a row\n",
    "3. Each type of observational unit forms a table\n"
   ]
  },
  {
   "cell_type": "markdown",
   "metadata": {},
   "source": [
    "**Ways to look at this data**"
   ]
  },
  {
   "cell_type": "markdown",
   "metadata": {},
   "source": [
    "We can look at this data set in a number of ways: \n",
    "* Cross-section: all countries during a single time period\n",
    "* Time-series: a single country over time \n",
    "* Panel data: all countries over time (as data is given)\n",
    "* Geospatial: all countries in geographical relation to each other "
   ]
  },
  {
   "cell_type": "markdown",
   "metadata": {},
   "source": [
    "This notebook will focus on creating unit tests for the function that will create cross-sections of the data for a single time period. "
   ]
  },
  {
   "cell_type": "markdown",
   "metadata": {},
   "source": [
    "# Develop function for slicing the data by time period"
   ]
  },
  {
   "cell_type": "code",
   "execution_count": 11,
   "metadata": {
    "ExecuteTime": {
     "end_time": "2022-04-15T17:34:55.083456Z",
     "start_time": "2022-04-15T17:34:55.081050Z"
    },
    "run_control": {
     "frozen": false,
     "read_only": false
    }
   },
   "outputs": [],
   "source": [
    "def slice_by_time(df, time_period):\n",
    "    \"\"\"For a `time_period`, creates a dataframe with a row for each country and a column for each AQUASTAT variable.\n",
    "\n",
    "    Args:\n",
    "        df: :obj:`pandas.DataFrame` with the columns, `country`, `variable`, `value`, and `time period`\n",
    "        time_period: time period for filtering the data set and pivoting\n",
    "\n",
    "    Returns:\n",
    "        df (:obj:`pandas.DataFrame`): Pivoted dataframe\n",
    "\n",
    "    \"\"\"\n",
    "    if not isinstance(df, pd.DataFrame):\n",
    "        raise TypeError(\"Provided argument `df` is not a Panda's DataFrame object\")\n",
    "        \n",
    "    # Only take data for time period of interest\n",
    "    df = df[df.time_period == time_period]\n",
    "\n",
    "    # Pivot table\n",
    "    df = df.pivot(index='country', columns='variable', values='value')\n",
    "\n",
    "    df.columns.name = time_period\n",
    "\n",
    "    return df"
   ]
  },
  {
   "cell_type": "code",
   "execution_count": 12,
   "metadata": {
    "ExecuteTime": {
     "end_time": "2022-04-15T17:34:55.096297Z",
     "start_time": "2022-04-15T17:34:55.084133Z"
    },
    "run_control": {
     "frozen": false,
     "read_only": false
    }
   },
   "outputs": [],
   "source": [
    "ts = slice_by_time(data, time_periods[0])"
   ]
  },
  {
   "cell_type": "code",
   "execution_count": 13,
   "metadata": {
    "ExecuteTime": {
     "end_time": "2022-04-15T17:34:55.105930Z",
     "start_time": "2022-04-15T17:34:55.097044Z"
    }
   },
   "outputs": [
    {
     "data": {
      "text/html": [
       "<div>\n",
       "<style scoped>\n",
       "    .dataframe tbody tr th:only-of-type {\n",
       "        vertical-align: middle;\n",
       "    }\n",
       "\n",
       "    .dataframe tbody tr th {\n",
       "        vertical-align: top;\n",
       "    }\n",
       "\n",
       "    .dataframe thead th {\n",
       "        text-align: right;\n",
       "    }\n",
       "</style>\n",
       "<table border=\"1\" class=\"dataframe\">\n",
       "  <thead>\n",
       "    <tr style=\"text-align: right;\">\n",
       "      <th>1958-1962</th>\n",
       "      <th>accounted_flow</th>\n",
       "      <th>accounted_flow_border_rivers</th>\n",
       "      <th>agg_to_gdp</th>\n",
       "      <th>arable_land</th>\n",
       "      <th>avg_annual_rain_depth</th>\n",
       "      <th>avg_annual_rain_vol</th>\n",
       "      <th>cultivated_area</th>\n",
       "      <th>dam_capacity_per_capita</th>\n",
       "      <th>dependency_ratio</th>\n",
       "      <th>exploitable_irregular_renewable_surface</th>\n",
       "      <th>...</th>\n",
       "      <th>total_flow_border_rivers</th>\n",
       "      <th>total_pop</th>\n",
       "      <th>total_pop_access_drinking</th>\n",
       "      <th>total_renewable</th>\n",
       "      <th>total_renewable_groundwater</th>\n",
       "      <th>total_renewable_per_capita</th>\n",
       "      <th>total_renewable_surface</th>\n",
       "      <th>urban_pop</th>\n",
       "      <th>urban_pop_access_drinking</th>\n",
       "      <th>water_total_external_renewable</th>\n",
       "    </tr>\n",
       "    <tr>\n",
       "      <th>country</th>\n",
       "      <th></th>\n",
       "      <th></th>\n",
       "      <th></th>\n",
       "      <th></th>\n",
       "      <th></th>\n",
       "      <th></th>\n",
       "      <th></th>\n",
       "      <th></th>\n",
       "      <th></th>\n",
       "      <th></th>\n",
       "      <th></th>\n",
       "      <th></th>\n",
       "      <th></th>\n",
       "      <th></th>\n",
       "      <th></th>\n",
       "      <th></th>\n",
       "      <th></th>\n",
       "      <th></th>\n",
       "      <th></th>\n",
       "      <th></th>\n",
       "      <th></th>\n",
       "    </tr>\n",
       "  </thead>\n",
       "  <tbody>\n",
       "    <tr>\n",
       "      <th>Afghanistan</th>\n",
       "      <td>19.00</td>\n",
       "      <td>9.0</td>\n",
       "      <td>NaN</td>\n",
       "      <td>7700.0</td>\n",
       "      <td>327.0</td>\n",
       "      <td>213.5000</td>\n",
       "      <td>7760.0</td>\n",
       "      <td>128.40</td>\n",
       "      <td>28.7200</td>\n",
       "      <td>NaN</td>\n",
       "      <td>...</td>\n",
       "      <td>33.4</td>\n",
       "      <td>9344.00</td>\n",
       "      <td>NaN</td>\n",
       "      <td>65.3300</td>\n",
       "      <td>10.650</td>\n",
       "      <td>6992.0</td>\n",
       "      <td>55.68</td>\n",
       "      <td>804.90</td>\n",
       "      <td>NaN</td>\n",
       "      <td>18.18</td>\n",
       "    </tr>\n",
       "    <tr>\n",
       "      <th>Albania</th>\n",
       "      <td>3.30</td>\n",
       "      <td>0.0</td>\n",
       "      <td>NaN</td>\n",
       "      <td>436.0</td>\n",
       "      <td>1485.0</td>\n",
       "      <td>42.6900</td>\n",
       "      <td>487.0</td>\n",
       "      <td>NaN</td>\n",
       "      <td>10.9300</td>\n",
       "      <td>NaN</td>\n",
       "      <td>...</td>\n",
       "      <td>0.0</td>\n",
       "      <td>1738.00</td>\n",
       "      <td>NaN</td>\n",
       "      <td>30.2000</td>\n",
       "      <td>6.200</td>\n",
       "      <td>17376.0</td>\n",
       "      <td>26.35</td>\n",
       "      <td>533.20</td>\n",
       "      <td>NaN</td>\n",
       "      <td>3.30</td>\n",
       "    </tr>\n",
       "    <tr>\n",
       "      <th>Algeria</th>\n",
       "      <td>0.39</td>\n",
       "      <td>0.0</td>\n",
       "      <td>NaN</td>\n",
       "      <td>6300.0</td>\n",
       "      <td>89.0</td>\n",
       "      <td>212.0000</td>\n",
       "      <td>6900.0</td>\n",
       "      <td>89.99</td>\n",
       "      <td>3.5990</td>\n",
       "      <td>5.0</td>\n",
       "      <td>...</td>\n",
       "      <td>0.0</td>\n",
       "      <td>11690.00</td>\n",
       "      <td>NaN</td>\n",
       "      <td>11.6700</td>\n",
       "      <td>1.517</td>\n",
       "      <td>998.3</td>\n",
       "      <td>10.15</td>\n",
       "      <td>3934.00</td>\n",
       "      <td>NaN</td>\n",
       "      <td>0.42</td>\n",
       "    </tr>\n",
       "    <tr>\n",
       "      <th>Andorra</th>\n",
       "      <td>NaN</td>\n",
       "      <td>NaN</td>\n",
       "      <td>NaN</td>\n",
       "      <td>1.0</td>\n",
       "      <td>NaN</td>\n",
       "      <td>0.4724</td>\n",
       "      <td>1.0</td>\n",
       "      <td>NaN</td>\n",
       "      <td>NaN</td>\n",
       "      <td>NaN</td>\n",
       "      <td>...</td>\n",
       "      <td>NaN</td>\n",
       "      <td>15.38</td>\n",
       "      <td>NaN</td>\n",
       "      <td>0.3156</td>\n",
       "      <td>NaN</td>\n",
       "      <td>20520.0</td>\n",
       "      <td>NaN</td>\n",
       "      <td>9.76</td>\n",
       "      <td>NaN</td>\n",
       "      <td>NaN</td>\n",
       "    </tr>\n",
       "    <tr>\n",
       "      <th>Angola</th>\n",
       "      <td>0.40</td>\n",
       "      <td>0.0</td>\n",
       "      <td>NaN</td>\n",
       "      <td>2700.0</td>\n",
       "      <td>1010.0</td>\n",
       "      <td>1259.0000</td>\n",
       "      <td>3200.0</td>\n",
       "      <td>25.96</td>\n",
       "      <td>0.2695</td>\n",
       "      <td>NaN</td>\n",
       "      <td>...</td>\n",
       "      <td>0.0</td>\n",
       "      <td>5466.00</td>\n",
       "      <td>NaN</td>\n",
       "      <td>148.4000</td>\n",
       "      <td>58.000</td>\n",
       "      <td>27150.0</td>\n",
       "      <td>145.40</td>\n",
       "      <td>577.00</td>\n",
       "      <td>NaN</td>\n",
       "      <td>0.40</td>\n",
       "    </tr>\n",
       "  </tbody>\n",
       "</table>\n",
       "<p>5 rows × 60 columns</p>\n",
       "</div>"
      ],
      "text/plain": [
       "1958-1962    accounted_flow  accounted_flow_border_rivers  agg_to_gdp  \\\n",
       "country                                                                 \n",
       "Afghanistan           19.00                           9.0         NaN   \n",
       "Albania                3.30                           0.0         NaN   \n",
       "Algeria                0.39                           0.0         NaN   \n",
       "Andorra                 NaN                           NaN         NaN   \n",
       "Angola                 0.40                           0.0         NaN   \n",
       "\n",
       "1958-1962    arable_land  avg_annual_rain_depth  avg_annual_rain_vol  \\\n",
       "country                                                                \n",
       "Afghanistan       7700.0                  327.0             213.5000   \n",
       "Albania            436.0                 1485.0              42.6900   \n",
       "Algeria           6300.0                   89.0             212.0000   \n",
       "Andorra              1.0                    NaN               0.4724   \n",
       "Angola            2700.0                 1010.0            1259.0000   \n",
       "\n",
       "1958-1962    cultivated_area  dam_capacity_per_capita  dependency_ratio  \\\n",
       "country                                                                   \n",
       "Afghanistan           7760.0                   128.40           28.7200   \n",
       "Albania                487.0                      NaN           10.9300   \n",
       "Algeria               6900.0                    89.99            3.5990   \n",
       "Andorra                  1.0                      NaN               NaN   \n",
       "Angola                3200.0                    25.96            0.2695   \n",
       "\n",
       "1958-1962    exploitable_irregular_renewable_surface  ...  \\\n",
       "country                                               ...   \n",
       "Afghanistan                                      NaN  ...   \n",
       "Albania                                          NaN  ...   \n",
       "Algeria                                          5.0  ...   \n",
       "Andorra                                          NaN  ...   \n",
       "Angola                                           NaN  ...   \n",
       "\n",
       "1958-1962    total_flow_border_rivers  total_pop  total_pop_access_drinking  \\\n",
       "country                                                                       \n",
       "Afghanistan                      33.4    9344.00                        NaN   \n",
       "Albania                           0.0    1738.00                        NaN   \n",
       "Algeria                           0.0   11690.00                        NaN   \n",
       "Andorra                           NaN      15.38                        NaN   \n",
       "Angola                            0.0    5466.00                        NaN   \n",
       "\n",
       "1958-1962    total_renewable  total_renewable_groundwater  \\\n",
       "country                                                     \n",
       "Afghanistan          65.3300                       10.650   \n",
       "Albania              30.2000                        6.200   \n",
       "Algeria              11.6700                        1.517   \n",
       "Andorra               0.3156                          NaN   \n",
       "Angola              148.4000                       58.000   \n",
       "\n",
       "1958-1962    total_renewable_per_capita  total_renewable_surface  urban_pop  \\\n",
       "country                                                                       \n",
       "Afghanistan                      6992.0                    55.68     804.90   \n",
       "Albania                         17376.0                    26.35     533.20   \n",
       "Algeria                           998.3                    10.15    3934.00   \n",
       "Andorra                         20520.0                      NaN       9.76   \n",
       "Angola                          27150.0                   145.40     577.00   \n",
       "\n",
       "1958-1962    urban_pop_access_drinking  water_total_external_renewable  \n",
       "country                                                                 \n",
       "Afghanistan                        NaN                           18.18  \n",
       "Albania                            NaN                            3.30  \n",
       "Algeria                            NaN                            0.42  \n",
       "Andorra                            NaN                             NaN  \n",
       "Angola                             NaN                            0.40  \n",
       "\n",
       "[5 rows x 60 columns]"
      ]
     },
     "execution_count": 13,
     "metadata": {},
     "output_type": "execute_result"
    }
   ],
   "source": [
    "ts.head()"
   ]
  },
  {
   "cell_type": "markdown",
   "metadata": {},
   "source": [
    "# Create unit test for expected behavior"
   ]
  },
  {
   "cell_type": "markdown",
   "metadata": {},
   "source": [
    "## Create input data for testing, `df_in`"
   ]
  },
  {
   "cell_type": "markdown",
   "metadata": {},
   "source": [
    "### Generate the subset to be used as `df_in`"
   ]
  },
  {
   "cell_type": "markdown",
   "metadata": {},
   "source": [
    "We don't need to recreate the entire dataframe we are using here but we do need to make sure it contains enough dimensions of the data (e.g. more than one country, more than one variable, more than one time period) such that the entire functionality of the function can be tested. "
   ]
  },
  {
   "cell_type": "code",
   "execution_count": 14,
   "metadata": {
    "ExecuteTime": {
     "end_time": "2022-04-15T17:34:55.159024Z",
     "start_time": "2022-04-15T17:34:55.151538Z"
    }
   },
   "outputs": [],
   "source": [
    "data_subset = data[(data.country.isin(['Indonesia', 'United Kingdom'])) & (\n",
    "    data.variable.isin(['total_pop', 'rural_pop', 'gdp', 'urban_pop'])) &\n",
    "                   (data.time_period.isin(['1958-1962', '1963-1967']))]"
   ]
  },
  {
   "cell_type": "code",
   "execution_count": 15,
   "metadata": {
    "ExecuteTime": {
     "end_time": "2022-04-15T17:34:55.165976Z",
     "start_time": "2022-04-15T17:34:55.159910Z"
    }
   },
   "outputs": [
    {
     "data": {
      "text/html": [
       "<div>\n",
       "<style scoped>\n",
       "    .dataframe tbody tr th:only-of-type {\n",
       "        vertical-align: middle;\n",
       "    }\n",
       "\n",
       "    .dataframe tbody tr th {\n",
       "        vertical-align: top;\n",
       "    }\n",
       "\n",
       "    .dataframe thead th {\n",
       "        text-align: right;\n",
       "    }\n",
       "</style>\n",
       "<table border=\"1\" class=\"dataframe\">\n",
       "  <thead>\n",
       "    <tr style=\"text-align: right;\">\n",
       "      <th></th>\n",
       "      <th>country</th>\n",
       "      <th>region</th>\n",
       "      <th>variable</th>\n",
       "      <th>variable_full</th>\n",
       "      <th>time_period</th>\n",
       "      <th>year_measured</th>\n",
       "      <th>value</th>\n",
       "    </tr>\n",
       "  </thead>\n",
       "  <tbody>\n",
       "    <tr>\n",
       "      <th>3024</th>\n",
       "      <td>Indonesia</td>\n",
       "      <td>World | Asia</td>\n",
       "      <td>total_pop</td>\n",
       "      <td>Total population (1000 inhab)</td>\n",
       "      <td>1958-1962</td>\n",
       "      <td>1962.0</td>\n",
       "      <td>9.255800e+04</td>\n",
       "    </tr>\n",
       "    <tr>\n",
       "      <th>3025</th>\n",
       "      <td>Indonesia</td>\n",
       "      <td>World | Asia</td>\n",
       "      <td>total_pop</td>\n",
       "      <td>Total population (1000 inhab)</td>\n",
       "      <td>1963-1967</td>\n",
       "      <td>1967.0</td>\n",
       "      <td>1.059070e+05</td>\n",
       "    </tr>\n",
       "    <tr>\n",
       "      <th>3600</th>\n",
       "      <td>Indonesia</td>\n",
       "      <td>World | Asia</td>\n",
       "      <td>rural_pop</td>\n",
       "      <td>Rural population (1000 inhab)</td>\n",
       "      <td>1958-1962</td>\n",
       "      <td>1962.0</td>\n",
       "      <td>7.853800e+04</td>\n",
       "    </tr>\n",
       "    <tr>\n",
       "      <th>3601</th>\n",
       "      <td>Indonesia</td>\n",
       "      <td>World | Asia</td>\n",
       "      <td>rural_pop</td>\n",
       "      <td>Rural population (1000 inhab)</td>\n",
       "      <td>1963-1967</td>\n",
       "      <td>1967.0</td>\n",
       "      <td>8.870100e+04</td>\n",
       "    </tr>\n",
       "    <tr>\n",
       "      <th>4176</th>\n",
       "      <td>Indonesia</td>\n",
       "      <td>World | Asia</td>\n",
       "      <td>urban_pop</td>\n",
       "      <td>Urban population (1000 inhab)</td>\n",
       "      <td>1958-1962</td>\n",
       "      <td>1962.0</td>\n",
       "      <td>1.402000e+04</td>\n",
       "    </tr>\n",
       "    <tr>\n",
       "      <th>4177</th>\n",
       "      <td>Indonesia</td>\n",
       "      <td>World | Asia</td>\n",
       "      <td>urban_pop</td>\n",
       "      <td>Urban population (1000 inhab)</td>\n",
       "      <td>1963-1967</td>\n",
       "      <td>1967.0</td>\n",
       "      <td>1.720600e+04</td>\n",
       "    </tr>\n",
       "    <tr>\n",
       "      <th>4752</th>\n",
       "      <td>Indonesia</td>\n",
       "      <td>World | Asia</td>\n",
       "      <td>gdp</td>\n",
       "      <td>Gross Domestic Product (GDP) (current US$)</td>\n",
       "      <td>1958-1962</td>\n",
       "      <td>NaN</td>\n",
       "      <td>NaN</td>\n",
       "    </tr>\n",
       "    <tr>\n",
       "      <th>4753</th>\n",
       "      <td>Indonesia</td>\n",
       "      <td>World | Asia</td>\n",
       "      <td>gdp</td>\n",
       "      <td>Gross Domestic Product (GDP) (current US$)</td>\n",
       "      <td>1963-1967</td>\n",
       "      <td>1967.0</td>\n",
       "      <td>5.980840e+09</td>\n",
       "    </tr>\n",
       "    <tr>\n",
       "      <th>102900</th>\n",
       "      <td>United Kingdom</td>\n",
       "      <td>World | Europe</td>\n",
       "      <td>total_pop</td>\n",
       "      <td>Total population (1000 inhab)</td>\n",
       "      <td>1958-1962</td>\n",
       "      <td>1962.0</td>\n",
       "      <td>5.314700e+04</td>\n",
       "    </tr>\n",
       "    <tr>\n",
       "      <th>102901</th>\n",
       "      <td>United Kingdom</td>\n",
       "      <td>World | Europe</td>\n",
       "      <td>total_pop</td>\n",
       "      <td>Total population (1000 inhab)</td>\n",
       "      <td>1963-1967</td>\n",
       "      <td>1967.0</td>\n",
       "      <td>5.490500e+04</td>\n",
       "    </tr>\n",
       "    <tr>\n",
       "      <th>103644</th>\n",
       "      <td>United Kingdom</td>\n",
       "      <td>World | Europe</td>\n",
       "      <td>rural_pop</td>\n",
       "      <td>Rural population (1000 inhab)</td>\n",
       "      <td>1958-1962</td>\n",
       "      <td>1962.0</td>\n",
       "      <td>1.147400e+04</td>\n",
       "    </tr>\n",
       "    <tr>\n",
       "      <th>103645</th>\n",
       "      <td>United Kingdom</td>\n",
       "      <td>World | Europe</td>\n",
       "      <td>rural_pop</td>\n",
       "      <td>Rural population (1000 inhab)</td>\n",
       "      <td>1963-1967</td>\n",
       "      <td>1967.0</td>\n",
       "      <td>1.229300e+04</td>\n",
       "    </tr>\n",
       "    <tr>\n",
       "      <th>104388</th>\n",
       "      <td>United Kingdom</td>\n",
       "      <td>World | Europe</td>\n",
       "      <td>urban_pop</td>\n",
       "      <td>Urban population (1000 inhab)</td>\n",
       "      <td>1958-1962</td>\n",
       "      <td>1962.0</td>\n",
       "      <td>4.167300e+04</td>\n",
       "    </tr>\n",
       "    <tr>\n",
       "      <th>104389</th>\n",
       "      <td>United Kingdom</td>\n",
       "      <td>World | Europe</td>\n",
       "      <td>urban_pop</td>\n",
       "      <td>Urban population (1000 inhab)</td>\n",
       "      <td>1963-1967</td>\n",
       "      <td>1967.0</td>\n",
       "      <td>4.261200e+04</td>\n",
       "    </tr>\n",
       "    <tr>\n",
       "      <th>105132</th>\n",
       "      <td>United Kingdom</td>\n",
       "      <td>World | Europe</td>\n",
       "      <td>gdp</td>\n",
       "      <td>Gross Domestic Product (GDP) (current US$)</td>\n",
       "      <td>1958-1962</td>\n",
       "      <td>1962.0</td>\n",
       "      <td>8.060194e+10</td>\n",
       "    </tr>\n",
       "    <tr>\n",
       "      <th>105133</th>\n",
       "      <td>United Kingdom</td>\n",
       "      <td>World | Europe</td>\n",
       "      <td>gdp</td>\n",
       "      <td>Gross Domestic Product (GDP) (current US$)</td>\n",
       "      <td>1963-1967</td>\n",
       "      <td>1967.0</td>\n",
       "      <td>1.110000e+11</td>\n",
       "    </tr>\n",
       "  </tbody>\n",
       "</table>\n",
       "</div>"
      ],
      "text/plain": [
       "               country          region   variable  \\\n",
       "3024         Indonesia    World | Asia  total_pop   \n",
       "3025         Indonesia    World | Asia  total_pop   \n",
       "3600         Indonesia    World | Asia  rural_pop   \n",
       "3601         Indonesia    World | Asia  rural_pop   \n",
       "4176         Indonesia    World | Asia  urban_pop   \n",
       "4177         Indonesia    World | Asia  urban_pop   \n",
       "4752         Indonesia    World | Asia        gdp   \n",
       "4753         Indonesia    World | Asia        gdp   \n",
       "102900  United Kingdom  World | Europe  total_pop   \n",
       "102901  United Kingdom  World | Europe  total_pop   \n",
       "103644  United Kingdom  World | Europe  rural_pop   \n",
       "103645  United Kingdom  World | Europe  rural_pop   \n",
       "104388  United Kingdom  World | Europe  urban_pop   \n",
       "104389  United Kingdom  World | Europe  urban_pop   \n",
       "105132  United Kingdom  World | Europe        gdp   \n",
       "105133  United Kingdom  World | Europe        gdp   \n",
       "\n",
       "                                     variable_full time_period  year_measured  \\\n",
       "3024                 Total population (1000 inhab)   1958-1962         1962.0   \n",
       "3025                 Total population (1000 inhab)   1963-1967         1967.0   \n",
       "3600                 Rural population (1000 inhab)   1958-1962         1962.0   \n",
       "3601                 Rural population (1000 inhab)   1963-1967         1967.0   \n",
       "4176                 Urban population (1000 inhab)   1958-1962         1962.0   \n",
       "4177                 Urban population (1000 inhab)   1963-1967         1967.0   \n",
       "4752    Gross Domestic Product (GDP) (current US$)   1958-1962            NaN   \n",
       "4753    Gross Domestic Product (GDP) (current US$)   1963-1967         1967.0   \n",
       "102900               Total population (1000 inhab)   1958-1962         1962.0   \n",
       "102901               Total population (1000 inhab)   1963-1967         1967.0   \n",
       "103644               Rural population (1000 inhab)   1958-1962         1962.0   \n",
       "103645               Rural population (1000 inhab)   1963-1967         1967.0   \n",
       "104388               Urban population (1000 inhab)   1958-1962         1962.0   \n",
       "104389               Urban population (1000 inhab)   1963-1967         1967.0   \n",
       "105132  Gross Domestic Product (GDP) (current US$)   1958-1962         1962.0   \n",
       "105133  Gross Domestic Product (GDP) (current US$)   1963-1967         1967.0   \n",
       "\n",
       "               value  \n",
       "3024    9.255800e+04  \n",
       "3025    1.059070e+05  \n",
       "3600    7.853800e+04  \n",
       "3601    8.870100e+04  \n",
       "4176    1.402000e+04  \n",
       "4177    1.720600e+04  \n",
       "4752             NaN  \n",
       "4753    5.980840e+09  \n",
       "102900  5.314700e+04  \n",
       "102901  5.490500e+04  \n",
       "103644  1.147400e+04  \n",
       "103645  1.229300e+04  \n",
       "104388  4.167300e+04  \n",
       "104389  4.261200e+04  \n",
       "105132  8.060194e+10  \n",
       "105133  1.110000e+11  "
      ]
     },
     "execution_count": 15,
     "metadata": {},
     "output_type": "execute_result"
    }
   ],
   "source": [
    "data_subset"
   ]
  },
  {
   "cell_type": "markdown",
   "metadata": {},
   "source": [
    "### Print the values"
   ]
  },
  {
   "cell_type": "markdown",
   "metadata": {},
   "source": [
    "To create an input dataframe within a unit test, we need to explicitly provide the following: \n",
    "* Data values\n",
    "* Column names\n",
    "* Indices\n",
    "* Name of columns array (if applicable)\n",
    "* Name of index (if applicable)\n",
    "\n",
    "To do this, we print each object and then copy and paste into the dataframe definition of `df_in`. "
   ]
  },
  {
   "cell_type": "code",
   "execution_count": 16,
   "metadata": {
    "ExecuteTime": {
     "end_time": "2022-04-15T17:34:55.334276Z",
     "start_time": "2022-04-15T17:34:55.329481Z"
    }
   },
   "outputs": [
    {
     "data": {
      "text/plain": [
       "array([['Indonesia', 'World | Asia', 'total_pop',\n",
       "        'Total population (1000 inhab)', '1958-1962', 1962.0, 92558.0],\n",
       "       ['Indonesia', 'World | Asia', 'total_pop',\n",
       "        'Total population (1000 inhab)', '1963-1967', 1967.0, 105907.0],\n",
       "       ['Indonesia', 'World | Asia', 'rural_pop',\n",
       "        'Rural population (1000 inhab)', '1958-1962', 1962.0, 78538.0],\n",
       "       ['Indonesia', 'World | Asia', 'rural_pop',\n",
       "        'Rural population (1000 inhab)', '1963-1967', 1967.0, 88701.0],\n",
       "       ['Indonesia', 'World | Asia', 'urban_pop',\n",
       "        'Urban population (1000 inhab)', '1958-1962', 1962.0, 14020.0],\n",
       "       ['Indonesia', 'World | Asia', 'urban_pop',\n",
       "        'Urban population (1000 inhab)', '1963-1967', 1967.0, 17206.0],\n",
       "       ['Indonesia', 'World | Asia', 'gdp',\n",
       "        'Gross Domestic Product (GDP) (current US$)', '1958-1962', nan,\n",
       "        nan],\n",
       "       ['Indonesia', 'World | Asia', 'gdp',\n",
       "        'Gross Domestic Product (GDP) (current US$)', '1963-1967',\n",
       "        1967.0, 5980840376.0],\n",
       "       ['United Kingdom', 'World | Europe', 'total_pop',\n",
       "        'Total population (1000 inhab)', '1958-1962', 1962.0, 53147.0],\n",
       "       ['United Kingdom', 'World | Europe', 'total_pop',\n",
       "        'Total population (1000 inhab)', '1963-1967', 1967.0, 54905.0],\n",
       "       ['United Kingdom', 'World | Europe', 'rural_pop',\n",
       "        'Rural population (1000 inhab)', '1958-1962', 1962.0, 11474.0],\n",
       "       ['United Kingdom', 'World | Europe', 'rural_pop',\n",
       "        'Rural population (1000 inhab)', '1963-1967', 1967.0, 12293.0],\n",
       "       ['United Kingdom', 'World | Europe', 'urban_pop',\n",
       "        'Urban population (1000 inhab)', '1958-1962', 1962.0, 41673.0],\n",
       "       ['United Kingdom', 'World | Europe', 'urban_pop',\n",
       "        'Urban population (1000 inhab)', '1963-1967', 1967.0, 42612.0],\n",
       "       ['United Kingdom', 'World | Europe', 'gdp',\n",
       "        'Gross Domestic Product (GDP) (current US$)', '1958-1962',\n",
       "        1962.0, 80601939635.0],\n",
       "       ['United Kingdom', 'World | Europe', 'gdp',\n",
       "        'Gross Domestic Product (GDP) (current US$)', '1963-1967',\n",
       "        1967.0, 111000000000.0]], dtype=object)"
      ]
     },
     "execution_count": 16,
     "metadata": {},
     "output_type": "execute_result"
    }
   ],
   "source": [
    "data_subset.values"
   ]
  },
  {
   "cell_type": "markdown",
   "metadata": {},
   "source": [
    "### Print the index"
   ]
  },
  {
   "cell_type": "code",
   "execution_count": 17,
   "metadata": {
    "ExecuteTime": {
     "end_time": "2022-04-15T17:34:55.423774Z",
     "start_time": "2022-04-15T17:34:55.413605Z"
    }
   },
   "outputs": [
    {
     "data": {
      "text/plain": [
       "Int64Index([  3024,   3025,   3600,   3601,   4176,   4177,   4752,   4753,\n",
       "            102900, 102901, 103644, 103645, 104388, 104389, 105132, 105133],\n",
       "           dtype='int64')"
      ]
     },
     "execution_count": 17,
     "metadata": {},
     "output_type": "execute_result"
    }
   ],
   "source": [
    "data_subset.index"
   ]
  },
  {
   "cell_type": "markdown",
   "metadata": {},
   "source": [
    "### Print the column names"
   ]
  },
  {
   "cell_type": "code",
   "execution_count": 18,
   "metadata": {
    "ExecuteTime": {
     "end_time": "2022-04-15T17:34:55.507161Z",
     "start_time": "2022-04-15T17:34:55.502217Z"
    }
   },
   "outputs": [
    {
     "data": {
      "text/plain": [
       "Index(['country', 'region', 'variable', 'variable_full', 'time_period',\n",
       "       'year_measured', 'value'],\n",
       "      dtype='object')"
      ]
     },
     "execution_count": 18,
     "metadata": {},
     "output_type": "execute_result"
    }
   ],
   "source": [
    "data_subset.columns"
   ]
  },
  {
   "cell_type": "markdown",
   "metadata": {},
   "source": [
    "### Print the column and index names"
   ]
  },
  {
   "cell_type": "code",
   "execution_count": 19,
   "metadata": {
    "ExecuteTime": {
     "end_time": "2022-04-15T17:34:55.598837Z",
     "start_time": "2022-04-15T17:34:55.590712Z"
    }
   },
   "outputs": [],
   "source": [
    "data_subset.index.name"
   ]
  },
  {
   "cell_type": "code",
   "execution_count": 20,
   "metadata": {
    "ExecuteTime": {
     "end_time": "2022-04-15T17:34:55.613630Z",
     "start_time": "2022-04-15T17:34:55.608598Z"
    }
   },
   "outputs": [],
   "source": [
    "data_subset.columns.name"
   ]
  },
  {
   "cell_type": "markdown",
   "metadata": {},
   "source": [
    "Dataframe does not have named index or columns so do not need to provide."
   ]
  },
  {
   "cell_type": "markdown",
   "metadata": {},
   "source": [
    "### Copy and paste the data and create your input dataframe"
   ]
  },
  {
   "cell_type": "markdown",
   "metadata": {},
   "source": [
    "Replace any 'nan' values with `np.nan`"
   ]
  },
  {
   "cell_type": "code",
   "execution_count": 21,
   "metadata": {
    "ExecuteTime": {
     "end_time": "2022-04-15T17:34:55.874176Z",
     "start_time": "2022-04-15T17:34:55.856912Z"
    }
   },
   "outputs": [],
   "source": [
    "df_in_values = [['Indonesia', 'World | Asia', 'total_pop',\n",
    "        'Total population (1000 inhab)', '1958-1962', 1962.0, 92558.0],\n",
    "       ['Indonesia', 'World | Asia', 'total_pop',\n",
    "        'Total population (1000 inhab)', '1963-1967', 1967.0, 105907.0],\n",
    "       ['Indonesia', 'World | Asia', 'rural_pop',\n",
    "        'Rural population (1000 inhab)', '1958-1962', 1962.0, 78538.0],\n",
    "       ['Indonesia', 'World | Asia', 'rural_pop',\n",
    "        'Rural population (1000 inhab)', '1963-1967', 1967.0, 88701.0],\n",
    "       ['Indonesia', 'World | Asia', 'urban_pop',\n",
    "        'Urban population (1000 inhab)', '1958-1962', 1962.0, 14020.0],\n",
    "       ['Indonesia', 'World | Asia', 'urban_pop',\n",
    "        'Urban population (1000 inhab)', '1963-1967', 1967.0, 17206.0],\n",
    "       ['Indonesia', 'World | Asia', 'gdp',\n",
    "        'Gross Domestic Product (GDP) (current US$)', '1958-1962', np.nan,\n",
    "        np.nan],\n",
    "       ['Indonesia', 'World | Asia', 'gdp',\n",
    "        'Gross Domestic Product (GDP) (current US$)', '1963-1967',\n",
    "        1967.0, 5980840376.0],\n",
    "       ['United Kingdom', 'World | Europe', 'total_pop',\n",
    "        'Total population (1000 inhab)', '1958-1962', 1962.0, 53147.0],\n",
    "       ['United Kingdom', 'World | Europe', 'total_pop',\n",
    "        'Total population (1000 inhab)', '1963-1967', 1967.0, 54905.0],\n",
    "       ['United Kingdom', 'World | Europe', 'rural_pop',\n",
    "        'Rural population (1000 inhab)', '1958-1962', 1962.0, 11474.0],\n",
    "       ['United Kingdom', 'World | Europe', 'rural_pop',\n",
    "        'Rural population (1000 inhab)', '1963-1967', 1967.0, 12293.0],\n",
    "       ['United Kingdom', 'World | Europe', 'urban_pop',\n",
    "        'Urban population (1000 inhab)', '1958-1962', 1962.0, 41673.0],\n",
    "       ['United Kingdom', 'World | Europe', 'urban_pop',\n",
    "        'Urban population (1000 inhab)', '1963-1967', 1967.0, 42612.0],\n",
    "       ['United Kingdom', 'World | Europe', 'gdp',\n",
    "        'Gross Domestic Product (GDP) (current US$)', '1958-1962',\n",
    "        1962.0, 80601939635.0],\n",
    "       ['United Kingdom', 'World | Europe', 'gdp',\n",
    "        'Gross Domestic Product (GDP) (current US$)', '1963-1967',\n",
    "        1967.0, 111000000000.0]]\n",
    "\n",
    "df_in_index = [  3024,   3025,   3600,   3601,   4176,   4177,   4752,   4753,\n",
    "            102900, 102901, 103644, 103645, 104388, 104389, 105132, 105133]\n",
    "\n",
    "df_in_columns = ['country', 'region', 'variable', 'variable_full', 'time_period',\n",
    "       'year_measured', 'value']\n",
    "\n",
    "df_in = pd.DataFrame(df_in_values, index=df_in_index, columns=df_in_columns)"
   ]
  },
  {
   "cell_type": "markdown",
   "metadata": {},
   "source": [
    "### Check that you replicated the data correctly"
   ]
  },
  {
   "cell_type": "code",
   "execution_count": 22,
   "metadata": {
    "ExecuteTime": {
     "end_time": "2022-04-15T17:34:55.955055Z",
     "start_time": "2022-04-15T17:34:55.947122Z"
    }
   },
   "outputs": [
    {
     "data": {
      "text/plain": [
       "True"
      ]
     },
     "execution_count": 22,
     "metadata": {},
     "output_type": "execute_result"
    }
   ],
   "source": [
    "df_in.equals(data_subset)"
   ]
  },
  {
   "cell_type": "markdown",
   "metadata": {},
   "source": [
    "## Create expected output, `df_true`"
   ]
  },
  {
   "cell_type": "code",
   "execution_count": 23,
   "metadata": {
    "ExecuteTime": {
     "end_time": "2022-04-15T17:34:56.053568Z",
     "start_time": "2022-04-15T17:34:56.034701Z"
    }
   },
   "outputs": [
    {
     "data": {
      "text/html": [
       "<div>\n",
       "<style scoped>\n",
       "    .dataframe tbody tr th:only-of-type {\n",
       "        vertical-align: middle;\n",
       "    }\n",
       "\n",
       "    .dataframe tbody tr th {\n",
       "        vertical-align: top;\n",
       "    }\n",
       "\n",
       "    .dataframe thead th {\n",
       "        text-align: right;\n",
       "    }\n",
       "</style>\n",
       "<table border=\"1\" class=\"dataframe\">\n",
       "  <thead>\n",
       "    <tr style=\"text-align: right;\">\n",
       "      <th>1963-1967</th>\n",
       "      <th>gdp</th>\n",
       "      <th>rural_pop</th>\n",
       "      <th>total_pop</th>\n",
       "      <th>urban_pop</th>\n",
       "    </tr>\n",
       "    <tr>\n",
       "      <th>country</th>\n",
       "      <th></th>\n",
       "      <th></th>\n",
       "      <th></th>\n",
       "      <th></th>\n",
       "    </tr>\n",
       "  </thead>\n",
       "  <tbody>\n",
       "    <tr>\n",
       "      <th>Indonesia</th>\n",
       "      <td>5.980840e+09</td>\n",
       "      <td>88701.0</td>\n",
       "      <td>105907.0</td>\n",
       "      <td>17206.0</td>\n",
       "    </tr>\n",
       "    <tr>\n",
       "      <th>United Kingdom</th>\n",
       "      <td>1.110000e+11</td>\n",
       "      <td>12293.0</td>\n",
       "      <td>54905.0</td>\n",
       "      <td>42612.0</td>\n",
       "    </tr>\n",
       "  </tbody>\n",
       "</table>\n",
       "</div>"
      ],
      "text/plain": [
       "1963-1967                gdp  rural_pop  total_pop  urban_pop\n",
       "country                                                      \n",
       "Indonesia       5.980840e+09    88701.0   105907.0    17206.0\n",
       "United Kingdom  1.110000e+11    12293.0    54905.0    42612.0"
      ]
     },
     "execution_count": 23,
     "metadata": {},
     "output_type": "execute_result"
    }
   ],
   "source": [
    "df_out = slice_by_time(df_in, '1963-1967')\n",
    "df_out"
   ]
  },
  {
   "cell_type": "markdown",
   "metadata": {},
   "source": [
    "Check that the function is currently working as expected. "
   ]
  },
  {
   "cell_type": "code",
   "execution_count": 24,
   "metadata": {
    "ExecuteTime": {
     "end_time": "2022-04-15T17:34:56.151184Z",
     "start_time": "2022-04-15T17:34:56.126823Z"
    },
    "scrolled": true
   },
   "outputs": [
    {
     "data": {
      "text/html": [
       "<div>\n",
       "<style scoped>\n",
       "    .dataframe tbody tr th:only-of-type {\n",
       "        vertical-align: middle;\n",
       "    }\n",
       "\n",
       "    .dataframe tbody tr th {\n",
       "        vertical-align: top;\n",
       "    }\n",
       "\n",
       "    .dataframe thead th {\n",
       "        text-align: right;\n",
       "    }\n",
       "</style>\n",
       "<table border=\"1\" class=\"dataframe\">\n",
       "  <thead>\n",
       "    <tr style=\"text-align: right;\">\n",
       "      <th></th>\n",
       "      <th>country</th>\n",
       "      <th>variable</th>\n",
       "      <th>value</th>\n",
       "    </tr>\n",
       "  </thead>\n",
       "  <tbody>\n",
       "    <tr>\n",
       "      <th>3025</th>\n",
       "      <td>Indonesia</td>\n",
       "      <td>total_pop</td>\n",
       "      <td>1.059070e+05</td>\n",
       "    </tr>\n",
       "    <tr>\n",
       "      <th>3601</th>\n",
       "      <td>Indonesia</td>\n",
       "      <td>rural_pop</td>\n",
       "      <td>8.870100e+04</td>\n",
       "    </tr>\n",
       "    <tr>\n",
       "      <th>4177</th>\n",
       "      <td>Indonesia</td>\n",
       "      <td>urban_pop</td>\n",
       "      <td>1.720600e+04</td>\n",
       "    </tr>\n",
       "    <tr>\n",
       "      <th>4753</th>\n",
       "      <td>Indonesia</td>\n",
       "      <td>gdp</td>\n",
       "      <td>5.980840e+09</td>\n",
       "    </tr>\n",
       "    <tr>\n",
       "      <th>102901</th>\n",
       "      <td>United Kingdom</td>\n",
       "      <td>total_pop</td>\n",
       "      <td>5.490500e+04</td>\n",
       "    </tr>\n",
       "    <tr>\n",
       "      <th>103645</th>\n",
       "      <td>United Kingdom</td>\n",
       "      <td>rural_pop</td>\n",
       "      <td>1.229300e+04</td>\n",
       "    </tr>\n",
       "    <tr>\n",
       "      <th>104389</th>\n",
       "      <td>United Kingdom</td>\n",
       "      <td>urban_pop</td>\n",
       "      <td>4.261200e+04</td>\n",
       "    </tr>\n",
       "    <tr>\n",
       "      <th>105133</th>\n",
       "      <td>United Kingdom</td>\n",
       "      <td>gdp</td>\n",
       "      <td>1.110000e+11</td>\n",
       "    </tr>\n",
       "  </tbody>\n",
       "</table>\n",
       "</div>"
      ],
      "text/plain": [
       "               country   variable         value\n",
       "3025         Indonesia  total_pop  1.059070e+05\n",
       "3601         Indonesia  rural_pop  8.870100e+04\n",
       "4177         Indonesia  urban_pop  1.720600e+04\n",
       "4753         Indonesia        gdp  5.980840e+09\n",
       "102901  United Kingdom  total_pop  5.490500e+04\n",
       "103645  United Kingdom  rural_pop  1.229300e+04\n",
       "104389  United Kingdom  urban_pop  4.261200e+04\n",
       "105133  United Kingdom        gdp  1.110000e+11"
      ]
     },
     "execution_count": 24,
     "metadata": {},
     "output_type": "execute_result"
    }
   ],
   "source": [
    "df_in[(df_in.country.isin(['Indonesia', 'United Kingdom'])) & (\n",
    "    df_in.variable.isin(['total_pop', 'rural_pop', 'gdp', 'urban_pop'])) &\n",
    "                   (df_in.time_period.isin(['1963-1967']))][['country', 'variable', 'value']]"
   ]
  },
  {
   "cell_type": "markdown",
   "metadata": {},
   "source": [
    "Values look correct. "
   ]
  },
  {
   "cell_type": "markdown",
   "metadata": {},
   "source": [
    "### Print values"
   ]
  },
  {
   "cell_type": "code",
   "execution_count": 25,
   "metadata": {
    "ExecuteTime": {
     "end_time": "2022-04-15T17:34:56.320621Z",
     "start_time": "2022-04-15T17:34:56.311322Z"
    }
   },
   "outputs": [
    {
     "data": {
      "text/plain": [
       "array([[5.98084038e+09, 8.87010000e+04, 1.05907000e+05, 1.72060000e+04],\n",
       "       [1.11000000e+11, 1.22930000e+04, 5.49050000e+04, 4.26120000e+04]])"
      ]
     },
     "execution_count": 25,
     "metadata": {},
     "output_type": "execute_result"
    }
   ],
   "source": [
    "df_out.values"
   ]
  },
  {
   "cell_type": "markdown",
   "metadata": {},
   "source": [
    "Because there are values greater than 1000, numpy automatically prints in scientific notation. However, this does not provide the precision necessary to create a Panda's dataframe based on the print statements. "
   ]
  },
  {
   "cell_type": "code",
   "execution_count": 26,
   "metadata": {
    "ExecuteTime": {
     "end_time": "2022-04-15T17:34:56.414199Z",
     "start_time": "2022-04-15T17:34:56.401003Z"
    }
   },
   "outputs": [
    {
     "name": "stdout",
     "output_type": "stream",
     "text": [
      "5980840376.0\n"
     ]
    }
   ],
   "source": [
    "print(df_out.values[0][0])"
   ]
  },
  {
   "cell_type": "markdown",
   "metadata": {},
   "source": [
    "Therefore, we need to convert the values to string upon printing via numpy's `np.set_printoptions()` function: "
   ]
  },
  {
   "cell_type": "code",
   "execution_count": 27,
   "metadata": {
    "ExecuteTime": {
     "end_time": "2022-04-15T17:34:56.508704Z",
     "start_time": "2022-04-15T17:34:56.501471Z"
    }
   },
   "outputs": [],
   "source": [
    "np.set_printoptions(formatter={'all':lambda x: str(x)})"
   ]
  },
  {
   "cell_type": "code",
   "execution_count": 28,
   "metadata": {
    "ExecuteTime": {
     "end_time": "2022-04-15T17:34:56.518162Z",
     "start_time": "2022-04-15T17:34:56.512442Z"
    }
   },
   "outputs": [
    {
     "data": {
      "text/plain": [
       "array([[5980840376.0, 88701.0, 105907.0, 17206.0],\n",
       "       [111000000000.0, 12293.0, 54905.0, 42612.0]])"
      ]
     },
     "execution_count": 28,
     "metadata": {},
     "output_type": "execute_result"
    }
   ],
   "source": [
    "df_out.values"
   ]
  },
  {
   "cell_type": "markdown",
   "metadata": {},
   "source": [
    "### Print index"
   ]
  },
  {
   "cell_type": "code",
   "execution_count": 29,
   "metadata": {
    "ExecuteTime": {
     "end_time": "2022-04-15T17:34:56.601105Z",
     "start_time": "2022-04-15T17:34:56.594125Z"
    }
   },
   "outputs": [
    {
     "data": {
      "text/plain": [
       "Index(['Indonesia', 'United Kingdom'], dtype='object', name='country')"
      ]
     },
     "execution_count": 29,
     "metadata": {},
     "output_type": "execute_result"
    }
   ],
   "source": [
    "df_out.index"
   ]
  },
  {
   "cell_type": "markdown",
   "metadata": {},
   "source": [
    "### Print columns"
   ]
  },
  {
   "cell_type": "code",
   "execution_count": 30,
   "metadata": {
    "ExecuteTime": {
     "end_time": "2022-04-15T17:34:56.694478Z",
     "start_time": "2022-04-15T17:34:56.686986Z"
    }
   },
   "outputs": [
    {
     "data": {
      "text/plain": [
       "Index(['gdp', 'rural_pop', 'total_pop', 'urban_pop'], dtype='object', name='1963-1967')"
      ]
     },
     "execution_count": 30,
     "metadata": {},
     "output_type": "execute_result"
    }
   ],
   "source": [
    "df_out.columns"
   ]
  },
  {
   "cell_type": "markdown",
   "metadata": {},
   "source": [
    "### Print columns and index name"
   ]
  },
  {
   "cell_type": "code",
   "execution_count": 31,
   "metadata": {
    "ExecuteTime": {
     "end_time": "2022-04-15T17:34:56.788317Z",
     "start_time": "2022-04-15T17:34:56.781633Z"
    }
   },
   "outputs": [
    {
     "data": {
      "text/plain": [
       "'1963-1967'"
      ]
     },
     "execution_count": 31,
     "metadata": {},
     "output_type": "execute_result"
    }
   ],
   "source": [
    "df_out.columns.name"
   ]
  },
  {
   "cell_type": "code",
   "execution_count": 32,
   "metadata": {
    "ExecuteTime": {
     "end_time": "2022-04-15T17:34:56.798462Z",
     "start_time": "2022-04-15T17:34:56.790570Z"
    }
   },
   "outputs": [
    {
     "data": {
      "text/plain": [
       "'country'"
      ]
     },
     "execution_count": 32,
     "metadata": {},
     "output_type": "execute_result"
    }
   ],
   "source": [
    "df_out.index.name"
   ]
  },
  {
   "cell_type": "markdown",
   "metadata": {},
   "source": [
    "### Copy and paste to create `df_true`"
   ]
  },
  {
   "cell_type": "code",
   "execution_count": 33,
   "metadata": {
    "ExecuteTime": {
     "end_time": "2022-04-15T17:34:56.885782Z",
     "start_time": "2022-04-15T17:34:56.878565Z"
    }
   },
   "outputs": [],
   "source": [
    "df_true = pd.DataFrame(\n",
    "    [[5980840376.0, 88701.0, 105907.0, 17206.0],\n",
    "       [111000000000.0, 12293.0, 54905.0, 42612.0]],\n",
    "index=['Indonesia', 'United Kingdom'],\n",
    "columns=['gdp', 'rural_pop', 'total_pop', 'urban_pop'])\n",
    "\n",
    "df_true.index.name = 'country'\n",
    "df_true.columns.name = '1963-1967'"
   ]
  },
  {
   "cell_type": "markdown",
   "metadata": {},
   "source": [
    "### Check that you replicated the data correctly"
   ]
  },
  {
   "cell_type": "code",
   "execution_count": 34,
   "metadata": {
    "ExecuteTime": {
     "end_time": "2022-04-15T17:34:56.983263Z",
     "start_time": "2022-04-15T17:34:56.975609Z"
    }
   },
   "outputs": [
    {
     "data": {
      "text/plain": [
       "True"
      ]
     },
     "execution_count": 34,
     "metadata": {},
     "output_type": "execute_result"
    }
   ],
   "source": [
    "df_true.equals(df_out)"
   ]
  },
  {
   "cell_type": "markdown",
   "metadata": {},
   "source": [
    "## Create test "
   ]
  },
  {
   "cell_type": "markdown",
   "metadata": {},
   "source": [
    "Copy and paste code from 3.1.6 and 3.2.5 to create test:"
   ]
  },
  {
   "cell_type": "code",
   "execution_count": 35,
   "metadata": {
    "ExecuteTime": {
     "end_time": "2022-04-15T17:34:57.195463Z",
     "start_time": "2022-04-15T17:34:57.175847Z"
    }
   },
   "outputs": [],
   "source": [
    "def test_slice_by_time():\n",
    "    \n",
    "    # Define input dataframe \n",
    "    df_in_values = [['Indonesia', 'World | Asia', 'total_pop',\n",
    "        'Total population (1000 inhab)', '1958-1962', 1962.0, 92558.0],\n",
    "       ['Indonesia', 'World | Asia', 'total_pop',\n",
    "        'Total population (1000 inhab)', '1963-1967', 1967.0, 105907.0],\n",
    "       ['Indonesia', 'World | Asia', 'rural_pop',\n",
    "        'Rural population (1000 inhab)', '1958-1962', 1962.0, 78538.0],\n",
    "       ['Indonesia', 'World | Asia', 'rural_pop',\n",
    "        'Rural population (1000 inhab)', '1963-1967', 1967.0, 88701.0],\n",
    "       ['Indonesia', 'World | Asia', 'urban_pop',\n",
    "        'Urban population (1000 inhab)', '1958-1962', 1962.0, 14020.0],\n",
    "       ['Indonesia', 'World | Asia', 'urban_pop',\n",
    "        'Urban population (1000 inhab)', '1963-1967', 1967.0, 17206.0],\n",
    "       ['Indonesia', 'World | Asia', 'gdp',\n",
    "        'Gross Domestic Product (GDP) (current US$)', '1958-1962', np.nan,\n",
    "        np.nan],\n",
    "       ['Indonesia', 'World | Asia', 'gdp',\n",
    "        'Gross Domestic Product (GDP) (current US$)', '1963-1967',\n",
    "        1967.0, 5980840376.0],\n",
    "       ['United Kingdom', 'World | Europe', 'total_pop',\n",
    "        'Total population (1000 inhab)', '1958-1962', 1962.0, 53147.0],\n",
    "       ['United Kingdom', 'World | Europe', 'total_pop',\n",
    "        'Total population (1000 inhab)', '1963-1967', 1967.0, 54905.0],\n",
    "       ['United Kingdom', 'World | Europe', 'rural_pop',\n",
    "        'Rural population (1000 inhab)', '1958-1962', 1962.0, 11474.0],\n",
    "       ['United Kingdom', 'World | Europe', 'rural_pop',\n",
    "        'Rural population (1000 inhab)', '1963-1967', 1967.0, 12293.0],\n",
    "       ['United Kingdom', 'World | Europe', 'urban_pop',\n",
    "        'Urban population (1000 inhab)', '1958-1962', 1962.0, 41673.0],\n",
    "       ['United Kingdom', 'World | Europe', 'urban_pop',\n",
    "        'Urban population (1000 inhab)', '1963-1967', 1967.0, 42612.0],\n",
    "       ['United Kingdom', 'World | Europe', 'gdp',\n",
    "        'Gross Domestic Product (GDP) (current US$)', '1958-1962',\n",
    "        1962.0, 80601939635.0],\n",
    "       ['United Kingdom', 'World | Europe', 'gdp',\n",
    "        'Gross Domestic Product (GDP) (current US$)', '1963-1967',\n",
    "        1967.0, 111000000000.0]]\n",
    "\n",
    "    df_in_index = [  3024,   3025,   3600,   3601,   4176,   4177,   4752,   4753,\n",
    "                102900, 102901, 103644, 103645, 104388, 104389, 105132, 105133]\n",
    "\n",
    "    df_in_columns = ['country', 'region', 'variable', 'variable_full', 'time_period',\n",
    "           'year_measured', 'value']\n",
    "\n",
    "    df_in = pd.DataFrame(df_in_values, index=df_in_index, columns=df_in_columns)\n",
    "    \n",
    "    # Define expected output, df_true\n",
    "    df_true = pd.DataFrame(\n",
    "    [[5980840376.0, 88701.0, 105907.0, 17206.0],\n",
    "       [111000000000.0, 12293.0, 54905.0, 42612.0]],\n",
    "    index=['Indonesia', 'United Kingdom'],\n",
    "    columns=['gdp', 'rural_pop', 'total_pop', 'urban_pop'])\n",
    "\n",
    "    df_true.index.name = 'country'\n",
    "    df_true.columns.name = '1963-1967'\n",
    "    \n",
    "   # Compute test output \n",
    "    \n",
    "    df_test = slice_by_time(df_in, '1963-1967')\n",
    "    \n",
    "    # Test that the true and test are the same \n",
    "    assert df_test.equals(df_true)"
   ]
  },
  {
   "cell_type": "markdown",
   "metadata": {},
   "source": [
    "## Check test"
   ]
  },
  {
   "cell_type": "markdown",
   "metadata": {},
   "source": [
    "Run test function. Nothing should happen if `df_test == df_true`."
   ]
  },
  {
   "cell_type": "code",
   "execution_count": 36,
   "metadata": {
    "ExecuteTime": {
     "end_time": "2022-04-15T17:34:57.392003Z",
     "start_time": "2022-04-15T17:34:57.382216Z"
    }
   },
   "outputs": [],
   "source": [
    "test_slice_by_time()"
   ]
  },
  {
   "cell_type": "markdown",
   "metadata": {},
   "source": [
    "# Create test where time slice does not exist"
   ]
  },
  {
   "cell_type": "markdown",
   "metadata": {},
   "source": [
    "Use the same `df_in` as created in 3.1 but test what should happen if a time period is provided to `slice_by_time()` that does not exist in the data."
   ]
  },
  {
   "cell_type": "markdown",
   "metadata": {},
   "source": [
    "## Create expected output, df_true"
   ]
  },
  {
   "cell_type": "code",
   "execution_count": 37,
   "metadata": {
    "ExecuteTime": {
     "end_time": "2022-04-15T17:34:57.699255Z",
     "start_time": "2022-04-15T17:34:57.686610Z"
    }
   },
   "outputs": [
    {
     "data": {
      "text/html": [
       "<div>\n",
       "<style scoped>\n",
       "    .dataframe tbody tr th:only-of-type {\n",
       "        vertical-align: middle;\n",
       "    }\n",
       "\n",
       "    .dataframe tbody tr th {\n",
       "        vertical-align: top;\n",
       "    }\n",
       "\n",
       "    .dataframe thead th {\n",
       "        text-align: right;\n",
       "    }\n",
       "</style>\n",
       "<table border=\"1\" class=\"dataframe\">\n",
       "  <thead>\n",
       "    <tr style=\"text-align: right;\">\n",
       "      <th>2013-2017</th>\n",
       "    </tr>\n",
       "    <tr>\n",
       "      <th>country</th>\n",
       "    </tr>\n",
       "  </thead>\n",
       "  <tbody>\n",
       "  </tbody>\n",
       "</table>\n",
       "</div>"
      ],
      "text/plain": [
       "Empty DataFrame\n",
       "Columns: []\n",
       "Index: []"
      ]
     },
     "execution_count": 37,
     "metadata": {},
     "output_type": "execute_result"
    }
   ],
   "source": [
    "df_out_empty = slice_by_time(df_in, '2013-2017')\n",
    "df_out_empty"
   ]
  },
  {
   "cell_type": "markdown",
   "metadata": {},
   "source": [
    "### Print values"
   ]
  },
  {
   "cell_type": "code",
   "execution_count": 38,
   "metadata": {
    "ExecuteTime": {
     "end_time": "2022-04-15T17:34:57.796428Z",
     "start_time": "2022-04-15T17:34:57.786724Z"
    }
   },
   "outputs": [
    {
     "data": {
      "text/plain": [
       "array([], shape=(0, 0), dtype=float64)"
      ]
     },
     "execution_count": 38,
     "metadata": {},
     "output_type": "execute_result"
    }
   ],
   "source": [
    "df_out_empty.values"
   ]
  },
  {
   "cell_type": "markdown",
   "metadata": {},
   "source": [
    "### Print index"
   ]
  },
  {
   "cell_type": "code",
   "execution_count": 39,
   "metadata": {
    "ExecuteTime": {
     "end_time": "2022-04-15T17:34:57.895014Z",
     "start_time": "2022-04-15T17:34:57.886468Z"
    }
   },
   "outputs": [
    {
     "data": {
      "text/plain": [
       "Index([], dtype='object', name='country')"
      ]
     },
     "execution_count": 39,
     "metadata": {},
     "output_type": "execute_result"
    }
   ],
   "source": [
    "df_out_empty.index"
   ]
  },
  {
   "cell_type": "markdown",
   "metadata": {},
   "source": [
    "### Print column names"
   ]
  },
  {
   "cell_type": "code",
   "execution_count": 40,
   "metadata": {
    "ExecuteTime": {
     "end_time": "2022-04-15T17:34:57.992450Z",
     "start_time": "2022-04-15T17:34:57.983427Z"
    }
   },
   "outputs": [
    {
     "data": {
      "text/plain": [
       "Index([], dtype='object', name='2013-2017')"
      ]
     },
     "execution_count": 40,
     "metadata": {},
     "output_type": "execute_result"
    }
   ],
   "source": [
    "df_out_empty.columns"
   ]
  },
  {
   "cell_type": "markdown",
   "metadata": {},
   "source": [
    "### Print column and index names"
   ]
  },
  {
   "cell_type": "code",
   "execution_count": 41,
   "metadata": {
    "ExecuteTime": {
     "end_time": "2022-04-15T17:34:58.089821Z",
     "start_time": "2022-04-15T17:34:58.081580Z"
    }
   },
   "outputs": [
    {
     "data": {
      "text/plain": [
       "'2013-2017'"
      ]
     },
     "execution_count": 41,
     "metadata": {},
     "output_type": "execute_result"
    }
   ],
   "source": [
    "df_out_empty.columns.name"
   ]
  },
  {
   "cell_type": "code",
   "execution_count": 42,
   "metadata": {
    "ExecuteTime": {
     "end_time": "2022-04-15T17:34:58.098242Z",
     "start_time": "2022-04-15T17:34:58.093167Z"
    }
   },
   "outputs": [
    {
     "data": {
      "text/plain": [
       "'country'"
      ]
     },
     "execution_count": 42,
     "metadata": {},
     "output_type": "execute_result"
    }
   ],
   "source": [
    "df_out_empty.index.name"
   ]
  },
  {
   "cell_type": "markdown",
   "metadata": {},
   "source": [
    "### Copy and paste to create `df_true`"
   ]
  },
  {
   "cell_type": "code",
   "execution_count": 43,
   "metadata": {
    "ExecuteTime": {
     "end_time": "2022-04-15T17:34:58.194011Z",
     "start_time": "2022-04-15T17:34:58.184790Z"
    }
   },
   "outputs": [],
   "source": [
    "df_true = pd.DataFrame([], index=[],\n",
    "                       columns=[])\n",
    "\n",
    "df_true.columns.name = '2013-2017'\n",
    "df_true.index.name = \"country\""
   ]
  },
  {
   "cell_type": "markdown",
   "metadata": {},
   "source": [
    "### Check that you replicated the data correctly"
   ]
  },
  {
   "cell_type": "code",
   "execution_count": 44,
   "metadata": {
    "ExecuteTime": {
     "end_time": "2022-04-15T17:34:58.294663Z",
     "start_time": "2022-04-15T17:34:58.285525Z"
    }
   },
   "outputs": [
    {
     "data": {
      "text/plain": [
       "True"
      ]
     },
     "execution_count": 44,
     "metadata": {},
     "output_type": "execute_result"
    }
   ],
   "source": [
    "df_true.equals(df_out_empty)"
   ]
  },
  {
   "cell_type": "markdown",
   "metadata": {},
   "source": [
    "## Create test"
   ]
  },
  {
   "cell_type": "code",
   "execution_count": 45,
   "metadata": {
    "ExecuteTime": {
     "end_time": "2022-04-15T17:34:58.407762Z",
     "start_time": "2022-04-15T17:34:58.392001Z"
    }
   },
   "outputs": [],
   "source": [
    "def test_slice_by_time_empty():\n",
    "    \n",
    "    # Define input dataframe \n",
    "    df_in_values = [['Indonesia', 'World | Asia', 'total_pop',\n",
    "        'Total population (1000 inhab)', '1958-1962', 1962.0, 92558.0],\n",
    "       ['Indonesia', 'World | Asia', 'total_pop',\n",
    "        'Total population (1000 inhab)', '1963-1967', 1967.0, 105907.0],\n",
    "       ['Indonesia', 'World | Asia', 'rural_pop',\n",
    "        'Rural population (1000 inhab)', '1958-1962', 1962.0, 78538.0],\n",
    "       ['Indonesia', 'World | Asia', 'rural_pop',\n",
    "        'Rural population (1000 inhab)', '1963-1967', 1967.0, 88701.0],\n",
    "       ['Indonesia', 'World | Asia', 'urban_pop',\n",
    "        'Urban population (1000 inhab)', '1958-1962', 1962.0, 14020.0],\n",
    "       ['Indonesia', 'World | Asia', 'urban_pop',\n",
    "        'Urban population (1000 inhab)', '1963-1967', 1967.0, 17206.0],\n",
    "       ['Indonesia', 'World | Asia', 'gdp',\n",
    "        'Gross Domestic Product (GDP) (current US$)', '1958-1962', np.nan,\n",
    "        np.nan],\n",
    "       ['Indonesia', 'World | Asia', 'gdp',\n",
    "        'Gross Domestic Product (GDP) (current US$)', '1963-1967',\n",
    "        1967.0, 5980840376.0],\n",
    "       ['United Kingdom', 'World | Europe', 'total_pop',\n",
    "        'Total population (1000 inhab)', '1958-1962', 1962.0, 53147.0],\n",
    "       ['United Kingdom', 'World | Europe', 'total_pop',\n",
    "        'Total population (1000 inhab)', '1963-1967', 1967.0, 54905.0],\n",
    "       ['United Kingdom', 'World | Europe', 'rural_pop',\n",
    "        'Rural population (1000 inhab)', '1958-1962', 1962.0, 11474.0],\n",
    "       ['United Kingdom', 'World | Europe', 'rural_pop',\n",
    "        'Rural population (1000 inhab)', '1963-1967', 1967.0, 12293.0],\n",
    "       ['United Kingdom', 'World | Europe', 'urban_pop',\n",
    "        'Urban population (1000 inhab)', '1958-1962', 1962.0, 41673.0],\n",
    "       ['United Kingdom', 'World | Europe', 'urban_pop',\n",
    "        'Urban population (1000 inhab)', '1963-1967', 1967.0, 42612.0],\n",
    "       ['United Kingdom', 'World | Europe', 'gdp',\n",
    "        'Gross Domestic Product (GDP) (current US$)', '1958-1962',\n",
    "        1962.0, 80601939635.0],\n",
    "       ['United Kingdom', 'World | Europe', 'gdp',\n",
    "        'Gross Domestic Product (GDP) (current US$)', '1963-1967',\n",
    "        1967.0, 111000000000.0]]\n",
    "\n",
    "    df_in_index = [  3024,   3025,   3600,   3601,   4176,   4177,   4752,   4753,\n",
    "                102900, 102901, 103644, 103645, 104388, 104389, 105132, 105133]\n",
    "\n",
    "    df_in_columns = ['country', 'region', 'variable', 'variable_full', 'time_period',\n",
    "           'year_measured', 'value']\n",
    "\n",
    "    df_in = pd.DataFrame(df_in_values, index=df_in_index, columns=df_in_columns)\n",
    "    \n",
    "    # Define expected output, df_true\n",
    "    df_true = pd.DataFrame([], index=[],\n",
    "                       columns=[])\n",
    "\n",
    "    df_true.columns.name = '2013-2017'\n",
    "    df_true.index.name = \"country\"\n",
    "\n",
    "    # Compute test output \n",
    "    \n",
    "    df_test = slice_by_time(df_in, '2013-2017')\n",
    "    \n",
    "    # Test that the true and test are the same \n",
    "    assert df_test.equals(df_true)"
   ]
  },
  {
   "cell_type": "markdown",
   "metadata": {},
   "source": [
    "## Check test "
   ]
  },
  {
   "cell_type": "code",
   "execution_count": 46,
   "metadata": {
    "ExecuteTime": {
     "end_time": "2022-04-15T17:34:58.501018Z",
     "start_time": "2022-04-15T17:34:58.490908Z"
    }
   },
   "outputs": [],
   "source": [
    "test_slice_by_time_empty()"
   ]
  },
  {
   "cell_type": "markdown",
   "metadata": {},
   "source": [
    "# Create unit test for when dataframe is not provided"
   ]
  },
  {
   "cell_type": "markdown",
   "metadata": {},
   "source": [
    "If a dataframe is not provided, we expect the function to raise a `TypeError`"
   ]
  },
  {
   "cell_type": "code",
   "execution_count": 47,
   "metadata": {
    "ExecuteTime": {
     "end_time": "2022-04-15T17:34:58.701783Z",
     "start_time": "2022-04-15T17:34:58.694950Z"
    }
   },
   "outputs": [],
   "source": [
    "def test_slice_by_time_non_df():\n",
    "    \n",
    "    df_in = 'I am not a dataframe'\n",
    "    \n",
    "    with pytest.raises(TypeError):\n",
    "        slice_by_time(df_in, '2013-2017')"
   ]
  },
  {
   "cell_type": "markdown",
   "metadata": {},
   "source": [
    "## Check test"
   ]
  },
  {
   "cell_type": "markdown",
   "metadata": {},
   "source": [
    "If the function does raise a TypeError, it should not do anything. "
   ]
  },
  {
   "cell_type": "code",
   "execution_count": 48,
   "metadata": {
    "ExecuteTime": {
     "end_time": "2022-04-15T17:34:58.906401Z",
     "start_time": "2022-04-15T17:34:58.898701Z"
    }
   },
   "outputs": [],
   "source": [
    "test_slice_by_time_non_df()"
   ]
  },
  {
   "cell_type": "markdown",
   "metadata": {},
   "source": [
    "# Now move your function and your tests to appropriate Python modules "
   ]
  }
 ],
 "metadata": {
  "kernelspec": {
   "display_name": "Python 3 (ipykernel)",
   "language": "python",
   "name": "python3"
  },
  "language_info": {
   "codemirror_mode": {
    "name": "ipython",
    "version": 3
   },
   "file_extension": ".py",
   "mimetype": "text/x-python",
   "name": "python",
   "nbconvert_exporter": "python",
   "pygments_lexer": "ipython3",
   "version": "3.8.12"
  },
  "nav_menu": {},
  "toc": {
   "base_numbering": 1,
   "nav_menu": {},
   "number_sections": true,
   "sideBar": true,
   "skip_h1_title": false,
   "title_cell": "Table of Contents",
   "title_sidebar": "Contents",
   "toc_cell": true,
   "toc_position": {
    "height": "calc(100% - 180px)",
    "left": "10px",
    "top": "150px",
    "width": "384px"
   },
   "toc_section_display": "block",
   "toc_window_display": true
  },
  "varInspector": {
   "cols": {
    "lenName": 16,
    "lenType": 16,
    "lenVar": 40
   },
   "kernels_config": {
    "python": {
     "delete_cmd_postfix": "",
     "delete_cmd_prefix": "del ",
     "library": "var_list.py",
     "varRefreshCmd": "print(var_dic_list())"
    },
    "r": {
     "delete_cmd_postfix": ") ",
     "delete_cmd_prefix": "rm(",
     "library": "var_list.r",
     "varRefreshCmd": "cat(var_dic_list()) "
    }
   },
   "types_to_exclude": [
    "module",
    "function",
    "builtin_function_or_method",
    "instance",
    "_Feature"
   ],
   "window_display": false
  }
 },
 "nbformat": 4,
 "nbformat_minor": 2
}
