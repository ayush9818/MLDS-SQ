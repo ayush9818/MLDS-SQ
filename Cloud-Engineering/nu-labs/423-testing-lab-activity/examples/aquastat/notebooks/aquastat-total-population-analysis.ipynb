{
 "cells": [
  {
   "cell_type": "markdown",
   "metadata": {
    "toc": true
   },
   "source": [
    "<h1>Table of Contents<span class=\"tocSkip\"></span></h1>\n",
    "<div class=\"toc\"><ul class=\"toc-item\"><li><span><a href=\"#The-dataset\" data-toc-modified-id=\"The-dataset-1\"><span class=\"toc-item-num\">1&nbsp;&nbsp;</span>The dataset</a></span><ul class=\"toc-item\"><li><span><a href=\"#Research-the-variables\" data-toc-modified-id=\"Research-the-variables-1.1\"><span class=\"toc-item-num\">1.1&nbsp;&nbsp;</span>Research the variables</a></span></li><li><span><a href=\"#Describe-the-panel\" data-toc-modified-id=\"Describe-the-panel-1.2\"><span class=\"toc-item-num\">1.2&nbsp;&nbsp;</span>Describe the panel</a></span></li><li><span><a href=\"#Making-the-data-easy-to-work-with\" data-toc-modified-id=\"Making-the-data-easy-to-work-with-1.3\"><span class=\"toc-item-num\">1.3&nbsp;&nbsp;</span>Making the data easy to work with</a></span></li></ul></li><li><span><a href=\"#Data\" data-toc-modified-id=\"Data-2\"><span class=\"toc-item-num\">2&nbsp;&nbsp;</span>Data</a></span></li><li><span><a href=\"#Distribution-of-total-population-in-initial-time-period,-1958-1962\" data-toc-modified-id=\"Distribution-of-total-population-in-initial-time-period,-1958-1962-3\"><span class=\"toc-item-num\">3&nbsp;&nbsp;</span>Distribution of total population in initial time period, 1958-1962</a></span></li><li><span><a href=\"#%-increase-in-population-by-country\" data-toc-modified-id=\"%-increase-in-population-by-country-4\"><span class=\"toc-item-num\">4&nbsp;&nbsp;</span>% increase in population by country</a></span><ul class=\"toc-item\"><li><span><a href=\"#Slice-data-by-total_pop\" data-toc-modified-id=\"Slice-data-by-total_pop-4.1\"><span class=\"toc-item-num\">4.1&nbsp;&nbsp;</span>Slice data by <code>total_pop</code></a></span></li><li><span><a href=\"#Calcuate-%-increase-by-country\" data-toc-modified-id=\"Calcuate-%-increase-by-country-4.2\"><span class=\"toc-item-num\">4.2&nbsp;&nbsp;</span>Calcuate % increase by country</a></span></li><li><span><a href=\"#Visualize-%-increase-over-time-for-the-10-countries-with-largest-increase-in-population\" data-toc-modified-id=\"Visualize-%-increase-over-time-for-the-10-countries-with-largest-increase-in-population-4.3\"><span class=\"toc-item-num\">4.3&nbsp;&nbsp;</span>Visualize % increase over time for the 10 countries with largest increase in population</a></span></li></ul></li><li><span><a href=\"#Appendix\" data-toc-modified-id=\"Appendix-5\"><span class=\"toc-item-num\">5&nbsp;&nbsp;</span>Appendix</a></span></li></ul></div>"
   ]
  },
  {
   "cell_type": "code",
   "execution_count": 1,
   "metadata": {
    "ExecuteTime": {
     "end_time": "2022-04-15T17:35:12.262879Z",
     "start_time": "2022-04-15T17:35:11.481115Z"
    },
    "run_control": {
     "frozen": false,
     "read_only": false
    }
   },
   "outputs": [],
   "source": [
    "import os \n",
    "import sys\n",
    "import datetime\n",
    "\n",
    "\n",
    "import matplotlib.pyplot as plt\n",
    "import numpy as np\n",
    "import pandas as pd\n",
    "import seaborn as sns"
   ]
  },
  {
   "cell_type": "code",
   "execution_count": 2,
   "metadata": {
    "ExecuteTime": {
     "end_time": "2022-04-15T17:35:12.266214Z",
     "start_time": "2022-04-15T17:35:12.264176Z"
    }
   },
   "outputs": [],
   "source": [
    "import matplotlib as mpl\n",
    "# Update matplotlib defaults to something nicer\n",
    "mpl_update = {\n",
    "    'font.size': 16,\n",
    "    'xtick.labelsize': 14,\n",
    "    'ytick.labelsize': 14,\n",
    "    'figure.figsize': [12.0, 8.0],\n",
    "    'axes.labelsize': 20,\n",
    "    'axes.labelcolor': '#677385',\n",
    "    'axes.titlesize': 20,\n",
    "    'lines.color': '#0055A7',\n",
    "    'lines.linewidth': 3,\n",
    "    'text.color': '#677385',\n",
    "    'font.family': 'sans-serif',\n",
    "    'font.sans-serif': 'Tahoma'\n",
    "}\n",
    "mpl.rcParams.update(mpl_update)"
   ]
  },
  {
   "cell_type": "code",
   "execution_count": 3,
   "metadata": {
    "ExecuteTime": {
     "end_time": "2022-04-15T17:35:12.272136Z",
     "start_time": "2022-04-15T17:35:12.267199Z"
    }
   },
   "outputs": [],
   "source": [
    "# Create helper functions for specifying paths and appending\n",
    "# directories with relevant python source code - for use within \n",
    "# Jupyter Notebooks in notebooks/ directory only.\n",
    "\n",
    "# This is a lot at the top of your notebook but if you get the jupyter\n",
    "# extension for collapsing headings, you can always have this and the\n",
    "# imports collapsed\n",
    "\n",
    "root_dir = os.curdir\n",
    "max_nest = 10  # arbitrary, 3 would probably suffice\n",
    "nest = 0\n",
    "while \"src\" not in os.listdir(root_dir) and nest < max_nest:\n",
    "    # Look up the directory structure for a src directory\n",
    "    root_dir = os.path.join(os.pardir, root_dir)\n",
    "    nest += 1\n",
    "\n",
    "# If you don't find the src directory, the root directory is this directory\n",
    "root_dir = os.path.abspath(root_dir) if nest < max_nest else os.path.abspath(\n",
    "    os.curdir)\n",
    "\n",
    "# Get the source directory and append path to access\n",
    "# python packages/scripts within directory\n",
    "if \"src\" in os.listdir(root_dir):\n",
    "    src_dir = os.path.join(root_dir, \"src\")\n",
    "    sys.path.append(src_dir)\n",
    "\n",
    "# If data or figures directory don't exist in project directory,\n",
    "# they will be saved to this directory\n",
    "data_dir = os.path.join(\n",
    "    root_dir, \"data\") if \"data\" in os.listdir(root_dir) else os.curdir\n",
    "figure_dir = os.path.join(\n",
    "    root_dir,\n",
    "    \"figures\") if \"figures\" in os.listdir(root_dir) else os.curdir\n",
    "models_dir = os.path.join(\n",
    "    root_dir,\n",
    "    \"models\") if \"models\" in os.listdir(root_dir) else os.curdir\n",
    "\n",
    "# Prepends the directory path for specifying paths to data or figures\n",
    "# dataplus(\"data.csv\") -> \"/Users/cmawer/project/data/data.csv\"\n",
    "# figplus(\"cool.png\") -> \"/Users/cmawer/project/figures/cool.png\"\n",
    "dataplus = lambda x: os.path.join(data_dir, x)\n",
    "figplus = lambda x: os.path.join(figure_dir, x)\n",
    "modelsplus = lambda x: os.path.join(models_dir, x)\n",
    "\n",
    "# Prepends the date to a string (e.g. to save dated files)\n",
    "# dateplus(\"cool-figure.png\") -> \"2018-12-05-cool-figure.png\"\n",
    "now = datetime.datetime.now().strftime(\"%Y-%m-%d\")\n",
    "dateplus = lambda x: \"%s-%s\" % (now, x)"
   ]
  },
  {
   "cell_type": "markdown",
   "metadata": {},
   "source": [
    "# The dataset"
   ]
  },
  {
   "cell_type": "markdown",
   "metadata": {},
   "source": [
    "<img src=\"data:image/png;base64,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\" alt=\"FAO\" width=\"290\" align=\"right\">\n",
    "\n",
    "We will be using the [Food and Agriculture Organization](http://www.fao.org) (FAO) of the United Nation's AQUASTAT dataset. \n",
    "\n",
    "From FAO: \n",
    "\n",
    "FAO's three main goals are:\n",
    "1. The eradication of hunger, food insecurity and malnutrition\n",
    "2. The elimination of poverty and the driving forward of economic and social progress for all\n",
    "3. The sustainable management and utilization of natural resources, including land, water, air, climate and genetic resources for the benefit of present and future generations. \n",
    "\n",
    "To support these goals, Article 1 of its constitution requires FAO to \"collect, analyse, interpret and disseminate information related to nutrition, food and agriculture\". Thus AQUASTAT started, with the aim to contribute to FAO's goals through the collection, analysis and dissemination of information related to water resources, water uses and agricultural water management, with an emphasis on countries in Africa, Asia, Latin America, and the Caribbean.\n",
    "\n",
    "FAO offers data, metadata, reports, country profiles, river basin profiles, regional analyses, maps, tables, spatial data, guidelines, and other tools on:\n",
    "* Water resources: internal, transboundary, total\n",
    "* Water uses: by sector, by source, wastewater\n",
    "* Irrigation: location, area, typology, technology, crops\n",
    "* Dams: location, height, capacity, surface area\n",
    "* Water-related institutions, policies and legistation"
   ]
  },
  {
   "cell_type": "markdown",
   "metadata": {},
   "source": [
    "http://www.fao.org/nr/water/aquastat/data/query/index.html"
   ]
  },
  {
   "cell_type": "code",
   "execution_count": 4,
   "metadata": {
    "ExecuteTime": {
     "end_time": "2022-04-15T17:35:12.397863Z",
     "start_time": "2022-04-15T17:35:12.273873Z"
    },
    "run_control": {
     "frozen": false,
     "read_only": false
    }
   },
   "outputs": [],
   "source": [
    "data = pd.read_csv(dataplus('aquastat.csv.gzip'), compression='gzip')"
   ]
  },
  {
   "cell_type": "code",
   "execution_count": 5,
   "metadata": {
    "ExecuteTime": {
     "end_time": "2022-04-15T17:35:12.406151Z",
     "start_time": "2022-04-15T17:35:12.398629Z"
    },
    "run_control": {
     "frozen": false,
     "read_only": false
    }
   },
   "outputs": [
    {
     "data": {
      "text/html": [
       "<div>\n",
       "<style scoped>\n",
       "    .dataframe tbody tr th:only-of-type {\n",
       "        vertical-align: middle;\n",
       "    }\n",
       "\n",
       "    .dataframe tbody tr th {\n",
       "        vertical-align: top;\n",
       "    }\n",
       "\n",
       "    .dataframe thead th {\n",
       "        text-align: right;\n",
       "    }\n",
       "</style>\n",
       "<table border=\"1\" class=\"dataframe\">\n",
       "  <thead>\n",
       "    <tr style=\"text-align: right;\">\n",
       "      <th></th>\n",
       "      <th>country</th>\n",
       "      <th>region</th>\n",
       "      <th>variable</th>\n",
       "      <th>variable_full</th>\n",
       "      <th>time_period</th>\n",
       "      <th>year_measured</th>\n",
       "      <th>value</th>\n",
       "    </tr>\n",
       "  </thead>\n",
       "  <tbody>\n",
       "    <tr>\n",
       "      <th>0</th>\n",
       "      <td>Afghanistan</td>\n",
       "      <td>World | Asia</td>\n",
       "      <td>total_area</td>\n",
       "      <td>Total area of the country (1000 ha)</td>\n",
       "      <td>1958-1962</td>\n",
       "      <td>1962.0</td>\n",
       "      <td>65286.0</td>\n",
       "    </tr>\n",
       "    <tr>\n",
       "      <th>1</th>\n",
       "      <td>Afghanistan</td>\n",
       "      <td>World | Asia</td>\n",
       "      <td>total_area</td>\n",
       "      <td>Total area of the country (1000 ha)</td>\n",
       "      <td>1963-1967</td>\n",
       "      <td>1967.0</td>\n",
       "      <td>65286.0</td>\n",
       "    </tr>\n",
       "    <tr>\n",
       "      <th>2</th>\n",
       "      <td>Afghanistan</td>\n",
       "      <td>World | Asia</td>\n",
       "      <td>total_area</td>\n",
       "      <td>Total area of the country (1000 ha)</td>\n",
       "      <td>1968-1972</td>\n",
       "      <td>1972.0</td>\n",
       "      <td>65286.0</td>\n",
       "    </tr>\n",
       "    <tr>\n",
       "      <th>3</th>\n",
       "      <td>Afghanistan</td>\n",
       "      <td>World | Asia</td>\n",
       "      <td>total_area</td>\n",
       "      <td>Total area of the country (1000 ha)</td>\n",
       "      <td>1973-1977</td>\n",
       "      <td>1977.0</td>\n",
       "      <td>65286.0</td>\n",
       "    </tr>\n",
       "    <tr>\n",
       "      <th>4</th>\n",
       "      <td>Afghanistan</td>\n",
       "      <td>World | Asia</td>\n",
       "      <td>total_area</td>\n",
       "      <td>Total area of the country (1000 ha)</td>\n",
       "      <td>1978-1982</td>\n",
       "      <td>1982.0</td>\n",
       "      <td>65286.0</td>\n",
       "    </tr>\n",
       "  </tbody>\n",
       "</table>\n",
       "</div>"
      ],
      "text/plain": [
       "       country        region    variable                        variable_full  \\\n",
       "0  Afghanistan  World | Asia  total_area  Total area of the country (1000 ha)   \n",
       "1  Afghanistan  World | Asia  total_area  Total area of the country (1000 ha)   \n",
       "2  Afghanistan  World | Asia  total_area  Total area of the country (1000 ha)   \n",
       "3  Afghanistan  World | Asia  total_area  Total area of the country (1000 ha)   \n",
       "4  Afghanistan  World | Asia  total_area  Total area of the country (1000 ha)   \n",
       "\n",
       "  time_period  year_measured    value  \n",
       "0   1958-1962         1962.0  65286.0  \n",
       "1   1963-1967         1967.0  65286.0  \n",
       "2   1968-1972         1972.0  65286.0  \n",
       "3   1973-1977         1977.0  65286.0  \n",
       "4   1978-1982         1982.0  65286.0  "
      ]
     },
     "execution_count": 5,
     "metadata": {},
     "output_type": "execute_result"
    }
   ],
   "source": [
    "data.head()"
   ]
  },
  {
   "cell_type": "code",
   "execution_count": 6,
   "metadata": {
    "ExecuteTime": {
     "end_time": "2022-04-15T17:35:12.426620Z",
     "start_time": "2022-04-15T17:35:12.406856Z"
    },
    "run_control": {
     "frozen": false,
     "read_only": false
    }
   },
   "outputs": [
    {
     "name": "stdout",
     "output_type": "stream",
     "text": [
      "<class 'pandas.core.frame.DataFrame'>\n",
      "RangeIndex: 143280 entries, 0 to 143279\n",
      "Data columns (total 7 columns):\n",
      " #   Column         Non-Null Count   Dtype  \n",
      "---  ------         --------------   -----  \n",
      " 0   country        143280 non-null  object \n",
      " 1   region         143280 non-null  object \n",
      " 2   variable       143280 non-null  object \n",
      " 3   variable_full  143280 non-null  object \n",
      " 4   time_period    143280 non-null  object \n",
      " 5   year_measured  96411 non-null   float64\n",
      " 6   value          96411 non-null   float64\n",
      "dtypes: float64(2), object(5)\n",
      "memory usage: 7.7+ MB\n"
     ]
    }
   ],
   "source": [
    "data.info()"
   ]
  },
  {
   "cell_type": "markdown",
   "metadata": {},
   "source": [
    "## Research the variables"
   ]
  },
  {
   "cell_type": "code",
   "execution_count": 7,
   "metadata": {
    "ExecuteTime": {
     "end_time": "2022-04-15T17:35:12.454306Z",
     "start_time": "2022-04-15T17:35:12.427540Z"
    },
    "run_control": {
     "frozen": false,
     "read_only": false
    },
    "scrolled": true
   },
   "outputs": [
    {
     "data": {
      "text/html": [
       "<div>\n",
       "<style scoped>\n",
       "    .dataframe tbody tr th:only-of-type {\n",
       "        vertical-align: middle;\n",
       "    }\n",
       "\n",
       "    .dataframe tbody tr th {\n",
       "        vertical-align: top;\n",
       "    }\n",
       "\n",
       "    .dataframe thead th {\n",
       "        text-align: right;\n",
       "    }\n",
       "</style>\n",
       "<table border=\"1\" class=\"dataframe\">\n",
       "  <thead>\n",
       "    <tr style=\"text-align: right;\">\n",
       "      <th></th>\n",
       "      <th>variable_full</th>\n",
       "    </tr>\n",
       "    <tr>\n",
       "      <th>variable</th>\n",
       "      <th></th>\n",
       "    </tr>\n",
       "  </thead>\n",
       "  <tbody>\n",
       "    <tr>\n",
       "      <th>total_area</th>\n",
       "      <td>Total area of the country (1000 ha)</td>\n",
       "    </tr>\n",
       "    <tr>\n",
       "      <th>arable_land</th>\n",
       "      <td>Arable land area (1000 ha)</td>\n",
       "    </tr>\n",
       "    <tr>\n",
       "      <th>permanent_crop_area</th>\n",
       "      <td>Permanent crops area (1000 ha)</td>\n",
       "    </tr>\n",
       "    <tr>\n",
       "      <th>cultivated_area</th>\n",
       "      <td>Cultivated area (arable land + permanent crops...</td>\n",
       "    </tr>\n",
       "    <tr>\n",
       "      <th>percent_cultivated</th>\n",
       "      <td>% of total country area cultivated (%)</td>\n",
       "    </tr>\n",
       "    <tr>\n",
       "      <th>total_pop</th>\n",
       "      <td>Total population (1000 inhab)</td>\n",
       "    </tr>\n",
       "    <tr>\n",
       "      <th>rural_pop</th>\n",
       "      <td>Rural population (1000 inhab)</td>\n",
       "    </tr>\n",
       "    <tr>\n",
       "      <th>urban_pop</th>\n",
       "      <td>Urban population (1000 inhab)</td>\n",
       "    </tr>\n",
       "    <tr>\n",
       "      <th>gdp</th>\n",
       "      <td>Gross Domestic Product (GDP) (current US$)</td>\n",
       "    </tr>\n",
       "    <tr>\n",
       "      <th>gdp_per_capita</th>\n",
       "      <td>GDP per capita (current US$/inhab)</td>\n",
       "    </tr>\n",
       "    <tr>\n",
       "      <th>agg_to_gdp</th>\n",
       "      <td>Agriculture, value added to GDP (%)</td>\n",
       "    </tr>\n",
       "    <tr>\n",
       "      <th>human_dev_index</th>\n",
       "      <td>Human Development Index (HDI) [highest = 1] (-)</td>\n",
       "    </tr>\n",
       "    <tr>\n",
       "      <th>gender_inequal_index</th>\n",
       "      <td>Gender Inequality Index (GII) [equality = 0; i...</td>\n",
       "    </tr>\n",
       "    <tr>\n",
       "      <th>percent_undernourished</th>\n",
       "      <td>Prevalence of undernourishment (3-year average...</td>\n",
       "    </tr>\n",
       "    <tr>\n",
       "      <th>number_undernourished</th>\n",
       "      <td>Number of people undernourished (3-year averag...</td>\n",
       "    </tr>\n",
       "    <tr>\n",
       "      <th>avg_annual_rain_depth</th>\n",
       "      <td>Long-term average annual precipitation in dept...</td>\n",
       "    </tr>\n",
       "    <tr>\n",
       "      <th>avg_annual_rain_vol</th>\n",
       "      <td>Long-term average annual precipitation in volu...</td>\n",
       "    </tr>\n",
       "    <tr>\n",
       "      <th>national_rainfall_index</th>\n",
       "      <td>National Rainfall Index (NRI) (mm/year)</td>\n",
       "    </tr>\n",
       "    <tr>\n",
       "      <th>surface_water_produced</th>\n",
       "      <td>Surface water produced internally (10^9 m3/year)</td>\n",
       "    </tr>\n",
       "    <tr>\n",
       "      <th>groundwater_produced</th>\n",
       "      <td>Groundwater produced internally (10^9 m3/year)</td>\n",
       "    </tr>\n",
       "    <tr>\n",
       "      <th>surface_groundwater_overlap</th>\n",
       "      <td>Overlap between surface water and groundwater ...</td>\n",
       "    </tr>\n",
       "    <tr>\n",
       "      <th>irwr</th>\n",
       "      <td>Total internal renewable water resources (IRWR...</td>\n",
       "    </tr>\n",
       "    <tr>\n",
       "      <th>irwr_per_capita</th>\n",
       "      <td>Total internal renewable water resources per c...</td>\n",
       "    </tr>\n",
       "    <tr>\n",
       "      <th>surface_entering</th>\n",
       "      <td>Surface water: entering the country (total) (1...</td>\n",
       "    </tr>\n",
       "    <tr>\n",
       "      <th>surface_inflow_submit_no_treaty</th>\n",
       "      <td>Surface water: inflow not submitted to treatie...</td>\n",
       "    </tr>\n",
       "    <tr>\n",
       "      <th>surface_inflow_submit_treaty</th>\n",
       "      <td>Surface water: inflow submitted to treaties (1...</td>\n",
       "    </tr>\n",
       "    <tr>\n",
       "      <th>surface_inflow_secure_treaty</th>\n",
       "      <td>Surface water: inflow secured through treaties...</td>\n",
       "    </tr>\n",
       "    <tr>\n",
       "      <th>total_flow_border_rivers</th>\n",
       "      <td>Surface water: total flow of border rivers (10...</td>\n",
       "    </tr>\n",
       "    <tr>\n",
       "      <th>accounted_flow_border_rivers</th>\n",
       "      <td>Surface water: accounted flow of border rivers...</td>\n",
       "    </tr>\n",
       "    <tr>\n",
       "      <th>accounted_flow</th>\n",
       "      <td>Surface water: accounted inflow (10^9 m3/year)</td>\n",
       "    </tr>\n",
       "    <tr>\n",
       "      <th>surface_to_other_countries</th>\n",
       "      <td>Surface water: leaving the country to other co...</td>\n",
       "    </tr>\n",
       "    <tr>\n",
       "      <th>surface_outflow_submit_no_treaty</th>\n",
       "      <td>Surface water: outflow to other countries not ...</td>\n",
       "    </tr>\n",
       "    <tr>\n",
       "      <th>surface_outflow_submit_treaty</th>\n",
       "      <td>Surface water: outflow to other countries subm...</td>\n",
       "    </tr>\n",
       "    <tr>\n",
       "      <th>surface_outflow_secure_treaty</th>\n",
       "      <td>Surface water: outflow to other countries secu...</td>\n",
       "    </tr>\n",
       "    <tr>\n",
       "      <th>surface_total_external_renewable</th>\n",
       "      <td>Surface water: total external renewable (10^9 ...</td>\n",
       "    </tr>\n",
       "    <tr>\n",
       "      <th>groundwater_entering</th>\n",
       "      <td>Groundwater: entering the country (total) (10^...</td>\n",
       "    </tr>\n",
       "    <tr>\n",
       "      <th>groundwater_accounted_inflow</th>\n",
       "      <td>Groundwater: accounted inflow (10^9 m3/year)</td>\n",
       "    </tr>\n",
       "    <tr>\n",
       "      <th>groundwater_to_other_countries</th>\n",
       "      <td>Groundwater: leaving the country to other coun...</td>\n",
       "    </tr>\n",
       "    <tr>\n",
       "      <th>groundwater_accounted_outflow</th>\n",
       "      <td>Groundwater: accounted outflow to other countr...</td>\n",
       "    </tr>\n",
       "    <tr>\n",
       "      <th>water_total_external_renewable</th>\n",
       "      <td>Water resources: total external renewable (10^...</td>\n",
       "    </tr>\n",
       "    <tr>\n",
       "      <th>total_renewable_surface</th>\n",
       "      <td>Total renewable surface water (10^9 m3/year)</td>\n",
       "    </tr>\n",
       "    <tr>\n",
       "      <th>total_renewable_groundwater</th>\n",
       "      <td>Total renewable groundwater (10^9 m3/year)</td>\n",
       "    </tr>\n",
       "    <tr>\n",
       "      <th>overlap_surface_groundwater</th>\n",
       "      <td>Overlap: between surface water and groundwater...</td>\n",
       "    </tr>\n",
       "    <tr>\n",
       "      <th>total_renewable</th>\n",
       "      <td>Total renewable water resources (10^9 m3/year)</td>\n",
       "    </tr>\n",
       "    <tr>\n",
       "      <th>dependency_ratio</th>\n",
       "      <td>Dependency ratio (%)</td>\n",
       "    </tr>\n",
       "    <tr>\n",
       "      <th>total_renewable_per_capita</th>\n",
       "      <td>Total renewable water resources per capita (m3...</td>\n",
       "    </tr>\n",
       "    <tr>\n",
       "      <th>exploitable_regular_renewable_surface</th>\n",
       "      <td>Exploitable: regular renewable surface water (...</td>\n",
       "    </tr>\n",
       "    <tr>\n",
       "      <th>exploitable_irregular_renewable_surface</th>\n",
       "      <td>Exploitable: irregular renewable surface water...</td>\n",
       "    </tr>\n",
       "    <tr>\n",
       "      <th>exploitable_total_renewable_surface</th>\n",
       "      <td>Exploitable: total renewable surface water (10...</td>\n",
       "    </tr>\n",
       "    <tr>\n",
       "      <th>exploitable_regular_renewable_groundwater</th>\n",
       "      <td>Exploitable: regular renewable groundwater (10...</td>\n",
       "    </tr>\n",
       "    <tr>\n",
       "      <th>exploitable_total</th>\n",
       "      <td>Total exploitable water resources (10^9 m3/year)</td>\n",
       "    </tr>\n",
       "    <tr>\n",
       "      <th>interannual_variability</th>\n",
       "      <td>Interannual variability (WRI) (-)</td>\n",
       "    </tr>\n",
       "    <tr>\n",
       "      <th>seasonal_variability</th>\n",
       "      <td>Seasonal variability (WRI) (-)</td>\n",
       "    </tr>\n",
       "    <tr>\n",
       "      <th>total_dam_capacity</th>\n",
       "      <td>Total dam capacity (km3)</td>\n",
       "    </tr>\n",
       "    <tr>\n",
       "      <th>dam_capacity_per_capita</th>\n",
       "      <td>Dam capacity per capita (m3/inhab)</td>\n",
       "    </tr>\n",
       "    <tr>\n",
       "      <th>irrigation_potential</th>\n",
       "      <td>Irrigation potential (1000 ha)</td>\n",
       "    </tr>\n",
       "    <tr>\n",
       "      <th>flood_occurence</th>\n",
       "      <td>Flood occurrence (WRI) (-)</td>\n",
       "    </tr>\n",
       "    <tr>\n",
       "      <th>total_pop_access_drinking</th>\n",
       "      <td>Total population with access to safe drinking-...</td>\n",
       "    </tr>\n",
       "    <tr>\n",
       "      <th>rural_pop_access_drinking</th>\n",
       "      <td>Rural population with access to safe drinking-...</td>\n",
       "    </tr>\n",
       "    <tr>\n",
       "      <th>urban_pop_access_drinking</th>\n",
       "      <td>Urban population with access to safe drinking-...</td>\n",
       "    </tr>\n",
       "  </tbody>\n",
       "</table>\n",
       "</div>"
      ],
      "text/plain": [
       "                                                                               variable_full\n",
       "variable                                                                                    \n",
       "total_area                                               Total area of the country (1000 ha)\n",
       "arable_land                                                       Arable land area (1000 ha)\n",
       "permanent_crop_area                                           Permanent crops area (1000 ha)\n",
       "cultivated_area                            Cultivated area (arable land + permanent crops...\n",
       "percent_cultivated                                    % of total country area cultivated (%)\n",
       "total_pop                                                      Total population (1000 inhab)\n",
       "rural_pop                                                      Rural population (1000 inhab)\n",
       "urban_pop                                                      Urban population (1000 inhab)\n",
       "gdp                                               Gross Domestic Product (GDP) (current US$)\n",
       "gdp_per_capita                                            GDP per capita (current US$/inhab)\n",
       "agg_to_gdp                                               Agriculture, value added to GDP (%)\n",
       "human_dev_index                              Human Development Index (HDI) [highest = 1] (-)\n",
       "gender_inequal_index                       Gender Inequality Index (GII) [equality = 0; i...\n",
       "percent_undernourished                     Prevalence of undernourishment (3-year average...\n",
       "number_undernourished                      Number of people undernourished (3-year averag...\n",
       "avg_annual_rain_depth                      Long-term average annual precipitation in dept...\n",
       "avg_annual_rain_vol                        Long-term average annual precipitation in volu...\n",
       "national_rainfall_index                              National Rainfall Index (NRI) (mm/year)\n",
       "surface_water_produced                      Surface water produced internally (10^9 m3/year)\n",
       "groundwater_produced                          Groundwater produced internally (10^9 m3/year)\n",
       "surface_groundwater_overlap                Overlap between surface water and groundwater ...\n",
       "irwr                                       Total internal renewable water resources (IRWR...\n",
       "irwr_per_capita                            Total internal renewable water resources per c...\n",
       "surface_entering                           Surface water: entering the country (total) (1...\n",
       "surface_inflow_submit_no_treaty            Surface water: inflow not submitted to treatie...\n",
       "surface_inflow_submit_treaty               Surface water: inflow submitted to treaties (1...\n",
       "surface_inflow_secure_treaty               Surface water: inflow secured through treaties...\n",
       "total_flow_border_rivers                   Surface water: total flow of border rivers (10...\n",
       "accounted_flow_border_rivers               Surface water: accounted flow of border rivers...\n",
       "accounted_flow                                Surface water: accounted inflow (10^9 m3/year)\n",
       "surface_to_other_countries                 Surface water: leaving the country to other co...\n",
       "surface_outflow_submit_no_treaty           Surface water: outflow to other countries not ...\n",
       "surface_outflow_submit_treaty              Surface water: outflow to other countries subm...\n",
       "surface_outflow_secure_treaty              Surface water: outflow to other countries secu...\n",
       "surface_total_external_renewable           Surface water: total external renewable (10^9 ...\n",
       "groundwater_entering                       Groundwater: entering the country (total) (10^...\n",
       "groundwater_accounted_inflow                    Groundwater: accounted inflow (10^9 m3/year)\n",
       "groundwater_to_other_countries             Groundwater: leaving the country to other coun...\n",
       "groundwater_accounted_outflow              Groundwater: accounted outflow to other countr...\n",
       "water_total_external_renewable             Water resources: total external renewable (10^...\n",
       "total_renewable_surface                         Total renewable surface water (10^9 m3/year)\n",
       "total_renewable_groundwater                       Total renewable groundwater (10^9 m3/year)\n",
       "overlap_surface_groundwater                Overlap: between surface water and groundwater...\n",
       "total_renewable                               Total renewable water resources (10^9 m3/year)\n",
       "dependency_ratio                                                        Dependency ratio (%)\n",
       "total_renewable_per_capita                 Total renewable water resources per capita (m3...\n",
       "exploitable_regular_renewable_surface      Exploitable: regular renewable surface water (...\n",
       "exploitable_irregular_renewable_surface    Exploitable: irregular renewable surface water...\n",
       "exploitable_total_renewable_surface        Exploitable: total renewable surface water (10...\n",
       "exploitable_regular_renewable_groundwater  Exploitable: regular renewable groundwater (10...\n",
       "exploitable_total                           Total exploitable water resources (10^9 m3/year)\n",
       "interannual_variability                                    Interannual variability (WRI) (-)\n",
       "seasonal_variability                                          Seasonal variability (WRI) (-)\n",
       "total_dam_capacity                                                  Total dam capacity (km3)\n",
       "dam_capacity_per_capita                                   Dam capacity per capita (m3/inhab)\n",
       "irrigation_potential                                          Irrigation potential (1000 ha)\n",
       "flood_occurence                                                   Flood occurrence (WRI) (-)\n",
       "total_pop_access_drinking                  Total population with access to safe drinking-...\n",
       "rural_pop_access_drinking                  Rural population with access to safe drinking-...\n",
       "urban_pop_access_drinking                  Urban population with access to safe drinking-..."
      ]
     },
     "execution_count": 7,
     "metadata": {},
     "output_type": "execute_result"
    }
   ],
   "source": [
    "data_dictionary = data[['variable','variable_full']].drop_duplicates().set_index('variable')\n",
    "data_dictionary"
   ]
  },
  {
   "cell_type": "markdown",
   "metadata": {},
   "source": [
    "## Describe the panel"
   ]
  },
  {
   "cell_type": "code",
   "execution_count": 8,
   "metadata": {
    "ExecuteTime": {
     "end_time": "2022-04-15T17:35:12.461262Z",
     "start_time": "2022-04-15T17:35:12.455206Z"
    },
    "run_control": {
     "frozen": false,
     "read_only": false
    }
   },
   "outputs": [
    {
     "data": {
      "text/plain": [
       "199"
      ]
     },
     "execution_count": 8,
     "metadata": {},
     "output_type": "execute_result"
    }
   ],
   "source": [
    "data.country.nunique()"
   ]
  },
  {
   "cell_type": "markdown",
   "metadata": {},
   "source": [
    "199 unique countries involved"
   ]
  },
  {
   "cell_type": "code",
   "execution_count": 9,
   "metadata": {
    "ExecuteTime": {
     "end_time": "2022-04-15T17:35:12.467557Z",
     "start_time": "2022-04-15T17:35:12.461908Z"
    },
    "run_control": {
     "frozen": false,
     "read_only": false
    }
   },
   "outputs": [],
   "source": [
    "countries = data.country.unique()"
   ]
  },
  {
   "cell_type": "code",
   "execution_count": 10,
   "metadata": {
    "ExecuteTime": {
     "end_time": "2022-04-15T17:35:12.475356Z",
     "start_time": "2022-04-15T17:35:12.469422Z"
    },
    "run_control": {
     "frozen": false,
     "read_only": false
    }
   },
   "outputs": [
    {
     "data": {
      "text/plain": [
       "12"
      ]
     },
     "execution_count": 10,
     "metadata": {},
     "output_type": "execute_result"
    }
   ],
   "source": [
    "data.time_period.nunique()"
   ]
  },
  {
   "cell_type": "markdown",
   "metadata": {},
   "source": [
    "For 12 time periods"
   ]
  },
  {
   "cell_type": "code",
   "execution_count": 11,
   "metadata": {
    "ExecuteTime": {
     "end_time": "2022-04-15T17:35:12.481738Z",
     "start_time": "2022-04-15T17:35:12.476255Z"
    },
    "run_control": {
     "frozen": false,
     "read_only": false
    }
   },
   "outputs": [
    {
     "name": "stdout",
     "output_type": "stream",
     "text": [
      "['1958-1962' '1963-1967' '1968-1972' '1973-1977' '1978-1982' '1983-1987'\n",
      " '1988-1992' '1993-1997' '1998-2002' '2003-2007' '2008-2012' '2013-2017']\n"
     ]
    }
   ],
   "source": [
    "time_periods = data.time_period.unique()\n",
    "print(time_periods)"
   ]
  },
  {
   "cell_type": "markdown",
   "metadata": {},
   "source": [
    "## Making the data easy to work with\n",
    "\n",
    "**Make your data [tidy](https://tomaugspurger.github.io/modern-5-tidy.html)**\n",
    "1. Each variable forms a column\n",
    "2. Each observation forms a row\n",
    "3. Each type of observational unit forms a table\n"
   ]
  },
  {
   "cell_type": "markdown",
   "metadata": {},
   "source": [
    "**Ways to look at this data**"
   ]
  },
  {
   "cell_type": "markdown",
   "metadata": {},
   "source": [
    "We can look at this data set in a number of ways: \n",
    "* Cross-section: all countries during a single time period\n",
    "* Time-series: a single country over time \n",
    "* Panel data: all countries over time (as data is given)\n",
    "* Geospatial: all countries in geographical relation to each other "
   ]
  },
  {
   "cell_type": "markdown",
   "metadata": {},
   "source": [
    "This notebook will focus on creating functions that can be used in future notebooks to look at the data in these different ways and to create some basic plots. "
   ]
  },
  {
   "cell_type": "markdown",
   "metadata": {},
   "source": [
    "# Data"
   ]
  },
  {
   "cell_type": "markdown",
   "metadata": {},
   "source": [
    "# Distribution of total population in initial time period, 1958-1962"
   ]
  },
  {
   "cell_type": "code",
   "execution_count": 12,
   "metadata": {
    "ExecuteTime": {
     "end_time": "2022-04-15T17:35:12.485522Z",
     "start_time": "2022-04-15T17:35:12.482760Z"
    },
    "run_control": {
     "frozen": false,
     "read_only": false
    }
   },
   "outputs": [],
   "source": [
    "def slice_by_time(df, time_period):\n",
    "    \"\"\"For a `time_period`, creates a dataframe with a row for each country and a column for each AQUASTAT variable.\n",
    "\n",
    "    Args:\n",
    "        df: :obj:`pandas.DataFrame` with the columns, `country`, `variable`, `value`, and `time period`\n",
    "        time_period: time period for filtering the data set and pivoting\n",
    "\n",
    "    Returns:\n",
    "        df (:obj:`pandas.DataFrame`): Pivoted dataframe\n",
    "\n",
    "    \"\"\"\n",
    "    if not isinstance(df, pd.DataFrame):\n",
    "        raise TypeError(\"Provided argument `df` is not a Panda's DataFrame object\")\n",
    "        \n",
    "    # Only take data for time period of interest\n",
    "    df = df[df.time_period == time_period]\n",
    "\n",
    "    # Pivot table\n",
    "    df = df.pivot(index='country', columns='variable', values='value')\n",
    "\n",
    "    df.columns.name = time_period\n",
    "\n",
    "    return df"
   ]
  },
  {
   "cell_type": "code",
   "execution_count": 13,
   "metadata": {
    "ExecuteTime": {
     "end_time": "2022-04-15T17:35:12.488204Z",
     "start_time": "2022-04-15T17:35:12.486569Z"
    }
   },
   "outputs": [],
   "source": [
    "time_period = '1958-1962'"
   ]
  },
  {
   "cell_type": "code",
   "execution_count": 14,
   "metadata": {
    "ExecuteTime": {
     "end_time": "2022-04-15T17:35:12.501075Z",
     "start_time": "2022-04-15T17:35:12.489085Z"
    },
    "run_control": {
     "frozen": false,
     "read_only": false
    }
   },
   "outputs": [],
   "source": [
    "ts = slice_by_time(data, time_period)"
   ]
  },
  {
   "cell_type": "code",
   "execution_count": 15,
   "metadata": {
    "ExecuteTime": {
     "end_time": "2022-04-15T17:35:12.511954Z",
     "start_time": "2022-04-15T17:35:12.502251Z"
    }
   },
   "outputs": [
    {
     "data": {
      "text/html": [
       "<div>\n",
       "<style scoped>\n",
       "    .dataframe tbody tr th:only-of-type {\n",
       "        vertical-align: middle;\n",
       "    }\n",
       "\n",
       "    .dataframe tbody tr th {\n",
       "        vertical-align: top;\n",
       "    }\n",
       "\n",
       "    .dataframe thead th {\n",
       "        text-align: right;\n",
       "    }\n",
       "</style>\n",
       "<table border=\"1\" class=\"dataframe\">\n",
       "  <thead>\n",
       "    <tr style=\"text-align: right;\">\n",
       "      <th>1958-1962</th>\n",
       "      <th>accounted_flow</th>\n",
       "      <th>accounted_flow_border_rivers</th>\n",
       "      <th>agg_to_gdp</th>\n",
       "      <th>arable_land</th>\n",
       "      <th>avg_annual_rain_depth</th>\n",
       "      <th>avg_annual_rain_vol</th>\n",
       "      <th>cultivated_area</th>\n",
       "      <th>dam_capacity_per_capita</th>\n",
       "      <th>dependency_ratio</th>\n",
       "      <th>exploitable_irregular_renewable_surface</th>\n",
       "      <th>...</th>\n",
       "      <th>total_flow_border_rivers</th>\n",
       "      <th>total_pop</th>\n",
       "      <th>total_pop_access_drinking</th>\n",
       "      <th>total_renewable</th>\n",
       "      <th>total_renewable_groundwater</th>\n",
       "      <th>total_renewable_per_capita</th>\n",
       "      <th>total_renewable_surface</th>\n",
       "      <th>urban_pop</th>\n",
       "      <th>urban_pop_access_drinking</th>\n",
       "      <th>water_total_external_renewable</th>\n",
       "    </tr>\n",
       "    <tr>\n",
       "      <th>country</th>\n",
       "      <th></th>\n",
       "      <th></th>\n",
       "      <th></th>\n",
       "      <th></th>\n",
       "      <th></th>\n",
       "      <th></th>\n",
       "      <th></th>\n",
       "      <th></th>\n",
       "      <th></th>\n",
       "      <th></th>\n",
       "      <th></th>\n",
       "      <th></th>\n",
       "      <th></th>\n",
       "      <th></th>\n",
       "      <th></th>\n",
       "      <th></th>\n",
       "      <th></th>\n",
       "      <th></th>\n",
       "      <th></th>\n",
       "      <th></th>\n",
       "      <th></th>\n",
       "    </tr>\n",
       "  </thead>\n",
       "  <tbody>\n",
       "    <tr>\n",
       "      <th>Afghanistan</th>\n",
       "      <td>19.00</td>\n",
       "      <td>9.0</td>\n",
       "      <td>NaN</td>\n",
       "      <td>7700.0</td>\n",
       "      <td>327.0</td>\n",
       "      <td>213.5000</td>\n",
       "      <td>7760.0</td>\n",
       "      <td>128.40</td>\n",
       "      <td>28.7200</td>\n",
       "      <td>NaN</td>\n",
       "      <td>...</td>\n",
       "      <td>33.4</td>\n",
       "      <td>9344.00</td>\n",
       "      <td>NaN</td>\n",
       "      <td>65.3300</td>\n",
       "      <td>10.650</td>\n",
       "      <td>6992.0</td>\n",
       "      <td>55.68</td>\n",
       "      <td>804.90</td>\n",
       "      <td>NaN</td>\n",
       "      <td>18.18</td>\n",
       "    </tr>\n",
       "    <tr>\n",
       "      <th>Albania</th>\n",
       "      <td>3.30</td>\n",
       "      <td>0.0</td>\n",
       "      <td>NaN</td>\n",
       "      <td>436.0</td>\n",
       "      <td>1485.0</td>\n",
       "      <td>42.6900</td>\n",
       "      <td>487.0</td>\n",
       "      <td>NaN</td>\n",
       "      <td>10.9300</td>\n",
       "      <td>NaN</td>\n",
       "      <td>...</td>\n",
       "      <td>0.0</td>\n",
       "      <td>1738.00</td>\n",
       "      <td>NaN</td>\n",
       "      <td>30.2000</td>\n",
       "      <td>6.200</td>\n",
       "      <td>17376.0</td>\n",
       "      <td>26.35</td>\n",
       "      <td>533.20</td>\n",
       "      <td>NaN</td>\n",
       "      <td>3.30</td>\n",
       "    </tr>\n",
       "    <tr>\n",
       "      <th>Algeria</th>\n",
       "      <td>0.39</td>\n",
       "      <td>0.0</td>\n",
       "      <td>NaN</td>\n",
       "      <td>6300.0</td>\n",
       "      <td>89.0</td>\n",
       "      <td>212.0000</td>\n",
       "      <td>6900.0</td>\n",
       "      <td>89.99</td>\n",
       "      <td>3.5990</td>\n",
       "      <td>5.0</td>\n",
       "      <td>...</td>\n",
       "      <td>0.0</td>\n",
       "      <td>11690.00</td>\n",
       "      <td>NaN</td>\n",
       "      <td>11.6700</td>\n",
       "      <td>1.517</td>\n",
       "      <td>998.3</td>\n",
       "      <td>10.15</td>\n",
       "      <td>3934.00</td>\n",
       "      <td>NaN</td>\n",
       "      <td>0.42</td>\n",
       "    </tr>\n",
       "    <tr>\n",
       "      <th>Andorra</th>\n",
       "      <td>NaN</td>\n",
       "      <td>NaN</td>\n",
       "      <td>NaN</td>\n",
       "      <td>1.0</td>\n",
       "      <td>NaN</td>\n",
       "      <td>0.4724</td>\n",
       "      <td>1.0</td>\n",
       "      <td>NaN</td>\n",
       "      <td>NaN</td>\n",
       "      <td>NaN</td>\n",
       "      <td>...</td>\n",
       "      <td>NaN</td>\n",
       "      <td>15.38</td>\n",
       "      <td>NaN</td>\n",
       "      <td>0.3156</td>\n",
       "      <td>NaN</td>\n",
       "      <td>20520.0</td>\n",
       "      <td>NaN</td>\n",
       "      <td>9.76</td>\n",
       "      <td>NaN</td>\n",
       "      <td>NaN</td>\n",
       "    </tr>\n",
       "    <tr>\n",
       "      <th>Angola</th>\n",
       "      <td>0.40</td>\n",
       "      <td>0.0</td>\n",
       "      <td>NaN</td>\n",
       "      <td>2700.0</td>\n",
       "      <td>1010.0</td>\n",
       "      <td>1259.0000</td>\n",
       "      <td>3200.0</td>\n",
       "      <td>25.96</td>\n",
       "      <td>0.2695</td>\n",
       "      <td>NaN</td>\n",
       "      <td>...</td>\n",
       "      <td>0.0</td>\n",
       "      <td>5466.00</td>\n",
       "      <td>NaN</td>\n",
       "      <td>148.4000</td>\n",
       "      <td>58.000</td>\n",
       "      <td>27150.0</td>\n",
       "      <td>145.40</td>\n",
       "      <td>577.00</td>\n",
       "      <td>NaN</td>\n",
       "      <td>0.40</td>\n",
       "    </tr>\n",
       "  </tbody>\n",
       "</table>\n",
       "<p>5 rows × 60 columns</p>\n",
       "</div>"
      ],
      "text/plain": [
       "1958-1962    accounted_flow  accounted_flow_border_rivers  agg_to_gdp  \\\n",
       "country                                                                 \n",
       "Afghanistan           19.00                           9.0         NaN   \n",
       "Albania                3.30                           0.0         NaN   \n",
       "Algeria                0.39                           0.0         NaN   \n",
       "Andorra                 NaN                           NaN         NaN   \n",
       "Angola                 0.40                           0.0         NaN   \n",
       "\n",
       "1958-1962    arable_land  avg_annual_rain_depth  avg_annual_rain_vol  \\\n",
       "country                                                                \n",
       "Afghanistan       7700.0                  327.0             213.5000   \n",
       "Albania            436.0                 1485.0              42.6900   \n",
       "Algeria           6300.0                   89.0             212.0000   \n",
       "Andorra              1.0                    NaN               0.4724   \n",
       "Angola            2700.0                 1010.0            1259.0000   \n",
       "\n",
       "1958-1962    cultivated_area  dam_capacity_per_capita  dependency_ratio  \\\n",
       "country                                                                   \n",
       "Afghanistan           7760.0                   128.40           28.7200   \n",
       "Albania                487.0                      NaN           10.9300   \n",
       "Algeria               6900.0                    89.99            3.5990   \n",
       "Andorra                  1.0                      NaN               NaN   \n",
       "Angola                3200.0                    25.96            0.2695   \n",
       "\n",
       "1958-1962    exploitable_irregular_renewable_surface  ...  \\\n",
       "country                                               ...   \n",
       "Afghanistan                                      NaN  ...   \n",
       "Albania                                          NaN  ...   \n",
       "Algeria                                          5.0  ...   \n",
       "Andorra                                          NaN  ...   \n",
       "Angola                                           NaN  ...   \n",
       "\n",
       "1958-1962    total_flow_border_rivers  total_pop  total_pop_access_drinking  \\\n",
       "country                                                                       \n",
       "Afghanistan                      33.4    9344.00                        NaN   \n",
       "Albania                           0.0    1738.00                        NaN   \n",
       "Algeria                           0.0   11690.00                        NaN   \n",
       "Andorra                           NaN      15.38                        NaN   \n",
       "Angola                            0.0    5466.00                        NaN   \n",
       "\n",
       "1958-1962    total_renewable  total_renewable_groundwater  \\\n",
       "country                                                     \n",
       "Afghanistan          65.3300                       10.650   \n",
       "Albania              30.2000                        6.200   \n",
       "Algeria              11.6700                        1.517   \n",
       "Andorra               0.3156                          NaN   \n",
       "Angola              148.4000                       58.000   \n",
       "\n",
       "1958-1962    total_renewable_per_capita  total_renewable_surface  urban_pop  \\\n",
       "country                                                                       \n",
       "Afghanistan                      6992.0                    55.68     804.90   \n",
       "Albania                         17376.0                    26.35     533.20   \n",
       "Algeria                           998.3                    10.15    3934.00   \n",
       "Andorra                         20520.0                      NaN       9.76   \n",
       "Angola                          27150.0                   145.40     577.00   \n",
       "\n",
       "1958-1962    urban_pop_access_drinking  water_total_external_renewable  \n",
       "country                                                                 \n",
       "Afghanistan                        NaN                           18.18  \n",
       "Albania                            NaN                            3.30  \n",
       "Algeria                            NaN                            0.42  \n",
       "Andorra                            NaN                             NaN  \n",
       "Angola                             NaN                            0.40  \n",
       "\n",
       "[5 rows x 60 columns]"
      ]
     },
     "execution_count": 15,
     "metadata": {},
     "output_type": "execute_result"
    }
   ],
   "source": [
    "ts.head()"
   ]
  },
  {
   "cell_type": "code",
   "execution_count": 16,
   "metadata": {
    "ExecuteTime": {
     "end_time": "2022-04-15T17:35:12.516754Z",
     "start_time": "2022-04-15T17:35:12.512889Z"
    }
   },
   "outputs": [],
   "source": [
    "def plot_histogram(df,\n",
    "                   column,\n",
    "                   title=None,\n",
    "                   xlabel=None,\n",
    "                   ylabel=None,\n",
    "                   label_size=20,\n",
    "                   tick_label_size=16,\n",
    "                   color='#0085ca',\n",
    "                   alpha=0.8,\n",
    "                   figsize=None,\n",
    "                   logx=False,\n",
    "                   logy=False,\n",
    "                   bins=50,\n",
    "                   **kwargs):\n",
    "\n",
    "    if figsize is None:\n",
    "        figsize = (12, 8)\n",
    "\n",
    "    fig, ax = plt.subplots(figsize=figsize)\n",
    "\n",
    "    if logx:\n",
    "        if isinstance(bins, int):\n",
    "            bins = np.logspace(np.log10(df[column].min()), np.log10(df[column].max()), num=bins)\n",
    "\n",
    "        ax.set_xscale(\"log\", base=10)\n",
    "        \n",
    "    if logy:\n",
    "        ax.set_yscale(\"log\", base=10)\n",
    "\n",
    "    ax.hist(df[column], color=color, alpha=alpha, bins=bins, **kwargs)\n",
    "\n",
    "    if xlabel is None:\n",
    "        xlabel = ' '.join(column.split('_')).capitalize()\n",
    "    if ylabel is None:\n",
    "        ylabel = '# of countries'\n",
    "\n",
    "    ax.set_xlabel(xlabel, size=label_size)\n",
    "    ax.set_ylabel(ylabel, size=label_size)\n",
    "\n",
    "    if title:\n",
    "        ax.set_title(title, size=label_size)\n",
    "\n",
    "    return fig, ax"
   ]
  },
  {
   "cell_type": "code",
   "execution_count": 17,
   "metadata": {
    "ExecuteTime": {
     "end_time": "2022-04-15T17:35:12.519015Z",
     "start_time": "2022-04-15T17:35:12.517437Z"
    }
   },
   "outputs": [],
   "source": [
    "variable = 'total_pop'\n",
    "variable_name = data_dictionary.loc[variable, 'variable_full']"
   ]
  },
  {
   "cell_type": "code",
   "execution_count": 18,
   "metadata": {
    "ExecuteTime": {
     "end_time": "2022-04-15T17:35:12.644561Z",
     "start_time": "2022-04-15T17:35:12.519849Z"
    }
   },
   "outputs": [
    {
     "data": {
      "image/png": "[encoded data removed]",
      "text/plain": [
       "<Figure size 864x576 with 1 Axes>"
      ]
     },
     "metadata": {
      "needs_background": "light"
     },
     "output_type": "display_data"
    }
   ],
   "source": [
    "fig, ax = plot_histogram(\n",
    "    ts,\n",
    "    variable,\n",
    "    xlabel=variable_name,\n",
    "    title='Distribution of %s, %s' % (variable_name, time_period))"
   ]
  },
  {
   "cell_type": "markdown",
   "metadata": {},
   "source": [
    "Data is very skewed... try a log10 for the y values"
   ]
  },
  {
   "cell_type": "code",
   "execution_count": 19,
   "metadata": {
    "ExecuteTime": {
     "end_time": "2022-04-15T17:35:12.864040Z",
     "start_time": "2022-04-15T17:35:12.645394Z"
    }
   },
   "outputs": [
    {
     "data": {
      "image/png": "[encoded data removed]",
      "text/plain": [
       "<Figure size 864x576 with 1 Axes>"
      ]
     },
     "metadata": {
      "needs_background": "light"
     },
     "output_type": "display_data"
    }
   ],
   "source": [
    "fig, ax = plot_histogram(\n",
    "    ts,\n",
    "    variable,\n",
    "    logy=True,\n",
    "    xlabel=variable_name,\n",
    "    title='Distribution of %s, %s' % (variable_name, time_period))"
   ]
  },
  {
   "cell_type": "markdown",
   "metadata": {},
   "source": [
    "Try a log10 x distribution.."
   ]
  },
  {
   "cell_type": "code",
   "execution_count": 20,
   "metadata": {
    "ExecuteTime": {
     "end_time": "2022-04-15T17:35:13.071615Z",
     "start_time": "2022-04-15T17:35:12.864727Z"
    }
   },
   "outputs": [
    {
     "data": {
      "image/png": "[encoded data removed]",
      "text/plain": [
       "<Figure size 864x576 with 1 Axes>"
      ]
     },
     "metadata": {
      "needs_background": "light"
     },
     "output_type": "display_data"
    }
   ],
   "source": [
    "fig, ax = plot_histogram(\n",
    "    ts,\n",
    "    variable,\n",
    "    logx=True,\n",
    "    xlabel=variable_name,\n",
    "    title='Distribution of %s, %s' % (variable_name, time_period))"
   ]
  },
  {
   "cell_type": "markdown",
   "metadata": {},
   "source": [
    "Normal-ish distribution -> yay, better for future modeling"
   ]
  },
  {
   "cell_type": "code",
   "execution_count": 21,
   "metadata": {
    "ExecuteTime": {
     "end_time": "2022-04-15T17:35:13.135644Z",
     "start_time": "2022-04-15T17:35:13.072397Z"
    }
   },
   "outputs": [],
   "source": [
    "fig.savefig(figplus(dateplus(f'{variable}-{time_period}-histogram.png')))"
   ]
  },
  {
   "cell_type": "markdown",
   "metadata": {},
   "source": [
    "# % increase in population by country"
   ]
  },
  {
   "cell_type": "markdown",
   "metadata": {},
   "source": [
    "## Slice data by `total_pop`"
   ]
  },
  {
   "cell_type": "code",
   "execution_count": 22,
   "metadata": {
    "ExecuteTime": {
     "end_time": "2022-04-15T17:35:13.138368Z",
     "start_time": "2022-04-15T17:35:13.136467Z"
    }
   },
   "outputs": [],
   "source": [
    "def slice_by_variable(df, variable):\n",
    "\n",
    "    if not isinstance(df, pd.DataFrame):\n",
    "        raise TypeError(\"Provided argument `df` is not a Panda's DataFrame object\")\n",
    "        \n",
    "    df = df[df.variable == variable]\n",
    "    df = df.pivot(index='country', columns='time_period', values='value')\n",
    "    return df"
   ]
  },
  {
   "cell_type": "code",
   "execution_count": 23,
   "metadata": {
    "ExecuteTime": {
     "end_time": "2022-04-15T17:35:13.151924Z",
     "start_time": "2022-04-15T17:35:13.138959Z"
    }
   },
   "outputs": [
    {
     "data": {
      "text/html": [
       "<div>\n",
       "<style scoped>\n",
       "    .dataframe tbody tr th:only-of-type {\n",
       "        vertical-align: middle;\n",
       "    }\n",
       "\n",
       "    .dataframe tbody tr th {\n",
       "        vertical-align: top;\n",
       "    }\n",
       "\n",
       "    .dataframe thead th {\n",
       "        text-align: right;\n",
       "    }\n",
       "</style>\n",
       "<table border=\"1\" class=\"dataframe\">\n",
       "  <thead>\n",
       "    <tr style=\"text-align: right;\">\n",
       "      <th>time_period</th>\n",
       "      <th>1958-1962</th>\n",
       "      <th>1963-1967</th>\n",
       "      <th>1968-1972</th>\n",
       "      <th>1973-1977</th>\n",
       "      <th>1978-1982</th>\n",
       "      <th>1983-1987</th>\n",
       "      <th>1988-1992</th>\n",
       "      <th>1993-1997</th>\n",
       "      <th>1998-2002</th>\n",
       "      <th>2003-2007</th>\n",
       "      <th>2008-2012</th>\n",
       "      <th>2013-2017</th>\n",
       "    </tr>\n",
       "    <tr>\n",
       "      <th>country</th>\n",
       "      <th></th>\n",
       "      <th></th>\n",
       "      <th></th>\n",
       "      <th></th>\n",
       "      <th></th>\n",
       "      <th></th>\n",
       "      <th></th>\n",
       "      <th></th>\n",
       "      <th></th>\n",
       "      <th></th>\n",
       "      <th></th>\n",
       "      <th></th>\n",
       "    </tr>\n",
       "  </thead>\n",
       "  <tbody>\n",
       "    <tr>\n",
       "      <th>Afghanistan</th>\n",
       "      <td>9344.00</td>\n",
       "      <td>10369.00</td>\n",
       "      <td>11717.00</td>\n",
       "      <td>13056.00</td>\n",
       "      <td>12667.00</td>\n",
       "      <td>11338.00</td>\n",
       "      <td>13746.0</td>\n",
       "      <td>18034.00</td>\n",
       "      <td>21487.00</td>\n",
       "      <td>25878.00</td>\n",
       "      <td>29727.00</td>\n",
       "      <td>32527.00</td>\n",
       "    </tr>\n",
       "    <tr>\n",
       "      <th>Albania</th>\n",
       "      <td>1738.00</td>\n",
       "      <td>1999.00</td>\n",
       "      <td>2254.00</td>\n",
       "      <td>2518.00</td>\n",
       "      <td>2788.00</td>\n",
       "      <td>3121.00</td>\n",
       "      <td>3241.0</td>\n",
       "      <td>3092.00</td>\n",
       "      <td>3123.00</td>\n",
       "      <td>3011.00</td>\n",
       "      <td>2881.00</td>\n",
       "      <td>2897.00</td>\n",
       "    </tr>\n",
       "    <tr>\n",
       "      <th>Algeria</th>\n",
       "      <td>11690.00</td>\n",
       "      <td>13354.00</td>\n",
       "      <td>15377.00</td>\n",
       "      <td>17690.00</td>\n",
       "      <td>20576.00</td>\n",
       "      <td>23918.00</td>\n",
       "      <td>27181.0</td>\n",
       "      <td>29888.00</td>\n",
       "      <td>31990.00</td>\n",
       "      <td>34262.00</td>\n",
       "      <td>37439.00</td>\n",
       "      <td>39667.00</td>\n",
       "    </tr>\n",
       "    <tr>\n",
       "      <th>Andorra</th>\n",
       "      <td>15.38</td>\n",
       "      <td>20.75</td>\n",
       "      <td>26.89</td>\n",
       "      <td>32.77</td>\n",
       "      <td>39.11</td>\n",
       "      <td>48.46</td>\n",
       "      <td>58.9</td>\n",
       "      <td>64.15</td>\n",
       "      <td>71.05</td>\n",
       "      <td>84.88</td>\n",
       "      <td>79.32</td>\n",
       "      <td>70.47</td>\n",
       "    </tr>\n",
       "    <tr>\n",
       "      <th>Angola</th>\n",
       "      <td>5466.00</td>\n",
       "      <td>5963.00</td>\n",
       "      <td>6588.00</td>\n",
       "      <td>7501.00</td>\n",
       "      <td>8808.00</td>\n",
       "      <td>10286.00</td>\n",
       "      <td>11849.0</td>\n",
       "      <td>13802.00</td>\n",
       "      <td>16110.00</td>\n",
       "      <td>19184.00</td>\n",
       "      <td>22686.00</td>\n",
       "      <td>25022.00</td>\n",
       "    </tr>\n",
       "  </tbody>\n",
       "</table>\n",
       "</div>"
      ],
      "text/plain": [
       "time_period  1958-1962  1963-1967  1968-1972  1973-1977  1978-1982  1983-1987  \\\n",
       "country                                                                         \n",
       "Afghanistan    9344.00   10369.00   11717.00   13056.00   12667.00   11338.00   \n",
       "Albania        1738.00    1999.00    2254.00    2518.00    2788.00    3121.00   \n",
       "Algeria       11690.00   13354.00   15377.00   17690.00   20576.00   23918.00   \n",
       "Andorra          15.38      20.75      26.89      32.77      39.11      48.46   \n",
       "Angola         5466.00    5963.00    6588.00    7501.00    8808.00   10286.00   \n",
       "\n",
       "time_period  1988-1992  1993-1997  1998-2002  2003-2007  2008-2012  2013-2017  \n",
       "country                                                                        \n",
       "Afghanistan    13746.0   18034.00   21487.00   25878.00   29727.00   32527.00  \n",
       "Albania         3241.0    3092.00    3123.00    3011.00    2881.00    2897.00  \n",
       "Algeria        27181.0   29888.00   31990.00   34262.00   37439.00   39667.00  \n",
       "Andorra           58.9      64.15      71.05      84.88      79.32      70.47  \n",
       "Angola         11849.0   13802.00   16110.00   19184.00   22686.00   25022.00  "
      ]
     },
     "execution_count": 23,
     "metadata": {},
     "output_type": "execute_result"
    }
   ],
   "source": [
    "total_pop = slice_by_variable(data, 'total_pop')\n",
    "total_pop.head()"
   ]
  },
  {
   "cell_type": "markdown",
   "metadata": {},
   "source": [
    "## Calcuate % increase by country "
   ]
  },
  {
   "cell_type": "markdown",
   "metadata": {},
   "source": [
    "Let's calculate relative change in population compared to initial population so we can compare relative change across countries"
   ]
  },
  {
   "cell_type": "code",
   "execution_count": 24,
   "metadata": {
    "ExecuteTime": {
     "end_time": "2022-04-15T17:35:13.155054Z",
     "start_time": "2022-04-15T17:35:13.152687Z"
    }
   },
   "outputs": [],
   "source": [
    "def calculate_percent_increase(df, return_top=10):\n",
    "\n",
    "    initial = df.apply(lambda x: x.dropna()[0],axis=1)\n",
    "\n",
    "    df_minus_initial = df.subtract(initial, axis=0)\n",
    "\n",
    "    percent_increase = df_minus_initial.divide(initial, axis=0)\n",
    "    \n",
    "    if return_top:\n",
    "        percent_increase = percent_increase.sort_values(by=df.columns[-1], ascending=False)\n",
    "        percent_increase = percent_increase.head(return_top)\n",
    "    \n",
    "    return percent_increase"
   ]
  },
  {
   "cell_type": "code",
   "execution_count": 25,
   "metadata": {
    "ExecuteTime": {
     "end_time": "2022-04-15T17:35:13.170433Z",
     "start_time": "2022-04-15T17:35:13.156225Z"
    }
   },
   "outputs": [
    {
     "data": {
      "text/html": [
       "<div>\n",
       "<style scoped>\n",
       "    .dataframe tbody tr th:only-of-type {\n",
       "        vertical-align: middle;\n",
       "    }\n",
       "\n",
       "    .dataframe tbody tr th {\n",
       "        vertical-align: top;\n",
       "    }\n",
       "\n",
       "    .dataframe thead th {\n",
       "        text-align: right;\n",
       "    }\n",
       "</style>\n",
       "<table border=\"1\" class=\"dataframe\">\n",
       "  <thead>\n",
       "    <tr style=\"text-align: right;\">\n",
       "      <th>time_period</th>\n",
       "      <th>1958-1962</th>\n",
       "      <th>1963-1967</th>\n",
       "      <th>1968-1972</th>\n",
       "      <th>1973-1977</th>\n",
       "      <th>1978-1982</th>\n",
       "      <th>1983-1987</th>\n",
       "      <th>1988-1992</th>\n",
       "      <th>1993-1997</th>\n",
       "      <th>1998-2002</th>\n",
       "      <th>2003-2007</th>\n",
       "      <th>2008-2012</th>\n",
       "      <th>2013-2017</th>\n",
       "    </tr>\n",
       "    <tr>\n",
       "      <th>country</th>\n",
       "      <th></th>\n",
       "      <th></th>\n",
       "      <th></th>\n",
       "      <th></th>\n",
       "      <th></th>\n",
       "      <th></th>\n",
       "      <th></th>\n",
       "      <th></th>\n",
       "      <th></th>\n",
       "      <th></th>\n",
       "      <th></th>\n",
       "      <th></th>\n",
       "    </tr>\n",
       "  </thead>\n",
       "  <tbody>\n",
       "    <tr>\n",
       "      <th>United Arab Emirates</th>\n",
       "      <td>0.0</td>\n",
       "      <td>0.531194</td>\n",
       "      <td>1.888592</td>\n",
       "      <td>5.442068</td>\n",
       "      <td>9.320856</td>\n",
       "      <td>12.538324</td>\n",
       "      <td>16.994652</td>\n",
       "      <td>22.128342</td>\n",
       "      <td>29.249554</td>\n",
       "      <td>52.565062</td>\n",
       "      <td>78.795009</td>\n",
       "      <td>80.613191</td>\n",
       "    </tr>\n",
       "    <tr>\n",
       "      <th>Qatar</th>\n",
       "      <td>0.0</td>\n",
       "      <td>0.533369</td>\n",
       "      <td>1.320698</td>\n",
       "      <td>2.246129</td>\n",
       "      <td>3.933262</td>\n",
       "      <td>6.533369</td>\n",
       "      <td>7.715074</td>\n",
       "      <td>8.400249</td>\n",
       "      <td>10.290265</td>\n",
       "      <td>19.982381</td>\n",
       "      <td>34.878270</td>\n",
       "      <td>38.775761</td>\n",
       "    </tr>\n",
       "    <tr>\n",
       "      <th>Kuwait</th>\n",
       "      <td>0.0</td>\n",
       "      <td>0.747613</td>\n",
       "      <td>1.585919</td>\n",
       "      <td>2.523270</td>\n",
       "      <td>3.531623</td>\n",
       "      <td>4.721957</td>\n",
       "      <td>4.695107</td>\n",
       "      <td>4.029833</td>\n",
       "      <td>5.091885</td>\n",
       "      <td>6.574582</td>\n",
       "      <td>9.202864</td>\n",
       "      <td>10.610979</td>\n",
       "    </tr>\n",
       "    <tr>\n",
       "      <th>Djibouti</th>\n",
       "      <td>0.0</td>\n",
       "      <td>0.394904</td>\n",
       "      <td>0.902335</td>\n",
       "      <td>1.946921</td>\n",
       "      <td>3.083864</td>\n",
       "      <td>4.154989</td>\n",
       "      <td>5.657113</td>\n",
       "      <td>6.278132</td>\n",
       "      <td>6.914013</td>\n",
       "      <td>7.485138</td>\n",
       "      <td>8.056263</td>\n",
       "      <td>8.425690</td>\n",
       "    </tr>\n",
       "    <tr>\n",
       "      <th>Bahrain</th>\n",
       "      <td>0.0</td>\n",
       "      <td>0.133449</td>\n",
       "      <td>0.326401</td>\n",
       "      <td>0.751589</td>\n",
       "      <td>1.229925</td>\n",
       "      <td>1.593876</td>\n",
       "      <td>2.020220</td>\n",
       "      <td>2.453495</td>\n",
       "      <td>3.190641</td>\n",
       "      <td>4.932987</td>\n",
       "      <td>6.706528</td>\n",
       "      <td>6.954939</td>\n",
       "    </tr>\n",
       "    <tr>\n",
       "      <th>Jordan</th>\n",
       "      <td>0.0</td>\n",
       "      <td>0.371001</td>\n",
       "      <td>0.882011</td>\n",
       "      <td>1.172829</td>\n",
       "      <td>1.558164</td>\n",
       "      <td>2.097216</td>\n",
       "      <td>2.888658</td>\n",
       "      <td>3.720607</td>\n",
       "      <td>4.129830</td>\n",
       "      <td>4.981512</td>\n",
       "      <td>6.264229</td>\n",
       "      <td>6.888450</td>\n",
       "    </tr>\n",
       "    <tr>\n",
       "      <th>Oman</th>\n",
       "      <td>0.0</td>\n",
       "      <td>0.140463</td>\n",
       "      <td>0.341396</td>\n",
       "      <td>0.689357</td>\n",
       "      <td>1.228749</td>\n",
       "      <td>1.800622</td>\n",
       "      <td>2.420871</td>\n",
       "      <td>2.849343</td>\n",
       "      <td>3.013476</td>\n",
       "      <td>3.481686</td>\n",
       "      <td>5.124741</td>\n",
       "      <td>6.759157</td>\n",
       "    </tr>\n",
       "    <tr>\n",
       "      <th>Saudi Arabia</th>\n",
       "      <td>0.0</td>\n",
       "      <td>0.190924</td>\n",
       "      <td>0.462755</td>\n",
       "      <td>0.901215</td>\n",
       "      <td>1.577813</td>\n",
       "      <td>2.355948</td>\n",
       "      <td>2.987852</td>\n",
       "      <td>3.540454</td>\n",
       "      <td>4.195508</td>\n",
       "      <td>4.978455</td>\n",
       "      <td>5.760486</td>\n",
       "      <td>6.228971</td>\n",
       "    </tr>\n",
       "    <tr>\n",
       "      <th>Côte d'Ivoire</th>\n",
       "      <td>0.0</td>\n",
       "      <td>0.227540</td>\n",
       "      <td>0.536898</td>\n",
       "      <td>0.935027</td>\n",
       "      <td>1.406952</td>\n",
       "      <td>1.925134</td>\n",
       "      <td>2.488503</td>\n",
       "      <td>3.089840</td>\n",
       "      <td>3.594920</td>\n",
       "      <td>4.043316</td>\n",
       "      <td>4.642513</td>\n",
       "      <td>5.070053</td>\n",
       "    </tr>\n",
       "    <tr>\n",
       "      <th>Niger</th>\n",
       "      <td>0.0</td>\n",
       "      <td>0.152071</td>\n",
       "      <td>0.321379</td>\n",
       "      <td>0.522380</td>\n",
       "      <td>0.751182</td>\n",
       "      <td>1.010842</td>\n",
       "      <td>1.346956</td>\n",
       "      <td>1.796497</td>\n",
       "      <td>2.357242</td>\n",
       "      <td>3.038921</td>\n",
       "      <td>3.902975</td>\n",
       "      <td>4.532110</td>\n",
       "    </tr>\n",
       "  </tbody>\n",
       "</table>\n",
       "</div>"
      ],
      "text/plain": [
       "time_period           1958-1962  1963-1967  1968-1972  1973-1977  1978-1982  \\\n",
       "country                                                                       \n",
       "United Arab Emirates        0.0   0.531194   1.888592   5.442068   9.320856   \n",
       "Qatar                       0.0   0.533369   1.320698   2.246129   3.933262   \n",
       "Kuwait                      0.0   0.747613   1.585919   2.523270   3.531623   \n",
       "Djibouti                    0.0   0.394904   0.902335   1.946921   3.083864   \n",
       "Bahrain                     0.0   0.133449   0.326401   0.751589   1.229925   \n",
       "Jordan                      0.0   0.371001   0.882011   1.172829   1.558164   \n",
       "Oman                        0.0   0.140463   0.341396   0.689357   1.228749   \n",
       "Saudi Arabia                0.0   0.190924   0.462755   0.901215   1.577813   \n",
       "Côte d'Ivoire               0.0   0.227540   0.536898   0.935027   1.406952   \n",
       "Niger                       0.0   0.152071   0.321379   0.522380   0.751182   \n",
       "\n",
       "time_period           1983-1987  1988-1992  1993-1997  1998-2002  2003-2007  \\\n",
       "country                                                                       \n",
       "United Arab Emirates  12.538324  16.994652  22.128342  29.249554  52.565062   \n",
       "Qatar                  6.533369   7.715074   8.400249  10.290265  19.982381   \n",
       "Kuwait                 4.721957   4.695107   4.029833   5.091885   6.574582   \n",
       "Djibouti               4.154989   5.657113   6.278132   6.914013   7.485138   \n",
       "Bahrain                1.593876   2.020220   2.453495   3.190641   4.932987   \n",
       "Jordan                 2.097216   2.888658   3.720607   4.129830   4.981512   \n",
       "Oman                   1.800622   2.420871   2.849343   3.013476   3.481686   \n",
       "Saudi Arabia           2.355948   2.987852   3.540454   4.195508   4.978455   \n",
       "Côte d'Ivoire          1.925134   2.488503   3.089840   3.594920   4.043316   \n",
       "Niger                  1.010842   1.346956   1.796497   2.357242   3.038921   \n",
       "\n",
       "time_period           2008-2012  2013-2017  \n",
       "country                                     \n",
       "United Arab Emirates  78.795009  80.613191  \n",
       "Qatar                 34.878270  38.775761  \n",
       "Kuwait                 9.202864  10.610979  \n",
       "Djibouti               8.056263   8.425690  \n",
       "Bahrain                6.706528   6.954939  \n",
       "Jordan                 6.264229   6.888450  \n",
       "Oman                   5.124741   6.759157  \n",
       "Saudi Arabia           5.760486   6.228971  \n",
       "Côte d'Ivoire          4.642513   5.070053  \n",
       "Niger                  3.902975   4.532110  "
      ]
     },
     "execution_count": 25,
     "metadata": {},
     "output_type": "execute_result"
    }
   ],
   "source": [
    "top_percent_increase = calculate_percent_increase(total_pop)\n",
    "top_percent_increase"
   ]
  },
  {
   "cell_type": "markdown",
   "metadata": {},
   "source": [
    "## Visualize % increase over time for the 10 countries with largest increase in population"
   ]
  },
  {
   "cell_type": "code",
   "execution_count": 26,
   "metadata": {
    "ExecuteTime": {
     "end_time": "2022-04-15T17:35:13.176387Z",
     "start_time": "2022-04-15T17:35:13.171575Z"
    }
   },
   "outputs": [],
   "source": [
    "def plot_heatmap(df,\n",
    "                 flip_df=True,\n",
    "                 percent_data=True,\n",
    "                 title=None,\n",
    "                 xlabel=None,\n",
    "                 ylabel=None,\n",
    "                 label_size=20,\n",
    "                 tick_label_size=16,\n",
    "                 cmap=None,\n",
    "                 xticklabels=None,\n",
    "                 yticklabels=None,\n",
    "                 figsize=None,\n",
    "                 xrotation=90,\n",
    "                 yrotation=0,\n",
    "                 **kwargs):\n",
    "\n",
    "    if figsize is None:\n",
    "        figsize = (16, 8)\n",
    "    \n",
    "    if xlabel is None:\n",
    "        xlabel = ' '.join(df.columns.name.split('_')).capitalize()\n",
    "    if ylabel is None:\n",
    "        ylabel = ' '.join(df.index.name.split('_')).capitalize()\n",
    "        \n",
    "    if cmap is None:\n",
    "        cmap = sns.cubehelix_palette(30, start=.5, rot=-.75)\n",
    "    \n",
    "    if 'cbar_kws' in kwargs:\n",
    "        cbar_kws = kwargs.pop('cbar_kws')\n",
    "    else:\n",
    "        cbar_kws = {}\n",
    "    \n",
    "    if percent_data:\n",
    "        cbar_kws['format'] = '%.0f%%'\n",
    "    \n",
    "    fig, ax = plt.subplots(figsize=figsize)\n",
    "    \n",
    "    if flip_df:\n",
    "        # Make top row of heatmap the same as top row of dataframe \n",
    "        df = df.iloc[::-1]\n",
    "    \n",
    "    ax = sns.heatmap(df, cmap=cmap, cbar_kws=cbar_kws, **kwargs)\n",
    "\n",
    "    yticklabels = df.index.tolist() if yticklabels is None else yticklabels\n",
    "    xticklabels = df.columns.tolist() if xticklabels is None else xticklabels\n",
    "    \n",
    "    ax.set_xticklabels(xticklabels, rotation=xrotation, size=tick_label_size)\n",
    "    ax.set_yticklabels(yticklabels, rotation=yrotation, size=tick_label_size)\n",
    "    \n",
    "    if title:\n",
    "        ax.set_title(title, size=label_size)\n",
    "    \n",
    "    ax.set_xlabel(xlabel, size=label_size)\n",
    "    ax.set_ylabel(ylabel, size=label_size)\n",
    "\n",
    "    ax.set_ylim([0, len(df)])\n",
    "\n",
    "    return fig, ax"
   ]
  },
  {
   "cell_type": "code",
   "execution_count": 27,
   "metadata": {
    "ExecuteTime": {
     "end_time": "2022-04-15T17:35:13.293913Z",
     "start_time": "2022-04-15T17:35:13.177641Z"
    }
   },
   "outputs": [
    {
     "data": {
      "image/png": "[encoded data removed]",
      "text/plain": [
       "<Figure size 1152x576 with 2 Axes>"
      ]
     },
     "metadata": {
      "needs_background": "light"
     },
     "output_type": "display_data"
    }
   ],
   "source": [
    "fig2, ax2 = plot_heatmap(\n",
    "    top_percent_increase,\n",
    "    percent_data=True,\n",
    "    title=\n",
    "    f'% increase in {variable_name.lower()} over time'\n",
    ")"
   ]
  },
  {
   "cell_type": "code",
   "execution_count": 28,
   "metadata": {
    "ExecuteTime": {
     "end_time": "2022-04-15T17:35:13.344592Z",
     "start_time": "2022-04-15T17:35:13.298436Z"
    }
   },
   "outputs": [],
   "source": [
    "fig2.savefig(figplus(dateplus(f'top-10-countries-percent-change-{variable}-over-time.png')))"
   ]
  },
  {
   "cell_type": "markdown",
   "metadata": {},
   "source": [
    "# Appendix"
   ]
  },
  {
   "cell_type": "code",
   "execution_count": 30,
   "metadata": {
    "ExecuteTime": {
     "end_time": "2022-04-15T17:35:23.959743Z",
     "start_time": "2022-04-15T17:35:23.829395Z"
    }
   },
   "outputs": [
    {
     "name": "stdout",
     "output_type": "stream",
     "text": [
      "Python implementation: CPython\n",
      "Python version       : 3.8.12\n",
      "IPython version      : 7.30.0\n",
      "\n",
      "Compiler    : Clang 11.1.0 \n",
      "OS          : Darwin\n",
      "Release     : 21.1.0\n",
      "Machine     : arm64\n",
      "Processor   : arm\n",
      "CPU cores   : 10\n",
      "Architecture: 64bit\n",
      "\n",
      "Git hash: 274764560e7f9d4bb06e2483dd29e1da14805fe0\n",
      "\n",
      "sys       : 3.8.12 | packaged by conda-forge | (default, Oct 12 2021, 21:21:17) \n",
      "[Clang 11.1.0 ]\n",
      "numpy     : 1.21.4\n",
      "pandas    : 1.3.4\n",
      "json      : 2.0.9\n",
      "matplotlib: 3.5.0\n",
      "seaborn   : 0.11.2\n",
      "\n"
     ]
    }
   ],
   "source": [
    "# #! pip install watermark\n",
    "# %load_ext watermark\n",
    "# %watermark -v -m --iversions -g"
   ]
  },
  {
   "cell_type": "code",
   "execution_count": null,
   "metadata": {},
   "outputs": [],
   "source": []
  }
 ],
 "metadata": {
  "kernelspec": {
   "display_name": "Python 3 (ipykernel)",
   "language": "python",
   "name": "python3"
  },
  "language_info": {
   "codemirror_mode": {
    "name": "ipython",
    "version": 3
   },
   "file_extension": ".py",
   "mimetype": "text/x-python",
   "name": "python",
   "nbconvert_exporter": "python",
   "pygments_lexer": "ipython3",
   "version": "3.8.12"
  },
  "nav_menu": {},
  "toc": {
   "base_numbering": 1,
   "nav_menu": {},
   "number_sections": true,
   "sideBar": true,
   "skip_h1_title": false,
   "title_cell": "Table of Contents",
   "title_sidebar": "Contents",
   "toc_cell": true,
   "toc_position": {
    "height": "calc(100% - 180px)",
    "left": "10px",
    "top": "150px",
    "width": "228px"
   },
   "toc_section_display": "block",
   "toc_window_display": false
  },
  "varInspector": {
   "cols": {
    "lenName": 16,
    "lenType": 16,
    "lenVar": 40
   },
   "kernels_config": {
    "python": {
     "delete_cmd_postfix": "",
     "delete_cmd_prefix": "del ",
     "library": "var_list.py",
     "varRefreshCmd": "print(var_dic_list())"
    },
    "r": {
     "delete_cmd_postfix": ") ",
     "delete_cmd_prefix": "rm(",
     "library": "var_list.r",
     "varRefreshCmd": "cat(var_dic_list()) "
    }
   },
   "types_to_exclude": [
    "module",
    "function",
    "builtin_function_or_method",
    "instance",
    "_Feature"
   ],
   "window_display": false
  }
 },
 "nbformat": 4,
 "nbformat_minor": 2
}
